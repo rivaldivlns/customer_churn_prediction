{
 "cells": [
  {
   "cell_type": "markdown",
   "metadata": {},
   "source": [
    "# **i. Introduction**"
   ]
  },
  {
   "cell_type": "markdown",
   "metadata": {},
   "source": [
    "Milestone 2\n",
    "\n",
    "Nama : Rivaldi Valensia\n",
    "\n",
    "Batch : HCK-007\n",
    "\n",
    "Link Huggingface : https://huggingface.co/spaces/Rivaldi/bank_customer_churn_prediction"
   ]
  },
  {
   "cell_type": "markdown",
   "metadata": {},
   "source": [
    "# **ii. Import Libraries**"
   ]
  },
  {
   "cell_type": "markdown",
   "metadata": {},
   "source": [
    "Bagian ini untuk mengimport library yang akan digunakan"
   ]
  },
  {
   "cell_type": "code",
   "execution_count": 1,
   "metadata": {},
   "outputs": [],
   "source": [
    "# Data Exploration\n",
    "import pandas as pd\n",
    "\n",
    "#Data Calculation\n",
    "import numpy as np\n",
    "\n",
    "# Data Visualization\n",
    "import seaborn as sns\n",
    "import matplotlib.pyplot as plt\n",
    "\n",
    "# Feature Engineering\n",
    "from sklearn.model_selection import train_test_split, cross_val_score\n",
    "from sklearn.preprocessing import StandardScaler, OrdinalEncoder\n",
    "from feature_engine.outliers import Winsorizer\n",
    "from sklearn.pipeline import Pipeline\n",
    "from sklearn.compose import ColumnTransformer\n",
    "from statsmodels.stats.outliers_influence import variance_inflation_factor\n",
    "from phik import phik_matrix\n",
    "from imblearn.under_sampling import RandomUnderSampler\n",
    "\n",
    "# Modelling \n",
    "from sklearn.neighbors import KNeighborsClassifier\n",
    "from sklearn import svm\n",
    "from sklearn.svm import SVC\n",
    "from sklearn.tree import DecisionTreeClassifier\n",
    "from sklearn.ensemble import RandomForestClassifier, AdaBoostClassifier\n",
    "\n",
    "# Model Evaluation\n",
    "from sklearn.metrics import classification_report,accuracy_score,confusion_matrix, recall_score, roc_auc_score, roc_curve, precision_score, f1_score\n",
    "\n",
    "#Hyperparameter Tuning \n",
    "from sklearn.model_selection import RandomizedSearchCV\n",
    "\n",
    "#Model Saving\n",
    "import pickle\n",
    "\n",
    "# Ignore Warnings\n",
    "import warnings\n",
    "warnings.filterwarnings(\"ignore\")\n"
   ]
  },
  {
   "cell_type": "markdown",
   "metadata": {},
   "source": [
    "# **iii. Data Loading**"
   ]
  },
  {
   "cell_type": "markdown",
   "metadata": {},
   "source": [
    "Bagian ini berisi proses penyiapan data sebelum dilakukan eksplorasi data lebih lanjut."
   ]
  },
  {
   "cell_type": "code",
   "execution_count": 2,
   "metadata": {},
   "outputs": [
    {
     "data": {
      "text/html": [
       "<div>\n",
       "<style scoped>\n",
       "    .dataframe tbody tr th:only-of-type {\n",
       "        vertical-align: middle;\n",
       "    }\n",
       "\n",
       "    .dataframe tbody tr th {\n",
       "        vertical-align: top;\n",
       "    }\n",
       "\n",
       "    .dataframe thead th {\n",
       "        text-align: right;\n",
       "    }\n",
       "</style>\n",
       "<table border=\"1\" class=\"dataframe\">\n",
       "  <thead>\n",
       "    <tr style=\"text-align: right;\">\n",
       "      <th></th>\n",
       "      <th>customer_id</th>\n",
       "      <th>credit_score</th>\n",
       "      <th>country</th>\n",
       "      <th>gender</th>\n",
       "      <th>age</th>\n",
       "      <th>tenure</th>\n",
       "      <th>balance</th>\n",
       "      <th>products_number</th>\n",
       "      <th>credit_card</th>\n",
       "      <th>active_member</th>\n",
       "      <th>estimated_salary</th>\n",
       "      <th>churn</th>\n",
       "    </tr>\n",
       "  </thead>\n",
       "  <tbody>\n",
       "    <tr>\n",
       "      <th>0</th>\n",
       "      <td>15634602</td>\n",
       "      <td>619</td>\n",
       "      <td>France</td>\n",
       "      <td>Female</td>\n",
       "      <td>42</td>\n",
       "      <td>2</td>\n",
       "      <td>0.00</td>\n",
       "      <td>1</td>\n",
       "      <td>1</td>\n",
       "      <td>1</td>\n",
       "      <td>101348.88</td>\n",
       "      <td>1</td>\n",
       "    </tr>\n",
       "    <tr>\n",
       "      <th>1</th>\n",
       "      <td>15647311</td>\n",
       "      <td>608</td>\n",
       "      <td>Spain</td>\n",
       "      <td>Female</td>\n",
       "      <td>41</td>\n",
       "      <td>1</td>\n",
       "      <td>83807.86</td>\n",
       "      <td>1</td>\n",
       "      <td>0</td>\n",
       "      <td>1</td>\n",
       "      <td>112542.58</td>\n",
       "      <td>0</td>\n",
       "    </tr>\n",
       "    <tr>\n",
       "      <th>2</th>\n",
       "      <td>15619304</td>\n",
       "      <td>502</td>\n",
       "      <td>France</td>\n",
       "      <td>Female</td>\n",
       "      <td>42</td>\n",
       "      <td>8</td>\n",
       "      <td>159660.80</td>\n",
       "      <td>3</td>\n",
       "      <td>1</td>\n",
       "      <td>0</td>\n",
       "      <td>113931.57</td>\n",
       "      <td>1</td>\n",
       "    </tr>\n",
       "    <tr>\n",
       "      <th>3</th>\n",
       "      <td>15701354</td>\n",
       "      <td>699</td>\n",
       "      <td>France</td>\n",
       "      <td>Female</td>\n",
       "      <td>39</td>\n",
       "      <td>1</td>\n",
       "      <td>0.00</td>\n",
       "      <td>2</td>\n",
       "      <td>0</td>\n",
       "      <td>0</td>\n",
       "      <td>93826.63</td>\n",
       "      <td>0</td>\n",
       "    </tr>\n",
       "    <tr>\n",
       "      <th>4</th>\n",
       "      <td>15737888</td>\n",
       "      <td>850</td>\n",
       "      <td>Spain</td>\n",
       "      <td>Female</td>\n",
       "      <td>43</td>\n",
       "      <td>2</td>\n",
       "      <td>125510.82</td>\n",
       "      <td>1</td>\n",
       "      <td>1</td>\n",
       "      <td>1</td>\n",
       "      <td>79084.10</td>\n",
       "      <td>0</td>\n",
       "    </tr>\n",
       "    <tr>\n",
       "      <th>...</th>\n",
       "      <td>...</td>\n",
       "      <td>...</td>\n",
       "      <td>...</td>\n",
       "      <td>...</td>\n",
       "      <td>...</td>\n",
       "      <td>...</td>\n",
       "      <td>...</td>\n",
       "      <td>...</td>\n",
       "      <td>...</td>\n",
       "      <td>...</td>\n",
       "      <td>...</td>\n",
       "      <td>...</td>\n",
       "    </tr>\n",
       "    <tr>\n",
       "      <th>9995</th>\n",
       "      <td>15606229</td>\n",
       "      <td>771</td>\n",
       "      <td>France</td>\n",
       "      <td>Male</td>\n",
       "      <td>39</td>\n",
       "      <td>5</td>\n",
       "      <td>0.00</td>\n",
       "      <td>2</td>\n",
       "      <td>1</td>\n",
       "      <td>0</td>\n",
       "      <td>96270.64</td>\n",
       "      <td>0</td>\n",
       "    </tr>\n",
       "    <tr>\n",
       "      <th>9996</th>\n",
       "      <td>15569892</td>\n",
       "      <td>516</td>\n",
       "      <td>France</td>\n",
       "      <td>Male</td>\n",
       "      <td>35</td>\n",
       "      <td>10</td>\n",
       "      <td>57369.61</td>\n",
       "      <td>1</td>\n",
       "      <td>1</td>\n",
       "      <td>1</td>\n",
       "      <td>101699.77</td>\n",
       "      <td>0</td>\n",
       "    </tr>\n",
       "    <tr>\n",
       "      <th>9997</th>\n",
       "      <td>15584532</td>\n",
       "      <td>709</td>\n",
       "      <td>France</td>\n",
       "      <td>Female</td>\n",
       "      <td>36</td>\n",
       "      <td>7</td>\n",
       "      <td>0.00</td>\n",
       "      <td>1</td>\n",
       "      <td>0</td>\n",
       "      <td>1</td>\n",
       "      <td>42085.58</td>\n",
       "      <td>1</td>\n",
       "    </tr>\n",
       "    <tr>\n",
       "      <th>9998</th>\n",
       "      <td>15682355</td>\n",
       "      <td>772</td>\n",
       "      <td>Germany</td>\n",
       "      <td>Male</td>\n",
       "      <td>42</td>\n",
       "      <td>3</td>\n",
       "      <td>75075.31</td>\n",
       "      <td>2</td>\n",
       "      <td>1</td>\n",
       "      <td>0</td>\n",
       "      <td>92888.52</td>\n",
       "      <td>1</td>\n",
       "    </tr>\n",
       "    <tr>\n",
       "      <th>9999</th>\n",
       "      <td>15628319</td>\n",
       "      <td>792</td>\n",
       "      <td>France</td>\n",
       "      <td>Female</td>\n",
       "      <td>28</td>\n",
       "      <td>4</td>\n",
       "      <td>130142.79</td>\n",
       "      <td>1</td>\n",
       "      <td>1</td>\n",
       "      <td>0</td>\n",
       "      <td>38190.78</td>\n",
       "      <td>0</td>\n",
       "    </tr>\n",
       "  </tbody>\n",
       "</table>\n",
       "<p>10000 rows × 12 columns</p>\n",
       "</div>"
      ],
      "text/plain": [
       "      customer_id  credit_score  country  gender  age  tenure    balance  \\\n",
       "0        15634602           619   France  Female   42       2       0.00   \n",
       "1        15647311           608    Spain  Female   41       1   83807.86   \n",
       "2        15619304           502   France  Female   42       8  159660.80   \n",
       "3        15701354           699   France  Female   39       1       0.00   \n",
       "4        15737888           850    Spain  Female   43       2  125510.82   \n",
       "...           ...           ...      ...     ...  ...     ...        ...   \n",
       "9995     15606229           771   France    Male   39       5       0.00   \n",
       "9996     15569892           516   France    Male   35      10   57369.61   \n",
       "9997     15584532           709   France  Female   36       7       0.00   \n",
       "9998     15682355           772  Germany    Male   42       3   75075.31   \n",
       "9999     15628319           792   France  Female   28       4  130142.79   \n",
       "\n",
       "      products_number  credit_card  active_member  estimated_salary  churn  \n",
       "0                   1            1              1         101348.88      1  \n",
       "1                   1            0              1         112542.58      0  \n",
       "2                   3            1              0         113931.57      1  \n",
       "3                   2            0              0          93826.63      0  \n",
       "4                   1            1              1          79084.10      0  \n",
       "...               ...          ...            ...               ...    ...  \n",
       "9995                2            1              0          96270.64      0  \n",
       "9996                1            1              1         101699.77      0  \n",
       "9997                1            0              1          42085.58      1  \n",
       "9998                2            1              0          92888.52      1  \n",
       "9999                1            1              0          38190.78      0  \n",
       "\n",
       "[10000 rows x 12 columns]"
      ]
     },
     "execution_count": 2,
     "metadata": {},
     "output_type": "execute_result"
    }
   ],
   "source": [
    "# Import CSV\n",
    "data_raw = pd.read_csv('/Users/valdi/Desktop/Milestone 2/deployment/data.csv')\n",
    "\n",
    "# Show result\n",
    "data_raw"
   ]
  },
  {
   "cell_type": "markdown",
   "metadata": {},
   "source": [
    "Dataset yang telah diubah menjadi csv lalu di import menggunakan library pandas dan dijadikan suatu dataframe berbentuk tabel"
   ]
  },
  {
   "cell_type": "markdown",
   "metadata": {},
   "source": [
    "# **iv. Exploratory Data Analysis (EDA)**"
   ]
  },
  {
   "cell_type": "markdown",
   "metadata": {},
   "source": [
    "Bagian ini berisi eksplorasi data pada dataset diatas dengan menggunakan query, grouping, visualisasi sederhana, dan lain sebagainya."
   ]
  },
  {
   "cell_type": "markdown",
   "metadata": {},
   "source": [
    "## A. Problem Overview"
   ]
  },
  {
   "cell_type": "markdown",
   "metadata": {},
   "source": [
    "Problem Definition : \n",
    "Customer churn adalah hilangnya pelanggan yang berpindah dari satu sektor ke pesaing lain dalam waktu tertentu. Industri perbankan yang termasuk kedalam sektor financial tentu menghadapi tantangan mengenai permasalahan churn ini. Customer churn ini tentu saja meresahkan apabila tidak ditangani karena akan beresiko dalam penurunan revenue perusahaan. Data customer bank yang berjumlah besar dapat dimanfaatkan untuk membangun model prediksi customer churn dengan menggunakan machine learning. Model prediksi yang dibangun dapat digunakan untuk strategi pelanggan guna meningkatkan customer retention.\n",
    "\n",
    "Objectives :\n",
    "- Mengurangi tingkat customer churn\n",
    "- Membuat model prediksi\n",
    "- Menganalisis ciri-ciri kemungkinan customer yang akan churn\n",
    "- Mengukur kinerja model"
   ]
  },
  {
   "cell_type": "markdown",
   "metadata": {},
   "source": [
    "## B. Data Understanding"
   ]
  },
  {
   "cell_type": "markdown",
   "metadata": {},
   "source": [
    "Langkah ini dilakukan guna memahami data dan pengecekan pola yang ada pada dataframe seperti pengecekan nama dan jumlah kolom, pengecekan missing value, pengecekan data duplikat dan lain-lain"
   ]
  },
  {
   "cell_type": "code",
   "execution_count": 3,
   "metadata": {},
   "outputs": [
    {
     "data": {
      "text/html": [
       "<div>\n",
       "<style scoped>\n",
       "    .dataframe tbody tr th:only-of-type {\n",
       "        vertical-align: middle;\n",
       "    }\n",
       "\n",
       "    .dataframe tbody tr th {\n",
       "        vertical-align: top;\n",
       "    }\n",
       "\n",
       "    .dataframe thead th {\n",
       "        text-align: right;\n",
       "    }\n",
       "</style>\n",
       "<table border=\"1\" class=\"dataframe\">\n",
       "  <thead>\n",
       "    <tr style=\"text-align: right;\">\n",
       "      <th></th>\n",
       "      <th>customer_id</th>\n",
       "      <th>credit_score</th>\n",
       "      <th>country</th>\n",
       "      <th>gender</th>\n",
       "      <th>age</th>\n",
       "      <th>tenure</th>\n",
       "      <th>balance</th>\n",
       "      <th>products_number</th>\n",
       "      <th>credit_card</th>\n",
       "      <th>active_member</th>\n",
       "      <th>estimated_salary</th>\n",
       "      <th>churn</th>\n",
       "    </tr>\n",
       "  </thead>\n",
       "  <tbody>\n",
       "    <tr>\n",
       "      <th>0</th>\n",
       "      <td>15634602</td>\n",
       "      <td>619</td>\n",
       "      <td>France</td>\n",
       "      <td>Female</td>\n",
       "      <td>42</td>\n",
       "      <td>2</td>\n",
       "      <td>0.00</td>\n",
       "      <td>1</td>\n",
       "      <td>1</td>\n",
       "      <td>1</td>\n",
       "      <td>101348.88</td>\n",
       "      <td>1</td>\n",
       "    </tr>\n",
       "    <tr>\n",
       "      <th>1</th>\n",
       "      <td>15647311</td>\n",
       "      <td>608</td>\n",
       "      <td>Spain</td>\n",
       "      <td>Female</td>\n",
       "      <td>41</td>\n",
       "      <td>1</td>\n",
       "      <td>83807.86</td>\n",
       "      <td>1</td>\n",
       "      <td>0</td>\n",
       "      <td>1</td>\n",
       "      <td>112542.58</td>\n",
       "      <td>0</td>\n",
       "    </tr>\n",
       "    <tr>\n",
       "      <th>2</th>\n",
       "      <td>15619304</td>\n",
       "      <td>502</td>\n",
       "      <td>France</td>\n",
       "      <td>Female</td>\n",
       "      <td>42</td>\n",
       "      <td>8</td>\n",
       "      <td>159660.80</td>\n",
       "      <td>3</td>\n",
       "      <td>1</td>\n",
       "      <td>0</td>\n",
       "      <td>113931.57</td>\n",
       "      <td>1</td>\n",
       "    </tr>\n",
       "    <tr>\n",
       "      <th>3</th>\n",
       "      <td>15701354</td>\n",
       "      <td>699</td>\n",
       "      <td>France</td>\n",
       "      <td>Female</td>\n",
       "      <td>39</td>\n",
       "      <td>1</td>\n",
       "      <td>0.00</td>\n",
       "      <td>2</td>\n",
       "      <td>0</td>\n",
       "      <td>0</td>\n",
       "      <td>93826.63</td>\n",
       "      <td>0</td>\n",
       "    </tr>\n",
       "    <tr>\n",
       "      <th>4</th>\n",
       "      <td>15737888</td>\n",
       "      <td>850</td>\n",
       "      <td>Spain</td>\n",
       "      <td>Female</td>\n",
       "      <td>43</td>\n",
       "      <td>2</td>\n",
       "      <td>125510.82</td>\n",
       "      <td>1</td>\n",
       "      <td>1</td>\n",
       "      <td>1</td>\n",
       "      <td>79084.10</td>\n",
       "      <td>0</td>\n",
       "    </tr>\n",
       "    <tr>\n",
       "      <th>5</th>\n",
       "      <td>15574012</td>\n",
       "      <td>645</td>\n",
       "      <td>Spain</td>\n",
       "      <td>Male</td>\n",
       "      <td>44</td>\n",
       "      <td>8</td>\n",
       "      <td>113755.78</td>\n",
       "      <td>2</td>\n",
       "      <td>1</td>\n",
       "      <td>0</td>\n",
       "      <td>149756.71</td>\n",
       "      <td>1</td>\n",
       "    </tr>\n",
       "    <tr>\n",
       "      <th>6</th>\n",
       "      <td>15592531</td>\n",
       "      <td>822</td>\n",
       "      <td>France</td>\n",
       "      <td>Male</td>\n",
       "      <td>50</td>\n",
       "      <td>7</td>\n",
       "      <td>0.00</td>\n",
       "      <td>2</td>\n",
       "      <td>1</td>\n",
       "      <td>1</td>\n",
       "      <td>10062.80</td>\n",
       "      <td>0</td>\n",
       "    </tr>\n",
       "    <tr>\n",
       "      <th>7</th>\n",
       "      <td>15656148</td>\n",
       "      <td>376</td>\n",
       "      <td>Germany</td>\n",
       "      <td>Female</td>\n",
       "      <td>29</td>\n",
       "      <td>4</td>\n",
       "      <td>115046.74</td>\n",
       "      <td>4</td>\n",
       "      <td>1</td>\n",
       "      <td>0</td>\n",
       "      <td>119346.88</td>\n",
       "      <td>1</td>\n",
       "    </tr>\n",
       "    <tr>\n",
       "      <th>8</th>\n",
       "      <td>15792365</td>\n",
       "      <td>501</td>\n",
       "      <td>France</td>\n",
       "      <td>Male</td>\n",
       "      <td>44</td>\n",
       "      <td>4</td>\n",
       "      <td>142051.07</td>\n",
       "      <td>2</td>\n",
       "      <td>0</td>\n",
       "      <td>1</td>\n",
       "      <td>74940.50</td>\n",
       "      <td>0</td>\n",
       "    </tr>\n",
       "    <tr>\n",
       "      <th>9</th>\n",
       "      <td>15592389</td>\n",
       "      <td>684</td>\n",
       "      <td>France</td>\n",
       "      <td>Male</td>\n",
       "      <td>27</td>\n",
       "      <td>2</td>\n",
       "      <td>134603.88</td>\n",
       "      <td>1</td>\n",
       "      <td>1</td>\n",
       "      <td>1</td>\n",
       "      <td>71725.73</td>\n",
       "      <td>0</td>\n",
       "    </tr>\n",
       "  </tbody>\n",
       "</table>\n",
       "</div>"
      ],
      "text/plain": [
       "   customer_id  credit_score  country  gender  age  tenure    balance  \\\n",
       "0     15634602           619   France  Female   42       2       0.00   \n",
       "1     15647311           608    Spain  Female   41       1   83807.86   \n",
       "2     15619304           502   France  Female   42       8  159660.80   \n",
       "3     15701354           699   France  Female   39       1       0.00   \n",
       "4     15737888           850    Spain  Female   43       2  125510.82   \n",
       "5     15574012           645    Spain    Male   44       8  113755.78   \n",
       "6     15592531           822   France    Male   50       7       0.00   \n",
       "7     15656148           376  Germany  Female   29       4  115046.74   \n",
       "8     15792365           501   France    Male   44       4  142051.07   \n",
       "9     15592389           684   France    Male   27       2  134603.88   \n",
       "\n",
       "   products_number  credit_card  active_member  estimated_salary  churn  \n",
       "0                1            1              1         101348.88      1  \n",
       "1                1            0              1         112542.58      0  \n",
       "2                3            1              0         113931.57      1  \n",
       "3                2            0              0          93826.63      0  \n",
       "4                1            1              1          79084.10      0  \n",
       "5                2            1              0         149756.71      1  \n",
       "6                2            1              1          10062.80      0  \n",
       "7                4            1              0         119346.88      1  \n",
       "8                2            0              1          74940.50      0  \n",
       "9                1            1              1          71725.73      0  "
      ]
     },
     "execution_count": 3,
     "metadata": {},
     "output_type": "execute_result"
    }
   ],
   "source": [
    "# Show top 10 data of dataset\n",
    "data_raw.head(10)"
   ]
  },
  {
   "cell_type": "markdown",
   "metadata": {},
   "source": [
    "Menampilkan 10 data teratas sesuai index dari dataframe"
   ]
  },
  {
   "cell_type": "code",
   "execution_count": 4,
   "metadata": {},
   "outputs": [
    {
     "data": {
      "text/html": [
       "<div>\n",
       "<style scoped>\n",
       "    .dataframe tbody tr th:only-of-type {\n",
       "        vertical-align: middle;\n",
       "    }\n",
       "\n",
       "    .dataframe tbody tr th {\n",
       "        vertical-align: top;\n",
       "    }\n",
       "\n",
       "    .dataframe thead th {\n",
       "        text-align: right;\n",
       "    }\n",
       "</style>\n",
       "<table border=\"1\" class=\"dataframe\">\n",
       "  <thead>\n",
       "    <tr style=\"text-align: right;\">\n",
       "      <th></th>\n",
       "      <th>customer_id</th>\n",
       "      <th>credit_score</th>\n",
       "      <th>country</th>\n",
       "      <th>gender</th>\n",
       "      <th>age</th>\n",
       "      <th>tenure</th>\n",
       "      <th>balance</th>\n",
       "      <th>products_number</th>\n",
       "      <th>credit_card</th>\n",
       "      <th>active_member</th>\n",
       "      <th>estimated_salary</th>\n",
       "      <th>churn</th>\n",
       "    </tr>\n",
       "  </thead>\n",
       "  <tbody>\n",
       "    <tr>\n",
       "      <th>9990</th>\n",
       "      <td>15798964</td>\n",
       "      <td>714</td>\n",
       "      <td>Germany</td>\n",
       "      <td>Male</td>\n",
       "      <td>33</td>\n",
       "      <td>3</td>\n",
       "      <td>35016.60</td>\n",
       "      <td>1</td>\n",
       "      <td>1</td>\n",
       "      <td>0</td>\n",
       "      <td>53667.08</td>\n",
       "      <td>0</td>\n",
       "    </tr>\n",
       "    <tr>\n",
       "      <th>9991</th>\n",
       "      <td>15769959</td>\n",
       "      <td>597</td>\n",
       "      <td>France</td>\n",
       "      <td>Female</td>\n",
       "      <td>53</td>\n",
       "      <td>4</td>\n",
       "      <td>88381.21</td>\n",
       "      <td>1</td>\n",
       "      <td>1</td>\n",
       "      <td>0</td>\n",
       "      <td>69384.71</td>\n",
       "      <td>1</td>\n",
       "    </tr>\n",
       "    <tr>\n",
       "      <th>9992</th>\n",
       "      <td>15657105</td>\n",
       "      <td>726</td>\n",
       "      <td>Spain</td>\n",
       "      <td>Male</td>\n",
       "      <td>36</td>\n",
       "      <td>2</td>\n",
       "      <td>0.00</td>\n",
       "      <td>1</td>\n",
       "      <td>1</td>\n",
       "      <td>0</td>\n",
       "      <td>195192.40</td>\n",
       "      <td>0</td>\n",
       "    </tr>\n",
       "    <tr>\n",
       "      <th>9993</th>\n",
       "      <td>15569266</td>\n",
       "      <td>644</td>\n",
       "      <td>France</td>\n",
       "      <td>Male</td>\n",
       "      <td>28</td>\n",
       "      <td>7</td>\n",
       "      <td>155060.41</td>\n",
       "      <td>1</td>\n",
       "      <td>1</td>\n",
       "      <td>0</td>\n",
       "      <td>29179.52</td>\n",
       "      <td>0</td>\n",
       "    </tr>\n",
       "    <tr>\n",
       "      <th>9994</th>\n",
       "      <td>15719294</td>\n",
       "      <td>800</td>\n",
       "      <td>France</td>\n",
       "      <td>Female</td>\n",
       "      <td>29</td>\n",
       "      <td>2</td>\n",
       "      <td>0.00</td>\n",
       "      <td>2</td>\n",
       "      <td>0</td>\n",
       "      <td>0</td>\n",
       "      <td>167773.55</td>\n",
       "      <td>0</td>\n",
       "    </tr>\n",
       "    <tr>\n",
       "      <th>9995</th>\n",
       "      <td>15606229</td>\n",
       "      <td>771</td>\n",
       "      <td>France</td>\n",
       "      <td>Male</td>\n",
       "      <td>39</td>\n",
       "      <td>5</td>\n",
       "      <td>0.00</td>\n",
       "      <td>2</td>\n",
       "      <td>1</td>\n",
       "      <td>0</td>\n",
       "      <td>96270.64</td>\n",
       "      <td>0</td>\n",
       "    </tr>\n",
       "    <tr>\n",
       "      <th>9996</th>\n",
       "      <td>15569892</td>\n",
       "      <td>516</td>\n",
       "      <td>France</td>\n",
       "      <td>Male</td>\n",
       "      <td>35</td>\n",
       "      <td>10</td>\n",
       "      <td>57369.61</td>\n",
       "      <td>1</td>\n",
       "      <td>1</td>\n",
       "      <td>1</td>\n",
       "      <td>101699.77</td>\n",
       "      <td>0</td>\n",
       "    </tr>\n",
       "    <tr>\n",
       "      <th>9997</th>\n",
       "      <td>15584532</td>\n",
       "      <td>709</td>\n",
       "      <td>France</td>\n",
       "      <td>Female</td>\n",
       "      <td>36</td>\n",
       "      <td>7</td>\n",
       "      <td>0.00</td>\n",
       "      <td>1</td>\n",
       "      <td>0</td>\n",
       "      <td>1</td>\n",
       "      <td>42085.58</td>\n",
       "      <td>1</td>\n",
       "    </tr>\n",
       "    <tr>\n",
       "      <th>9998</th>\n",
       "      <td>15682355</td>\n",
       "      <td>772</td>\n",
       "      <td>Germany</td>\n",
       "      <td>Male</td>\n",
       "      <td>42</td>\n",
       "      <td>3</td>\n",
       "      <td>75075.31</td>\n",
       "      <td>2</td>\n",
       "      <td>1</td>\n",
       "      <td>0</td>\n",
       "      <td>92888.52</td>\n",
       "      <td>1</td>\n",
       "    </tr>\n",
       "    <tr>\n",
       "      <th>9999</th>\n",
       "      <td>15628319</td>\n",
       "      <td>792</td>\n",
       "      <td>France</td>\n",
       "      <td>Female</td>\n",
       "      <td>28</td>\n",
       "      <td>4</td>\n",
       "      <td>130142.79</td>\n",
       "      <td>1</td>\n",
       "      <td>1</td>\n",
       "      <td>0</td>\n",
       "      <td>38190.78</td>\n",
       "      <td>0</td>\n",
       "    </tr>\n",
       "  </tbody>\n",
       "</table>\n",
       "</div>"
      ],
      "text/plain": [
       "      customer_id  credit_score  country  gender  age  tenure    balance  \\\n",
       "9990     15798964           714  Germany    Male   33       3   35016.60   \n",
       "9991     15769959           597   France  Female   53       4   88381.21   \n",
       "9992     15657105           726    Spain    Male   36       2       0.00   \n",
       "9993     15569266           644   France    Male   28       7  155060.41   \n",
       "9994     15719294           800   France  Female   29       2       0.00   \n",
       "9995     15606229           771   France    Male   39       5       0.00   \n",
       "9996     15569892           516   France    Male   35      10   57369.61   \n",
       "9997     15584532           709   France  Female   36       7       0.00   \n",
       "9998     15682355           772  Germany    Male   42       3   75075.31   \n",
       "9999     15628319           792   France  Female   28       4  130142.79   \n",
       "\n",
       "      products_number  credit_card  active_member  estimated_salary  churn  \n",
       "9990                1            1              0          53667.08      0  \n",
       "9991                1            1              0          69384.71      1  \n",
       "9992                1            1              0         195192.40      0  \n",
       "9993                1            1              0          29179.52      0  \n",
       "9994                2            0              0         167773.55      0  \n",
       "9995                2            1              0          96270.64      0  \n",
       "9996                1            1              1         101699.77      0  \n",
       "9997                1            0              1          42085.58      1  \n",
       "9998                2            1              0          92888.52      1  \n",
       "9999                1            1              0          38190.78      0  "
      ]
     },
     "execution_count": 4,
     "metadata": {},
     "output_type": "execute_result"
    }
   ],
   "source": [
    "# Show latest 10 data of dataset\n",
    "data_raw.tail(10)"
   ]
  },
  {
   "cell_type": "markdown",
   "metadata": {},
   "source": [
    "Menampilkan 10 data terakhir sesuai index dari dataframe"
   ]
  },
  {
   "cell_type": "code",
   "execution_count": 5,
   "metadata": {},
   "outputs": [
    {
     "name": "stdout",
     "output_type": "stream",
     "text": [
      "<class 'pandas.core.frame.DataFrame'>\n",
      "RangeIndex: 10000 entries, 0 to 9999\n",
      "Data columns (total 12 columns):\n",
      " #   Column            Non-Null Count  Dtype  \n",
      "---  ------            --------------  -----  \n",
      " 0   customer_id       10000 non-null  int64  \n",
      " 1   credit_score      10000 non-null  int64  \n",
      " 2   country           10000 non-null  object \n",
      " 3   gender            10000 non-null  object \n",
      " 4   age               10000 non-null  int64  \n",
      " 5   tenure            10000 non-null  int64  \n",
      " 6   balance           10000 non-null  float64\n",
      " 7   products_number   10000 non-null  int64  \n",
      " 8   credit_card       10000 non-null  int64  \n",
      " 9   active_member     10000 non-null  int64  \n",
      " 10  estimated_salary  10000 non-null  float64\n",
      " 11  churn             10000 non-null  int64  \n",
      "dtypes: float64(2), int64(8), object(2)\n",
      "memory usage: 937.6+ KB\n"
     ]
    }
   ],
   "source": [
    "#Show basic information\n",
    "data_raw.info()"
   ]
  },
  {
   "cell_type": "markdown",
   "metadata": {},
   "source": [
    "Menampilkan informasi dasar mengenai dataframe seperti nama kolom, tipe data dan lain-lain"
   ]
  },
  {
   "cell_type": "code",
   "execution_count": 6,
   "metadata": {},
   "outputs": [
    {
     "data": {
      "text/plain": [
       "(10000, 12)"
      ]
     },
     "execution_count": 6,
     "metadata": {},
     "output_type": "execute_result"
    }
   ],
   "source": [
    "# Show shape of dataframe\n",
    "data_raw.shape"
   ]
  },
  {
   "cell_type": "markdown",
   "metadata": {},
   "source": [
    "Menampilkan ukuran tabel yang mempunyai 10000 baris dan 12 kolom"
   ]
  },
  {
   "cell_type": "code",
   "execution_count": 7,
   "metadata": {},
   "outputs": [
    {
     "data": {
      "text/plain": [
       "Index(['customer_id', 'credit_score', 'country', 'gender', 'age', 'tenure',\n",
       "       'balance', 'products_number', 'credit_card', 'active_member',\n",
       "       'estimated_salary', 'churn'],\n",
       "      dtype='object')"
      ]
     },
     "execution_count": 7,
     "metadata": {},
     "output_type": "execute_result"
    }
   ],
   "source": [
    "# Show name of all columns\n",
    "data_raw.columns"
   ]
  },
  {
   "cell_type": "markdown",
   "metadata": {},
   "source": [
    "Menampilkan nama kolom secara keseluruhan"
   ]
  },
  {
   "cell_type": "markdown",
   "metadata": {},
   "source": [
    "**Keterangan nama kolom pada dataframe |**\n",
    "\n",
    "| Nama Kolom                  | Keterangan                                                                   |\n",
    "| --------------------------- | ---------------------------------------------------------------------------- |\n",
    "| customer_id | Nomor identifikasi unik untuk setiap pelanggan |\n",
    "| credit_score | Skor kredit pelanggan, yang mengindikasikan seberapa baik pelanggan memiliki catatan kredit |\n",
    "| country | Negara tempat pelanggan tinggal atau terdaftar|\n",
    "| gender | Jenis kelamin pelanggan (misalnya, pria atau wanita)|\n",
    "| age | Usia nasabah |\n",
    "| tenure | Jumlah tahun pelanggan telah menjadi nasabah bank|\n",
    "| balance | Saldo akun pelanggan di bank|\n",
    "| products_number | Jumlah produk atau layanan yang dimiliki oleh pelanggan di bank|\n",
    "| credit_card | Indikator apakah pelanggan memiliki kartu kredit (ya/tidak)|\n",
    "| active_member | Indikator apakah pelanggan adalah anggota aktif bank (ya/tidak)|\n",
    "| estimated_salary | Estimasi gaji tahunan pelanggan|\n",
    "| churn | Variabel target yang menunjukkan apakah pelanggan telah melakukan churn (pindah dari bank) atau tidak (0 untuk tidak churn, 1 untuk churn)|"
   ]
  },
  {
   "cell_type": "code",
   "execution_count": 8,
   "metadata": {},
   "outputs": [],
   "source": [
    "# # Selects numeric columns\n",
    "numeric = data_raw.select_dtypes(include=['int64', 'float64']).columns\n",
    "\n",
    "# Selects categorical columns\n",
    "object = data_raw.select_dtypes(include=['object']).columns"
   ]
  },
  {
   "cell_type": "markdown",
   "metadata": {},
   "source": [
    "Membagi dataframe berdasarkan tipe data pada kolomnya nya yaitu numerical dan categorical"
   ]
  },
  {
   "cell_type": "code",
   "execution_count": 9,
   "metadata": {},
   "outputs": [
    {
     "name": "stdout",
     "output_type": "stream",
     "text": [
      "Jumlah kolom yang bertipe data numerikal adalah : 10 kolom \n",
      " \n",
      " Index(['customer_id', 'credit_score', 'age', 'tenure', 'balance',\n",
      "       'products_number', 'credit_card', 'active_member', 'estimated_salary',\n",
      "       'churn'],\n",
      "      dtype='object')\n"
     ]
    }
   ],
   "source": [
    "# Define variable\n",
    "num = numeric.shape[0]\n",
    "\n",
    "# Showing number of columns with numeric data type\n",
    "print(f\"Jumlah kolom yang bertipe data numerikal adalah :\", num, \"kolom\", \"\\n\",\"\\n\", numeric)"
   ]
  },
  {
   "cell_type": "markdown",
   "metadata": {},
   "source": [
    "Menampilkan jumlah kolom dan nama kolom secara keseluruhan yang bertipe data numerical"
   ]
  },
  {
   "cell_type": "code",
   "execution_count": 10,
   "metadata": {},
   "outputs": [
    {
     "name": "stdout",
     "output_type": "stream",
     "text": [
      "Jumlah kolom yang bertipe data object adalah : 2 kolom \n",
      " \n",
      " Index(['country', 'gender'], dtype='object')\n"
     ]
    }
   ],
   "source": [
    "# Define variable\n",
    "obj = object.shape[0]\n",
    "\n",
    "# Showing number of columns with numeric data type\n",
    "print(f\"Jumlah kolom yang bertipe data object adalah :\",obj, \"kolom\", \"\\n\",\"\\n\",object)"
   ]
  },
  {
   "cell_type": "markdown",
   "metadata": {},
   "source": [
    "Menampilkan jumlah kolom dan nama kolom secara keseluruhan yang bertipe data categorical."
   ]
  },
  {
   "cell_type": "code",
   "execution_count": 11,
   "metadata": {},
   "outputs": [
    {
     "data": {
      "text/plain": [
       "0"
      ]
     },
     "execution_count": 11,
     "metadata": {},
     "output_type": "execute_result"
    }
   ],
   "source": [
    "# Check duplicate rows\n",
    "data_raw.duplicated().sum()"
   ]
  },
  {
   "cell_type": "markdown",
   "metadata": {},
   "source": [
    "Mengecek jumlah data yang terduplikasi pada dataframe. Tidak ada data duplikat"
   ]
  },
  {
   "cell_type": "code",
   "execution_count": 12,
   "metadata": {},
   "outputs": [
    {
     "data": {
      "text/plain": [
       "customer_id         0\n",
       "credit_score        0\n",
       "country             0\n",
       "gender              0\n",
       "age                 0\n",
       "tenure              0\n",
       "balance             0\n",
       "products_number     0\n",
       "credit_card         0\n",
       "active_member       0\n",
       "estimated_salary    0\n",
       "churn               0\n",
       "dtype: int64"
      ]
     },
     "execution_count": 12,
     "metadata": {},
     "output_type": "execute_result"
    }
   ],
   "source": [
    "# Check missing value\n",
    "data_raw.isnull().sum()"
   ]
  },
  {
   "cell_type": "markdown",
   "metadata": {},
   "source": [
    "Tidak ada missing value"
   ]
  },
  {
   "cell_type": "code",
   "execution_count": 13,
   "metadata": {},
   "outputs": [
    {
     "data": {
      "text/html": [
       "<div>\n",
       "<style scoped>\n",
       "    .dataframe tbody tr th:only-of-type {\n",
       "        vertical-align: middle;\n",
       "    }\n",
       "\n",
       "    .dataframe tbody tr th {\n",
       "        vertical-align: top;\n",
       "    }\n",
       "\n",
       "    .dataframe thead th {\n",
       "        text-align: right;\n",
       "    }\n",
       "</style>\n",
       "<table border=\"1\" class=\"dataframe\">\n",
       "  <thead>\n",
       "    <tr style=\"text-align: right;\">\n",
       "      <th></th>\n",
       "      <th>count</th>\n",
       "      <th>mean</th>\n",
       "      <th>std</th>\n",
       "      <th>min</th>\n",
       "      <th>25%</th>\n",
       "      <th>50%</th>\n",
       "      <th>75%</th>\n",
       "      <th>max</th>\n",
       "    </tr>\n",
       "  </thead>\n",
       "  <tbody>\n",
       "    <tr>\n",
       "      <th>customer_id</th>\n",
       "      <td>10000.0</td>\n",
       "      <td>1.569094e+07</td>\n",
       "      <td>71936.186123</td>\n",
       "      <td>15565701.00</td>\n",
       "      <td>15628528.25</td>\n",
       "      <td>1.569074e+07</td>\n",
       "      <td>1.575323e+07</td>\n",
       "      <td>15815690.00</td>\n",
       "    </tr>\n",
       "    <tr>\n",
       "      <th>credit_score</th>\n",
       "      <td>10000.0</td>\n",
       "      <td>6.505288e+02</td>\n",
       "      <td>96.653299</td>\n",
       "      <td>350.00</td>\n",
       "      <td>584.00</td>\n",
       "      <td>6.520000e+02</td>\n",
       "      <td>7.180000e+02</td>\n",
       "      <td>850.00</td>\n",
       "    </tr>\n",
       "    <tr>\n",
       "      <th>age</th>\n",
       "      <td>10000.0</td>\n",
       "      <td>3.892180e+01</td>\n",
       "      <td>10.487806</td>\n",
       "      <td>18.00</td>\n",
       "      <td>32.00</td>\n",
       "      <td>3.700000e+01</td>\n",
       "      <td>4.400000e+01</td>\n",
       "      <td>92.00</td>\n",
       "    </tr>\n",
       "    <tr>\n",
       "      <th>tenure</th>\n",
       "      <td>10000.0</td>\n",
       "      <td>5.012800e+00</td>\n",
       "      <td>2.892174</td>\n",
       "      <td>0.00</td>\n",
       "      <td>3.00</td>\n",
       "      <td>5.000000e+00</td>\n",
       "      <td>7.000000e+00</td>\n",
       "      <td>10.00</td>\n",
       "    </tr>\n",
       "    <tr>\n",
       "      <th>balance</th>\n",
       "      <td>10000.0</td>\n",
       "      <td>7.648589e+04</td>\n",
       "      <td>62397.405202</td>\n",
       "      <td>0.00</td>\n",
       "      <td>0.00</td>\n",
       "      <td>9.719854e+04</td>\n",
       "      <td>1.276442e+05</td>\n",
       "      <td>250898.09</td>\n",
       "    </tr>\n",
       "    <tr>\n",
       "      <th>products_number</th>\n",
       "      <td>10000.0</td>\n",
       "      <td>1.530200e+00</td>\n",
       "      <td>0.581654</td>\n",
       "      <td>1.00</td>\n",
       "      <td>1.00</td>\n",
       "      <td>1.000000e+00</td>\n",
       "      <td>2.000000e+00</td>\n",
       "      <td>4.00</td>\n",
       "    </tr>\n",
       "    <tr>\n",
       "      <th>credit_card</th>\n",
       "      <td>10000.0</td>\n",
       "      <td>7.055000e-01</td>\n",
       "      <td>0.455840</td>\n",
       "      <td>0.00</td>\n",
       "      <td>0.00</td>\n",
       "      <td>1.000000e+00</td>\n",
       "      <td>1.000000e+00</td>\n",
       "      <td>1.00</td>\n",
       "    </tr>\n",
       "    <tr>\n",
       "      <th>active_member</th>\n",
       "      <td>10000.0</td>\n",
       "      <td>5.151000e-01</td>\n",
       "      <td>0.499797</td>\n",
       "      <td>0.00</td>\n",
       "      <td>0.00</td>\n",
       "      <td>1.000000e+00</td>\n",
       "      <td>1.000000e+00</td>\n",
       "      <td>1.00</td>\n",
       "    </tr>\n",
       "    <tr>\n",
       "      <th>estimated_salary</th>\n",
       "      <td>10000.0</td>\n",
       "      <td>1.000902e+05</td>\n",
       "      <td>57510.492818</td>\n",
       "      <td>11.58</td>\n",
       "      <td>51002.11</td>\n",
       "      <td>1.001939e+05</td>\n",
       "      <td>1.493882e+05</td>\n",
       "      <td>199992.48</td>\n",
       "    </tr>\n",
       "    <tr>\n",
       "      <th>churn</th>\n",
       "      <td>10000.0</td>\n",
       "      <td>2.037000e-01</td>\n",
       "      <td>0.402769</td>\n",
       "      <td>0.00</td>\n",
       "      <td>0.00</td>\n",
       "      <td>0.000000e+00</td>\n",
       "      <td>0.000000e+00</td>\n",
       "      <td>1.00</td>\n",
       "    </tr>\n",
       "  </tbody>\n",
       "</table>\n",
       "</div>"
      ],
      "text/plain": [
       "                    count          mean           std          min  \\\n",
       "customer_id       10000.0  1.569094e+07  71936.186123  15565701.00   \n",
       "credit_score      10000.0  6.505288e+02     96.653299       350.00   \n",
       "age               10000.0  3.892180e+01     10.487806        18.00   \n",
       "tenure            10000.0  5.012800e+00      2.892174         0.00   \n",
       "balance           10000.0  7.648589e+04  62397.405202         0.00   \n",
       "products_number   10000.0  1.530200e+00      0.581654         1.00   \n",
       "credit_card       10000.0  7.055000e-01      0.455840         0.00   \n",
       "active_member     10000.0  5.151000e-01      0.499797         0.00   \n",
       "estimated_salary  10000.0  1.000902e+05  57510.492818        11.58   \n",
       "churn             10000.0  2.037000e-01      0.402769         0.00   \n",
       "\n",
       "                          25%           50%           75%          max  \n",
       "customer_id       15628528.25  1.569074e+07  1.575323e+07  15815690.00  \n",
       "credit_score           584.00  6.520000e+02  7.180000e+02       850.00  \n",
       "age                     32.00  3.700000e+01  4.400000e+01        92.00  \n",
       "tenure                   3.00  5.000000e+00  7.000000e+00        10.00  \n",
       "balance                  0.00  9.719854e+04  1.276442e+05    250898.09  \n",
       "products_number          1.00  1.000000e+00  2.000000e+00         4.00  \n",
       "credit_card              0.00  1.000000e+00  1.000000e+00         1.00  \n",
       "active_member            0.00  1.000000e+00  1.000000e+00         1.00  \n",
       "estimated_salary     51002.11  1.001939e+05  1.493882e+05    199992.48  \n",
       "churn                    0.00  0.000000e+00  0.000000e+00         1.00  "
      ]
     },
     "execution_count": 13,
     "metadata": {},
     "output_type": "execute_result"
    }
   ],
   "source": [
    "# Showing descriptive statistics for numeric columns\n",
    "data_raw[numeric].describe().T"
   ]
  },
  {
   "cell_type": "markdown",
   "metadata": {},
   "source": [
    "Mengecek ringkasan statistik seperti nilai rata-rata, nilai minimum dan maksimum pada data yang bertipe numerical"
   ]
  },
  {
   "cell_type": "code",
   "execution_count": 14,
   "metadata": {},
   "outputs": [
    {
     "data": {
      "text/plain": [
       "customer_id         10000\n",
       "credit_score          460\n",
       "country                 3\n",
       "gender                  2\n",
       "age                    70\n",
       "tenure                 11\n",
       "balance              6382\n",
       "products_number         4\n",
       "credit_card             2\n",
       "active_member           2\n",
       "estimated_salary     9999\n",
       "churn                   2\n",
       "dtype: int64"
      ]
     },
     "execution_count": 14,
     "metadata": {},
     "output_type": "execute_result"
    }
   ],
   "source": [
    "# Returns the number of unique values ​​in each column of data_raw\n",
    "data_raw.nunique()"
   ]
  },
  {
   "cell_type": "markdown",
   "metadata": {},
   "source": [
    "Menampilkan jumlah unik value yang ada di setiap kolom.\n",
    "\n",
    "Kolom products_number, credit_card, active_member dan churn walaupun bertipe data numerical tetapi mempunyai sedikit unique values, maka kolom-kolom tersebut dianggap bertipe categorical karena tidak continues values."
   ]
  },
  {
   "cell_type": "markdown",
   "metadata": {},
   "source": [
    "## C. Data Cleaning"
   ]
  },
  {
   "cell_type": "markdown",
   "metadata": {},
   "source": [
    "Pada langkah ini akan dilakukan pembersihan data, guna menyiapkan data agar dapat digunakan untuk membuat model klasifikasi. Langkah yang akan dilakukan pada data cleaning seperti penghapusan kolom yang tidak terpakai.\n"
   ]
  },
  {
   "cell_type": "markdown",
   "metadata": {},
   "source": [
    "### 1. Drop columns"
   ]
  },
  {
   "cell_type": "code",
   "execution_count": 15,
   "metadata": {},
   "outputs": [
    {
     "data": {
      "text/html": [
       "<div>\n",
       "<style scoped>\n",
       "    .dataframe tbody tr th:only-of-type {\n",
       "        vertical-align: middle;\n",
       "    }\n",
       "\n",
       "    .dataframe tbody tr th {\n",
       "        vertical-align: top;\n",
       "    }\n",
       "\n",
       "    .dataframe thead th {\n",
       "        text-align: right;\n",
       "    }\n",
       "</style>\n",
       "<table border=\"1\" class=\"dataframe\">\n",
       "  <thead>\n",
       "    <tr style=\"text-align: right;\">\n",
       "      <th></th>\n",
       "      <th>credit_score</th>\n",
       "      <th>country</th>\n",
       "      <th>gender</th>\n",
       "      <th>age</th>\n",
       "      <th>tenure</th>\n",
       "      <th>balance</th>\n",
       "      <th>products_number</th>\n",
       "      <th>credit_card</th>\n",
       "      <th>active_member</th>\n",
       "      <th>estimated_salary</th>\n",
       "      <th>churn</th>\n",
       "    </tr>\n",
       "  </thead>\n",
       "  <tbody>\n",
       "    <tr>\n",
       "      <th>0</th>\n",
       "      <td>619</td>\n",
       "      <td>France</td>\n",
       "      <td>Female</td>\n",
       "      <td>42</td>\n",
       "      <td>2</td>\n",
       "      <td>0.00</td>\n",
       "      <td>1</td>\n",
       "      <td>1</td>\n",
       "      <td>1</td>\n",
       "      <td>101348.88</td>\n",
       "      <td>1</td>\n",
       "    </tr>\n",
       "    <tr>\n",
       "      <th>1</th>\n",
       "      <td>608</td>\n",
       "      <td>Spain</td>\n",
       "      <td>Female</td>\n",
       "      <td>41</td>\n",
       "      <td>1</td>\n",
       "      <td>83807.86</td>\n",
       "      <td>1</td>\n",
       "      <td>0</td>\n",
       "      <td>1</td>\n",
       "      <td>112542.58</td>\n",
       "      <td>0</td>\n",
       "    </tr>\n",
       "    <tr>\n",
       "      <th>2</th>\n",
       "      <td>502</td>\n",
       "      <td>France</td>\n",
       "      <td>Female</td>\n",
       "      <td>42</td>\n",
       "      <td>8</td>\n",
       "      <td>159660.80</td>\n",
       "      <td>3</td>\n",
       "      <td>1</td>\n",
       "      <td>0</td>\n",
       "      <td>113931.57</td>\n",
       "      <td>1</td>\n",
       "    </tr>\n",
       "    <tr>\n",
       "      <th>3</th>\n",
       "      <td>699</td>\n",
       "      <td>France</td>\n",
       "      <td>Female</td>\n",
       "      <td>39</td>\n",
       "      <td>1</td>\n",
       "      <td>0.00</td>\n",
       "      <td>2</td>\n",
       "      <td>0</td>\n",
       "      <td>0</td>\n",
       "      <td>93826.63</td>\n",
       "      <td>0</td>\n",
       "    </tr>\n",
       "    <tr>\n",
       "      <th>4</th>\n",
       "      <td>850</td>\n",
       "      <td>Spain</td>\n",
       "      <td>Female</td>\n",
       "      <td>43</td>\n",
       "      <td>2</td>\n",
       "      <td>125510.82</td>\n",
       "      <td>1</td>\n",
       "      <td>1</td>\n",
       "      <td>1</td>\n",
       "      <td>79084.10</td>\n",
       "      <td>0</td>\n",
       "    </tr>\n",
       "    <tr>\n",
       "      <th>...</th>\n",
       "      <td>...</td>\n",
       "      <td>...</td>\n",
       "      <td>...</td>\n",
       "      <td>...</td>\n",
       "      <td>...</td>\n",
       "      <td>...</td>\n",
       "      <td>...</td>\n",
       "      <td>...</td>\n",
       "      <td>...</td>\n",
       "      <td>...</td>\n",
       "      <td>...</td>\n",
       "    </tr>\n",
       "    <tr>\n",
       "      <th>9995</th>\n",
       "      <td>771</td>\n",
       "      <td>France</td>\n",
       "      <td>Male</td>\n",
       "      <td>39</td>\n",
       "      <td>5</td>\n",
       "      <td>0.00</td>\n",
       "      <td>2</td>\n",
       "      <td>1</td>\n",
       "      <td>0</td>\n",
       "      <td>96270.64</td>\n",
       "      <td>0</td>\n",
       "    </tr>\n",
       "    <tr>\n",
       "      <th>9996</th>\n",
       "      <td>516</td>\n",
       "      <td>France</td>\n",
       "      <td>Male</td>\n",
       "      <td>35</td>\n",
       "      <td>10</td>\n",
       "      <td>57369.61</td>\n",
       "      <td>1</td>\n",
       "      <td>1</td>\n",
       "      <td>1</td>\n",
       "      <td>101699.77</td>\n",
       "      <td>0</td>\n",
       "    </tr>\n",
       "    <tr>\n",
       "      <th>9997</th>\n",
       "      <td>709</td>\n",
       "      <td>France</td>\n",
       "      <td>Female</td>\n",
       "      <td>36</td>\n",
       "      <td>7</td>\n",
       "      <td>0.00</td>\n",
       "      <td>1</td>\n",
       "      <td>0</td>\n",
       "      <td>1</td>\n",
       "      <td>42085.58</td>\n",
       "      <td>1</td>\n",
       "    </tr>\n",
       "    <tr>\n",
       "      <th>9998</th>\n",
       "      <td>772</td>\n",
       "      <td>Germany</td>\n",
       "      <td>Male</td>\n",
       "      <td>42</td>\n",
       "      <td>3</td>\n",
       "      <td>75075.31</td>\n",
       "      <td>2</td>\n",
       "      <td>1</td>\n",
       "      <td>0</td>\n",
       "      <td>92888.52</td>\n",
       "      <td>1</td>\n",
       "    </tr>\n",
       "    <tr>\n",
       "      <th>9999</th>\n",
       "      <td>792</td>\n",
       "      <td>France</td>\n",
       "      <td>Female</td>\n",
       "      <td>28</td>\n",
       "      <td>4</td>\n",
       "      <td>130142.79</td>\n",
       "      <td>1</td>\n",
       "      <td>1</td>\n",
       "      <td>0</td>\n",
       "      <td>38190.78</td>\n",
       "      <td>0</td>\n",
       "    </tr>\n",
       "  </tbody>\n",
       "</table>\n",
       "<p>10000 rows × 11 columns</p>\n",
       "</div>"
      ],
      "text/plain": [
       "      credit_score  country  gender  age  tenure    balance  products_number  \\\n",
       "0              619   France  Female   42       2       0.00                1   \n",
       "1              608    Spain  Female   41       1   83807.86                1   \n",
       "2              502   France  Female   42       8  159660.80                3   \n",
       "3              699   France  Female   39       1       0.00                2   \n",
       "4              850    Spain  Female   43       2  125510.82                1   \n",
       "...            ...      ...     ...  ...     ...        ...              ...   \n",
       "9995           771   France    Male   39       5       0.00                2   \n",
       "9996           516   France    Male   35      10   57369.61                1   \n",
       "9997           709   France  Female   36       7       0.00                1   \n",
       "9998           772  Germany    Male   42       3   75075.31                2   \n",
       "9999           792   France  Female   28       4  130142.79                1   \n",
       "\n",
       "      credit_card  active_member  estimated_salary  churn  \n",
       "0               1              1         101348.88      1  \n",
       "1               0              1         112542.58      0  \n",
       "2               1              0         113931.57      1  \n",
       "3               0              0          93826.63      0  \n",
       "4               1              1          79084.10      0  \n",
       "...           ...            ...               ...    ...  \n",
       "9995            1              0          96270.64      0  \n",
       "9996            1              1         101699.77      0  \n",
       "9997            0              1          42085.58      1  \n",
       "9998            1              0          92888.52      1  \n",
       "9999            1              0          38190.78      0  \n",
       "\n",
       "[10000 rows x 11 columns]"
      ]
     },
     "execution_count": 15,
     "metadata": {},
     "output_type": "execute_result"
    }
   ],
   "source": [
    "# Remove the customer_id column from dataframe\n",
    "data_drop_cols = data_raw.drop(columns=['customer_id'])\n",
    "\n",
    "# Show dataframe\n",
    "data_drop_cols\n"
   ]
  },
  {
   "cell_type": "markdown",
   "metadata": {},
   "source": [
    "Saya menghilangkan kolom customer_id karena tidak ada hubungannya dengan customer churn setelah itu membuat variabel baru untuk menyimpan hasil setelah menghapus kolom tersebut"
   ]
  },
  {
   "cell_type": "markdown",
   "metadata": {},
   "source": [
    "### 2. Dataframe after data cleaning"
   ]
  },
  {
   "cell_type": "code",
   "execution_count": 16,
   "metadata": {},
   "outputs": [
    {
     "data": {
      "text/html": [
       "<div>\n",
       "<style scoped>\n",
       "    .dataframe tbody tr th:only-of-type {\n",
       "        vertical-align: middle;\n",
       "    }\n",
       "\n",
       "    .dataframe tbody tr th {\n",
       "        vertical-align: top;\n",
       "    }\n",
       "\n",
       "    .dataframe thead th {\n",
       "        text-align: right;\n",
       "    }\n",
       "</style>\n",
       "<table border=\"1\" class=\"dataframe\">\n",
       "  <thead>\n",
       "    <tr style=\"text-align: right;\">\n",
       "      <th></th>\n",
       "      <th>credit_score</th>\n",
       "      <th>country</th>\n",
       "      <th>gender</th>\n",
       "      <th>age</th>\n",
       "      <th>tenure</th>\n",
       "      <th>balance</th>\n",
       "      <th>products_number</th>\n",
       "      <th>credit_card</th>\n",
       "      <th>active_member</th>\n",
       "      <th>estimated_salary</th>\n",
       "      <th>churn</th>\n",
       "    </tr>\n",
       "  </thead>\n",
       "  <tbody>\n",
       "    <tr>\n",
       "      <th>0</th>\n",
       "      <td>619</td>\n",
       "      <td>France</td>\n",
       "      <td>Female</td>\n",
       "      <td>42</td>\n",
       "      <td>2</td>\n",
       "      <td>0.00</td>\n",
       "      <td>1</td>\n",
       "      <td>1</td>\n",
       "      <td>1</td>\n",
       "      <td>101348.88</td>\n",
       "      <td>1</td>\n",
       "    </tr>\n",
       "    <tr>\n",
       "      <th>1</th>\n",
       "      <td>608</td>\n",
       "      <td>Spain</td>\n",
       "      <td>Female</td>\n",
       "      <td>41</td>\n",
       "      <td>1</td>\n",
       "      <td>83807.86</td>\n",
       "      <td>1</td>\n",
       "      <td>0</td>\n",
       "      <td>1</td>\n",
       "      <td>112542.58</td>\n",
       "      <td>0</td>\n",
       "    </tr>\n",
       "    <tr>\n",
       "      <th>2</th>\n",
       "      <td>502</td>\n",
       "      <td>France</td>\n",
       "      <td>Female</td>\n",
       "      <td>42</td>\n",
       "      <td>8</td>\n",
       "      <td>159660.80</td>\n",
       "      <td>3</td>\n",
       "      <td>1</td>\n",
       "      <td>0</td>\n",
       "      <td>113931.57</td>\n",
       "      <td>1</td>\n",
       "    </tr>\n",
       "    <tr>\n",
       "      <th>3</th>\n",
       "      <td>699</td>\n",
       "      <td>France</td>\n",
       "      <td>Female</td>\n",
       "      <td>39</td>\n",
       "      <td>1</td>\n",
       "      <td>0.00</td>\n",
       "      <td>2</td>\n",
       "      <td>0</td>\n",
       "      <td>0</td>\n",
       "      <td>93826.63</td>\n",
       "      <td>0</td>\n",
       "    </tr>\n",
       "    <tr>\n",
       "      <th>4</th>\n",
       "      <td>850</td>\n",
       "      <td>Spain</td>\n",
       "      <td>Female</td>\n",
       "      <td>43</td>\n",
       "      <td>2</td>\n",
       "      <td>125510.82</td>\n",
       "      <td>1</td>\n",
       "      <td>1</td>\n",
       "      <td>1</td>\n",
       "      <td>79084.10</td>\n",
       "      <td>0</td>\n",
       "    </tr>\n",
       "    <tr>\n",
       "      <th>...</th>\n",
       "      <td>...</td>\n",
       "      <td>...</td>\n",
       "      <td>...</td>\n",
       "      <td>...</td>\n",
       "      <td>...</td>\n",
       "      <td>...</td>\n",
       "      <td>...</td>\n",
       "      <td>...</td>\n",
       "      <td>...</td>\n",
       "      <td>...</td>\n",
       "      <td>...</td>\n",
       "    </tr>\n",
       "    <tr>\n",
       "      <th>9995</th>\n",
       "      <td>771</td>\n",
       "      <td>France</td>\n",
       "      <td>Male</td>\n",
       "      <td>39</td>\n",
       "      <td>5</td>\n",
       "      <td>0.00</td>\n",
       "      <td>2</td>\n",
       "      <td>1</td>\n",
       "      <td>0</td>\n",
       "      <td>96270.64</td>\n",
       "      <td>0</td>\n",
       "    </tr>\n",
       "    <tr>\n",
       "      <th>9996</th>\n",
       "      <td>516</td>\n",
       "      <td>France</td>\n",
       "      <td>Male</td>\n",
       "      <td>35</td>\n",
       "      <td>10</td>\n",
       "      <td>57369.61</td>\n",
       "      <td>1</td>\n",
       "      <td>1</td>\n",
       "      <td>1</td>\n",
       "      <td>101699.77</td>\n",
       "      <td>0</td>\n",
       "    </tr>\n",
       "    <tr>\n",
       "      <th>9997</th>\n",
       "      <td>709</td>\n",
       "      <td>France</td>\n",
       "      <td>Female</td>\n",
       "      <td>36</td>\n",
       "      <td>7</td>\n",
       "      <td>0.00</td>\n",
       "      <td>1</td>\n",
       "      <td>0</td>\n",
       "      <td>1</td>\n",
       "      <td>42085.58</td>\n",
       "      <td>1</td>\n",
       "    </tr>\n",
       "    <tr>\n",
       "      <th>9998</th>\n",
       "      <td>772</td>\n",
       "      <td>Germany</td>\n",
       "      <td>Male</td>\n",
       "      <td>42</td>\n",
       "      <td>3</td>\n",
       "      <td>75075.31</td>\n",
       "      <td>2</td>\n",
       "      <td>1</td>\n",
       "      <td>0</td>\n",
       "      <td>92888.52</td>\n",
       "      <td>1</td>\n",
       "    </tr>\n",
       "    <tr>\n",
       "      <th>9999</th>\n",
       "      <td>792</td>\n",
       "      <td>France</td>\n",
       "      <td>Female</td>\n",
       "      <td>28</td>\n",
       "      <td>4</td>\n",
       "      <td>130142.79</td>\n",
       "      <td>1</td>\n",
       "      <td>1</td>\n",
       "      <td>0</td>\n",
       "      <td>38190.78</td>\n",
       "      <td>0</td>\n",
       "    </tr>\n",
       "  </tbody>\n",
       "</table>\n",
       "<p>10000 rows × 11 columns</p>\n",
       "</div>"
      ],
      "text/plain": [
       "      credit_score  country  gender  age  tenure    balance  products_number  \\\n",
       "0              619   France  Female   42       2       0.00                1   \n",
       "1              608    Spain  Female   41       1   83807.86                1   \n",
       "2              502   France  Female   42       8  159660.80                3   \n",
       "3              699   France  Female   39       1       0.00                2   \n",
       "4              850    Spain  Female   43       2  125510.82                1   \n",
       "...            ...      ...     ...  ...     ...        ...              ...   \n",
       "9995           771   France    Male   39       5       0.00                2   \n",
       "9996           516   France    Male   35      10   57369.61                1   \n",
       "9997           709   France  Female   36       7       0.00                1   \n",
       "9998           772  Germany    Male   42       3   75075.31                2   \n",
       "9999           792   France  Female   28       4  130142.79                1   \n",
       "\n",
       "      credit_card  active_member  estimated_salary  churn  \n",
       "0               1              1         101348.88      1  \n",
       "1               0              1         112542.58      0  \n",
       "2               1              0         113931.57      1  \n",
       "3               0              0          93826.63      0  \n",
       "4               1              1          79084.10      0  \n",
       "...           ...            ...               ...    ...  \n",
       "9995            1              0          96270.64      0  \n",
       "9996            1              1         101699.77      0  \n",
       "9997            0              1          42085.58      1  \n",
       "9998            1              0          92888.52      1  \n",
       "9999            1              0          38190.78      0  \n",
       "\n",
       "[10000 rows x 11 columns]"
      ]
     },
     "execution_count": 16,
     "metadata": {},
     "output_type": "execute_result"
    }
   ],
   "source": [
    "# Define variable for new dataframe\n",
    "data_clean = data_drop_cols\n",
    "data_clean"
   ]
  },
  {
   "cell_type": "markdown",
   "metadata": {},
   "source": [
    "Setelah data clean dilakukan, saya membuat dataframe baru untuk menyimpan hasil dari proses cleaning data tersebut"
   ]
  },
  {
   "cell_type": "markdown",
   "metadata": {},
   "source": [
    "## D. Data Visualization"
   ]
  },
  {
   "cell_type": "markdown",
   "metadata": {},
   "source": [
    "### PLOT 1"
   ]
  },
  {
   "cell_type": "markdown",
   "metadata": {},
   "source": [
    "#### Distribution Churn"
   ]
  },
  {
   "cell_type": "code",
   "execution_count": 17,
   "metadata": {},
   "outputs": [
    {
     "name": "stdout",
     "output_type": "stream",
     "text": [
      "Churn: 2037\n",
      "Retention: 7963\n"
     ]
    },
    {
     "data": {
      "image/png": "[encoded data removed]",
      "text/plain": [
       "<Figure size 640x480 with 1 Axes>"
      ]
     },
     "metadata": {},
     "output_type": "display_data"
    }
   ],
   "source": [
    "# Plot 1\n",
    "plt.bar(['Churn', 'Retention'], [data_clean['churn'].sum(), data_clean['churn'].shape[0]-data_clean['churn'].sum().sum()])\n",
    "plt.title('Churn distribution')\n",
    "print(\"Churn:\",data_clean['churn'].sum())\n",
    "print(\"Retention:\",data_clean['churn'].shape[0]-data_clean['churn'].sum().sum())"
   ]
  },
  {
   "cell_type": "markdown",
   "metadata": {},
   "source": [
    "Terlihat bahwa customer retention lebih tinggi daripada customer churn. Namun tidak menutup kemungkinan bahwa kedepannya customer churn akan melebihi customer retention. Maka dari itu, kita akan melakukan visualisasi untuk menemukan pola apa yang berhubungan dari kolom-kolom yang ada dan mungkin saja menjadi alasan seorang customer untuk churn"
   ]
  },
  {
   "cell_type": "markdown",
   "metadata": {},
   "source": [
    "### PLOT 2"
   ]
  },
  {
   "cell_type": "markdown",
   "metadata": {},
   "source": [
    "#### Distribution Churn by Country"
   ]
  },
  {
   "cell_type": "code",
   "execution_count": 18,
   "metadata": {},
   "outputs": [
    {
     "data": {
      "text/plain": [
       "<Axes: title={'center': 'Countries'}>"
      ]
     },
     "execution_count": 18,
     "metadata": {},
     "output_type": "execute_result"
    },
    {
     "data": {
      "image/png": "[encoded data removed]",
      "text/plain": [
       "<Figure size 640x480 with 1 Axes>"
      ]
     },
     "metadata": {},
     "output_type": "display_data"
    }
   ],
   "source": [
    "# Plot 2\n",
    "pd.crosstab(index=data_clean['country'],columns='count',normalize=True).plot(\n",
    "    kind='pie',autopct='%.1f%%',y='count',\n",
    "    labels=data_clean['country'].unique(),\n",
    "    ylabel='',title='Countries',legend=False)"
   ]
  },
  {
   "cell_type": "markdown",
   "metadata": {},
   "source": [
    "Negara yang memiliki persentase tertinggi untuk customer churn adalah France dengan nilai 50%. Maka dari itu, saya ingin melakukan analisis berdasarkan visualisasi data yang berfokus pada negara France"
   ]
  },
  {
   "cell_type": "markdown",
   "metadata": {},
   "source": [
    "### PLOT 3"
   ]
  },
  {
   "cell_type": "markdown",
   "metadata": {},
   "source": [
    "#### Distribution Churn by Gender in France"
   ]
  },
  {
   "cell_type": "code",
   "execution_count": 19,
   "metadata": {},
   "outputs": [
    {
     "data": {
      "image/png": "[encoded data removed]",
      "text/plain": [
       "<Figure size 800x400 with 1 Axes>"
      ]
     },
     "metadata": {},
     "output_type": "display_data"
    }
   ],
   "source": [
    "# Plot 3\n",
    "data_france = data_clean[data_clean['country'] == 'France']\n",
    "data_france['churn_label'] = data_france['churn'].map({0: 'Loyal', 1: 'Churn'})\n",
    "plt.figure(figsize=(8, 4))\n",
    "sns.countplot(x='gender', hue='churn_label', data=data_france)\n",
    "plt.title('Tingkat Churn di Negara France Berdasarkan Jenis Kelamin')\n",
    "plt.show()"
   ]
  },
  {
   "cell_type": "markdown",
   "metadata": {},
   "source": [
    "Di negara France, untuk tingkat customer churn tertinggi ada pada gender Female. Dan tingkat customer loyal tertinggi ada pada gender Male."
   ]
  },
  {
   "cell_type": "markdown",
   "metadata": {},
   "source": [
    "### PLOT 4"
   ]
  },
  {
   "cell_type": "markdown",
   "metadata": {},
   "source": [
    "#### Distribution Churn by Age in France"
   ]
  },
  {
   "cell_type": "code",
   "execution_count": 20,
   "metadata": {},
   "outputs": [
    {
     "data": {
      "image/png": "[encoded data removed]",
      "text/plain": [
       "<Figure size 1000x600 with 1 Axes>"
      ]
     },
     "metadata": {},
     "output_type": "display_data"
    }
   ],
   "source": [
    "# Plot 4\n",
    "data_france = data_clean[data_clean['country'] == 'France']\n",
    "churn_by_age = data_france.groupby('age')['churn'].mean()\n",
    "plt.figure(figsize=(10, 6))\n",
    "plt.bar(churn_by_age.index, churn_by_age.values, color='skyblue')\n",
    "plt.xlabel('Usia (Age)')\n",
    "plt.ylabel('Churn Rate')\n",
    "plt.title('Churn Rate berdasarkan Usia di Prancis')\n",
    "plt.tight_layout()\n",
    "plt.show()"
   ]
  },
  {
   "cell_type": "markdown",
   "metadata": {},
   "source": [
    "Pada umur 40 tahun keatas, tingkat churn pada customer meningkat"
   ]
  },
  {
   "cell_type": "markdown",
   "metadata": {},
   "source": [
    "### PLOT 5"
   ]
  },
  {
   "cell_type": "markdown",
   "metadata": {},
   "source": [
    "#### Distribution Churn by Product Number in France"
   ]
  },
  {
   "cell_type": "code",
   "execution_count": 21,
   "metadata": {},
   "outputs": [
    {
     "data": {
      "image/png": "[encoded data removed]",
      "text/plain": [
       "<Figure size 800x400 with 1 Axes>"
      ]
     },
     "metadata": {},
     "output_type": "display_data"
    }
   ],
   "source": [
    "# Plot 5\n",
    "data_france = data_clean[data_clean['country'] == 'France']\n",
    "data_france['churn_label'] = data_france['churn'].map({0: 'Loyal', 1: 'Churn'})\n",
    "plt.figure(figsize=(8, 4))\n",
    "sns.countplot(x='products_number', hue='churn_label', data=data_france)\n",
    "plt.title('Tingkat Churn di Negara France Berdasarkan Jumlah Produk yang Dimiliki')\n",
    "plt.show()"
   ]
  },
  {
   "cell_type": "markdown",
   "metadata": {},
   "source": [
    "Produk nomor 4 adalah produk yang sepi peminat. Produk 2 adalah produk yang berpotensi meningkatkan retention customer atau keloyalan customer sedangkan produk nomor 1 adalah produk yang berpotensi terhadap tingkat churn pada customer."
   ]
  },
  {
   "cell_type": "markdown",
   "metadata": {},
   "source": [
    "### PLOT 6"
   ]
  },
  {
   "cell_type": "markdown",
   "metadata": {},
   "source": [
    "#### Distribution Churn by Active Member in France"
   ]
  },
  {
   "cell_type": "code",
   "execution_count": 22,
   "metadata": {},
   "outputs": [
    {
     "data": {
      "image/png": "[encoded data removed]",
      "text/plain": [
       "<Figure size 800x400 with 1 Axes>"
      ]
     },
     "metadata": {},
     "output_type": "display_data"
    }
   ],
   "source": [
    "# Plot 6\n",
    "data_france = data_clean[data_clean['country'] == 'France']\n",
    "data_france['churn_label'] = data_france['churn'].map({0: 'Loyal', 1: 'Churn'})\n",
    "data_france['active_member'] = data_france['active_member'].map({0: 'Pasif', 1: 'Aktif'})\n",
    "\n",
    "plt.figure(figsize=(8, 4))\n",
    "sns.countplot(x='active_member', hue='churn_label', data=data_france)\n",
    "plt.title('Tingkat Churn di Negara France Berdasarkan Keanggotaan Aktif')\n",
    "plt.show()"
   ]
  },
  {
   "cell_type": "markdown",
   "metadata": {},
   "source": [
    "Tingkat churn disebabkan juga oleh customer yang pasif untuk menggunakan layanan, karena customer tersebut pasif maka memperbesar peluang untuk churn atau keluar dari status nasabah nya."
   ]
  },
  {
   "cell_type": "markdown",
   "metadata": {},
   "source": [
    "### PLOT 7"
   ]
  },
  {
   "cell_type": "markdown",
   "metadata": {},
   "source": [
    "#### Distribution Churn by Mean Balance in France"
   ]
  },
  {
   "cell_type": "code",
   "execution_count": 23,
   "metadata": {},
   "outputs": [
    {
     "data": {
      "image/png": "[encoded data removed]",
      "text/plain": [
       "<Figure size 800x600 with 1 Axes>"
      ]
     },
     "metadata": {},
     "output_type": "display_data"
    }
   ],
   "source": [
    "# Plot 7\n",
    "data_france = data_clean[data_clean['country'] == 'France']\n",
    "data_france['churn_label'] = data_france['churn'].map({0: 'Loyal', 1: 'Churn'})\n",
    "mean_balance = data_france.groupby('churn_label')['balance'].mean().reset_index()\n",
    "mean_balance\n",
    "\n",
    "plt.figure(figsize=(8, 6))\n",
    "sns.barplot(x='churn_label', y='balance', data=mean_balance)\n",
    "plt.title('Rata-Rata Saldo Pelanggan Churn dan Loyal di Negara France')\n",
    "plt.xlabel('Status Churn')\n",
    "plt.ylabel('Rata-Rata Saldo')\n",
    "plt.show()"
   ]
  },
  {
   "cell_type": "markdown",
   "metadata": {},
   "source": [
    "Rata-rata saldo pada customer churn lebih tinggi dibandingkan customer yang loyal. Maka dari itu, kita sebagai pihak bank wajib untuk mengurangi tingkat churn customer, karena apabila tingkat churn semakin tinggi maka semakin besar atau timpang rata-rata saldo customer churn dibandingkan customer loyal dan hal itu dapat menyebabkan bank merugi."
   ]
  },
  {
   "cell_type": "markdown",
   "metadata": {},
   "source": [
    "### PLOT 8"
   ]
  },
  {
   "cell_type": "markdown",
   "metadata": {},
   "source": [
    "#### Distribution Churn by Credit Card in France"
   ]
  },
  {
   "cell_type": "code",
   "execution_count": 24,
   "metadata": {},
   "outputs": [
    {
     "data": {
      "image/png": "[encoded data removed]",
      "text/plain": [
       "<Figure size 800x400 with 1 Axes>"
      ]
     },
     "metadata": {},
     "output_type": "display_data"
    }
   ],
   "source": [
    "# Plot 8\n",
    "data_france = data_clean[data_clean['country'] == 'France']\n",
    "data_france['churn_label'] = data_france['churn'].map({0: 'Loyal', 1: 'Churn'})\n",
    "\n",
    "plt.figure(figsize=(8, 4))\n",
    "sns.countplot(x='credit_card', hue='churn_label', data=data_france)\n",
    "plt.title('Tingkat Churn di Negara France Berdasarkan Kepemilikan Kartu Kredit')\n",
    "plt.show()"
   ]
  },
  {
   "cell_type": "markdown",
   "metadata": {},
   "source": [
    "Customer yang mempunyai kartu kredit mayoritas adalah customer loyal dan customer yang churn juga. Hanya ada sedikit customer yang tidak mempunyai kartu kredit, karena mayoritas customer sudah mempunyai kartu kredit"
   ]
  },
  {
   "cell_type": "markdown",
   "metadata": {},
   "source": [
    "# **v. Feature Engineering**"
   ]
  },
  {
   "cell_type": "markdown",
   "metadata": {},
   "source": [
    "Bagian ini berisi proses penyiapan data untuk proses pelatihan model, seperti pembagian data menjadi train-test, transformasi data (normalisasi, encoding, dll.), dan proses-proses lain yang dibutuhkan."
   ]
  },
  {
   "cell_type": "markdown",
   "metadata": {},
   "source": [
    "## A. Divide data into categories values and numeric values"
   ]
  },
  {
   "cell_type": "markdown",
   "metadata": {},
   "source": [
    "Langkah memisahkan data kategori dan data numerik agar dapat mengidentifikasi pola, tren, dan hubungan dalam data dengan lebih baik, yang selanjutnya akan membantu Anda membuat keputusan yang lebih baik dan membangun model yang lebih akurat. Memang, data dalam kolom bertipe integer, namun ada beberapa kolom yang memiliki unique values sedikit dan bisa dikatakan sebagai categories values"
   ]
  },
  {
   "cell_type": "code",
   "execution_count": 25,
   "metadata": {},
   "outputs": [],
   "source": [
    "#Divide category columns into category_columns\n",
    "category_columns = data_clean[['country', 'gender', 'products_number', 'credit_card', 'active_member', 'churn']]\n",
    "\n",
    "# Divide numeric columns into numeric_columns\n",
    "numeric_columns = data_clean[['credit_score', 'age', 'tenure','balance']]"
   ]
  },
  {
   "cell_type": "code",
   "execution_count": 26,
   "metadata": {},
   "outputs": [
    {
     "data": {
      "text/html": [
       "<div>\n",
       "<style scoped>\n",
       "    .dataframe tbody tr th:only-of-type {\n",
       "        vertical-align: middle;\n",
       "    }\n",
       "\n",
       "    .dataframe tbody tr th {\n",
       "        vertical-align: top;\n",
       "    }\n",
       "\n",
       "    .dataframe thead th {\n",
       "        text-align: right;\n",
       "    }\n",
       "</style>\n",
       "<table border=\"1\" class=\"dataframe\">\n",
       "  <thead>\n",
       "    <tr style=\"text-align: right;\">\n",
       "      <th></th>\n",
       "      <th>country</th>\n",
       "      <th>gender</th>\n",
       "      <th>products_number</th>\n",
       "      <th>credit_card</th>\n",
       "      <th>active_member</th>\n",
       "      <th>churn</th>\n",
       "    </tr>\n",
       "  </thead>\n",
       "  <tbody>\n",
       "    <tr>\n",
       "      <th>0</th>\n",
       "      <td>France</td>\n",
       "      <td>Female</td>\n",
       "      <td>1</td>\n",
       "      <td>1</td>\n",
       "      <td>1</td>\n",
       "      <td>1</td>\n",
       "    </tr>\n",
       "    <tr>\n",
       "      <th>1</th>\n",
       "      <td>Spain</td>\n",
       "      <td>Female</td>\n",
       "      <td>1</td>\n",
       "      <td>0</td>\n",
       "      <td>1</td>\n",
       "      <td>0</td>\n",
       "    </tr>\n",
       "    <tr>\n",
       "      <th>2</th>\n",
       "      <td>France</td>\n",
       "      <td>Female</td>\n",
       "      <td>3</td>\n",
       "      <td>1</td>\n",
       "      <td>0</td>\n",
       "      <td>1</td>\n",
       "    </tr>\n",
       "    <tr>\n",
       "      <th>3</th>\n",
       "      <td>France</td>\n",
       "      <td>Female</td>\n",
       "      <td>2</td>\n",
       "      <td>0</td>\n",
       "      <td>0</td>\n",
       "      <td>0</td>\n",
       "    </tr>\n",
       "    <tr>\n",
       "      <th>4</th>\n",
       "      <td>Spain</td>\n",
       "      <td>Female</td>\n",
       "      <td>1</td>\n",
       "      <td>1</td>\n",
       "      <td>1</td>\n",
       "      <td>0</td>\n",
       "    </tr>\n",
       "    <tr>\n",
       "      <th>...</th>\n",
       "      <td>...</td>\n",
       "      <td>...</td>\n",
       "      <td>...</td>\n",
       "      <td>...</td>\n",
       "      <td>...</td>\n",
       "      <td>...</td>\n",
       "    </tr>\n",
       "    <tr>\n",
       "      <th>9995</th>\n",
       "      <td>France</td>\n",
       "      <td>Male</td>\n",
       "      <td>2</td>\n",
       "      <td>1</td>\n",
       "      <td>0</td>\n",
       "      <td>0</td>\n",
       "    </tr>\n",
       "    <tr>\n",
       "      <th>9996</th>\n",
       "      <td>France</td>\n",
       "      <td>Male</td>\n",
       "      <td>1</td>\n",
       "      <td>1</td>\n",
       "      <td>1</td>\n",
       "      <td>0</td>\n",
       "    </tr>\n",
       "    <tr>\n",
       "      <th>9997</th>\n",
       "      <td>France</td>\n",
       "      <td>Female</td>\n",
       "      <td>1</td>\n",
       "      <td>0</td>\n",
       "      <td>1</td>\n",
       "      <td>1</td>\n",
       "    </tr>\n",
       "    <tr>\n",
       "      <th>9998</th>\n",
       "      <td>Germany</td>\n",
       "      <td>Male</td>\n",
       "      <td>2</td>\n",
       "      <td>1</td>\n",
       "      <td>0</td>\n",
       "      <td>1</td>\n",
       "    </tr>\n",
       "    <tr>\n",
       "      <th>9999</th>\n",
       "      <td>France</td>\n",
       "      <td>Female</td>\n",
       "      <td>1</td>\n",
       "      <td>1</td>\n",
       "      <td>0</td>\n",
       "      <td>0</td>\n",
       "    </tr>\n",
       "  </tbody>\n",
       "</table>\n",
       "<p>10000 rows × 6 columns</p>\n",
       "</div>"
      ],
      "text/plain": [
       "      country  gender  products_number  credit_card  active_member  churn\n",
       "0      France  Female                1            1              1      1\n",
       "1       Spain  Female                1            0              1      0\n",
       "2      France  Female                3            1              0      1\n",
       "3      France  Female                2            0              0      0\n",
       "4       Spain  Female                1            1              1      0\n",
       "...       ...     ...              ...          ...            ...    ...\n",
       "9995   France    Male                2            1              0      0\n",
       "9996   France    Male                1            1              1      0\n",
       "9997   France  Female                1            0              1      1\n",
       "9998  Germany    Male                2            1              0      1\n",
       "9999   France  Female                1            1              0      0\n",
       "\n",
       "[10000 rows x 6 columns]"
      ]
     },
     "execution_count": 26,
     "metadata": {},
     "output_type": "execute_result"
    }
   ],
   "source": [
    "# Show dataframe\n",
    "category_columns"
   ]
  },
  {
   "cell_type": "markdown",
   "metadata": {},
   "source": [
    "Menampilkan dataframe yang berisi kolom-kolom bertipe categorical"
   ]
  },
  {
   "cell_type": "code",
   "execution_count": 27,
   "metadata": {},
   "outputs": [
    {
     "data": {
      "text/html": [
       "<div>\n",
       "<style scoped>\n",
       "    .dataframe tbody tr th:only-of-type {\n",
       "        vertical-align: middle;\n",
       "    }\n",
       "\n",
       "    .dataframe tbody tr th {\n",
       "        vertical-align: top;\n",
       "    }\n",
       "\n",
       "    .dataframe thead th {\n",
       "        text-align: right;\n",
       "    }\n",
       "</style>\n",
       "<table border=\"1\" class=\"dataframe\">\n",
       "  <thead>\n",
       "    <tr style=\"text-align: right;\">\n",
       "      <th></th>\n",
       "      <th>credit_score</th>\n",
       "      <th>age</th>\n",
       "      <th>tenure</th>\n",
       "      <th>balance</th>\n",
       "    </tr>\n",
       "  </thead>\n",
       "  <tbody>\n",
       "    <tr>\n",
       "      <th>0</th>\n",
       "      <td>619</td>\n",
       "      <td>42</td>\n",
       "      <td>2</td>\n",
       "      <td>0.00</td>\n",
       "    </tr>\n",
       "    <tr>\n",
       "      <th>1</th>\n",
       "      <td>608</td>\n",
       "      <td>41</td>\n",
       "      <td>1</td>\n",
       "      <td>83807.86</td>\n",
       "    </tr>\n",
       "    <tr>\n",
       "      <th>2</th>\n",
       "      <td>502</td>\n",
       "      <td>42</td>\n",
       "      <td>8</td>\n",
       "      <td>159660.80</td>\n",
       "    </tr>\n",
       "    <tr>\n",
       "      <th>3</th>\n",
       "      <td>699</td>\n",
       "      <td>39</td>\n",
       "      <td>1</td>\n",
       "      <td>0.00</td>\n",
       "    </tr>\n",
       "    <tr>\n",
       "      <th>4</th>\n",
       "      <td>850</td>\n",
       "      <td>43</td>\n",
       "      <td>2</td>\n",
       "      <td>125510.82</td>\n",
       "    </tr>\n",
       "    <tr>\n",
       "      <th>...</th>\n",
       "      <td>...</td>\n",
       "      <td>...</td>\n",
       "      <td>...</td>\n",
       "      <td>...</td>\n",
       "    </tr>\n",
       "    <tr>\n",
       "      <th>9995</th>\n",
       "      <td>771</td>\n",
       "      <td>39</td>\n",
       "      <td>5</td>\n",
       "      <td>0.00</td>\n",
       "    </tr>\n",
       "    <tr>\n",
       "      <th>9996</th>\n",
       "      <td>516</td>\n",
       "      <td>35</td>\n",
       "      <td>10</td>\n",
       "      <td>57369.61</td>\n",
       "    </tr>\n",
       "    <tr>\n",
       "      <th>9997</th>\n",
       "      <td>709</td>\n",
       "      <td>36</td>\n",
       "      <td>7</td>\n",
       "      <td>0.00</td>\n",
       "    </tr>\n",
       "    <tr>\n",
       "      <th>9998</th>\n",
       "      <td>772</td>\n",
       "      <td>42</td>\n",
       "      <td>3</td>\n",
       "      <td>75075.31</td>\n",
       "    </tr>\n",
       "    <tr>\n",
       "      <th>9999</th>\n",
       "      <td>792</td>\n",
       "      <td>28</td>\n",
       "      <td>4</td>\n",
       "      <td>130142.79</td>\n",
       "    </tr>\n",
       "  </tbody>\n",
       "</table>\n",
       "<p>10000 rows × 4 columns</p>\n",
       "</div>"
      ],
      "text/plain": [
       "      credit_score  age  tenure    balance\n",
       "0              619   42       2       0.00\n",
       "1              608   41       1   83807.86\n",
       "2              502   42       8  159660.80\n",
       "3              699   39       1       0.00\n",
       "4              850   43       2  125510.82\n",
       "...            ...  ...     ...        ...\n",
       "9995           771   39       5       0.00\n",
       "9996           516   35      10   57369.61\n",
       "9997           709   36       7       0.00\n",
       "9998           772   42       3   75075.31\n",
       "9999           792   28       4  130142.79\n",
       "\n",
       "[10000 rows x 4 columns]"
      ]
     },
     "execution_count": 27,
     "metadata": {},
     "output_type": "execute_result"
    }
   ],
   "source": [
    "# Show dataframe\n",
    "numeric_columns"
   ]
  },
  {
   "cell_type": "markdown",
   "metadata": {},
   "source": [
    "Menampilkan dataframe yang berisi kolom-kolom bertipe numerical"
   ]
  },
  {
   "cell_type": "markdown",
   "metadata": {},
   "source": [
    "## B. VIF"
   ]
  },
  {
   "cell_type": "markdown",
   "metadata": {},
   "source": [
    "Langkah VIF (Variance Inflation Factor) digunakan untuk mengevaluasi tingkat multicollinearity (multikolinearitas) antara variabel-variabel independen dalam sebuah model"
   ]
  },
  {
   "cell_type": "code",
   "execution_count": 28,
   "metadata": {},
   "outputs": [
    {
     "data": {
      "text/html": [
       "<div>\n",
       "<style scoped>\n",
       "    .dataframe tbody tr th:only-of-type {\n",
       "        vertical-align: middle;\n",
       "    }\n",
       "\n",
       "    .dataframe tbody tr th {\n",
       "        vertical-align: top;\n",
       "    }\n",
       "\n",
       "    .dataframe thead th {\n",
       "        text-align: right;\n",
       "    }\n",
       "</style>\n",
       "<table border=\"1\" class=\"dataframe\">\n",
       "  <thead>\n",
       "    <tr style=\"text-align: right;\">\n",
       "      <th></th>\n",
       "      <th>Name Column</th>\n",
       "      <th>VIF</th>\n",
       "    </tr>\n",
       "  </thead>\n",
       "  <tbody>\n",
       "    <tr>\n",
       "      <th>0</th>\n",
       "      <td>credit_score</td>\n",
       "      <td>1.000057</td>\n",
       "    </tr>\n",
       "    <tr>\n",
       "      <th>1</th>\n",
       "      <td>age</td>\n",
       "      <td>1.000912</td>\n",
       "    </tr>\n",
       "    <tr>\n",
       "      <th>2</th>\n",
       "      <td>tenure</td>\n",
       "      <td>1.000244</td>\n",
       "    </tr>\n",
       "    <tr>\n",
       "      <th>3</th>\n",
       "      <td>balance</td>\n",
       "      <td>1.000986</td>\n",
       "    </tr>\n",
       "  </tbody>\n",
       "</table>\n",
       "</div>"
      ],
      "text/plain": [
       "    Name Column       VIF\n",
       "0  credit_score  1.000057\n",
       "1           age  1.000912\n",
       "2        tenure  1.000244\n",
       "3       balance  1.000986"
      ]
     },
     "execution_count": 28,
     "metadata": {},
     "output_type": "execute_result"
    }
   ],
   "source": [
    "# Select the independent variables for which you want to calculate VIF\n",
    "X = numeric_columns\n",
    "\n",
    "# Add a constant column to calculate VIF with an intercept (constant)\n",
    "X['intercept'] = 1\n",
    "\n",
    "# Initialize a dataframe to store the VIF results\n",
    "vif_data = pd.DataFrame()\n",
    "vif_data[\"Name Column\"] = X.columns\n",
    "vif_data[\"VIF\"] = [variance_inflation_factor(X.values, i) for i in range(X.shape[1])]\n",
    "\n",
    "# Filter the VIF results to remove the intercept column\n",
    "vif_data = vif_data[vif_data[\"Name Column\"] != \"intercept\"]\n",
    "\n",
    "# Show dataframe\n",
    "vif_data"
   ]
  },
  {
   "cell_type": "markdown",
   "metadata": {},
   "source": [
    "Terlihat nilai VIF pada 4 kolom tersebut rendah, berarti tidak ada multicollinearity pada kolom tersebut"
   ]
  },
  {
   "cell_type": "markdown",
   "metadata": {},
   "source": [
    "## C. Cardinality"
   ]
  },
  {
   "cell_type": "markdown",
   "metadata": {},
   "source": [
    "Langkah ini dilakukan untuk mengukur jumlah nilai unik pada masing-masing kolom yang bertipe categorical"
   ]
  },
  {
   "cell_type": "code",
   "execution_count": 29,
   "metadata": {},
   "outputs": [
    {
     "name": "stdout",
     "output_type": "stream",
     "text": [
      "Cardinality kolom country: 3 unique values\n",
      "Cardinality kolom gender: 2 unique values\n",
      "Cardinality kolom products_number: 4 unique values\n",
      "Cardinality kolom credit_card: 2 unique values\n",
      "Cardinality kolom active_member: 2 unique values\n",
      "Cardinality kolom churn: 2 unique values\n"
     ]
    }
   ],
   "source": [
    "# Loop through the columns in list_category_columns\n",
    "for col in category_columns:\n",
    "    cardinality = data_clean[col].nunique()\n",
    "    print(f\"Cardinality kolom {col}: {cardinality} unique values\")"
   ]
  },
  {
   "cell_type": "markdown",
   "metadata": {},
   "source": [
    "Unique values pada beberapa kolom tersebut masih sedikit maka tidak perlu handling cardinality"
   ]
  },
  {
   "cell_type": "markdown",
   "metadata": {},
   "source": [
    "## D. Heatmap Correlation"
   ]
  },
  {
   "cell_type": "markdown",
   "metadata": {},
   "source": [
    "Langkah ini dilakukan guna mencari hubungan korelasi antar kolom"
   ]
  },
  {
   "cell_type": "code",
   "execution_count": 30,
   "metadata": {},
   "outputs": [
    {
     "data": {
      "image/png": "[encoded data removed]",
      "text/plain": [
       "<Figure size 1200x800 with 2 Axes>"
      ]
     },
     "metadata": {},
     "output_type": "display_data"
    }
   ],
   "source": [
    "# Calculate the correlation matrix between numeric columns\n",
    "correlation_matrix = data_clean.corr()\n",
    "\n",
    "# Create a heatmap\n",
    "plt.figure(figsize=(12, 8))\n",
    "sns.heatmap(correlation_matrix, annot=True, cmap='coolwarm', fmt=\".2f\", linewidths=.5)\n",
    "plt.title(\"Heatmap of Correlation between Numeric Columns with Churn\")\n",
    "plt.show()"
   ]
  },
  {
   "cell_type": "markdown",
   "metadata": {},
   "source": [
    "Hanya ada 3 kolom yang melewati threshold >0.1 atau <= -.01 yaitu kolom active_member, balance dan age. Sebenarnya kita bisa langsung menyeleksi kolom apa saja yang mempunyai korelasi kuat dengan churn, tetapi kita akan melakukan pengecekan lebih lanjut setelah ini untuk memastikan kolom apa saja yang benar-benar berkorelasi dengan churn."
   ]
  },
  {
   "cell_type": "markdown",
   "metadata": {},
   "source": [
    "## E. Feature Selection Using Phik Matrix"
   ]
  },
  {
   "cell_type": "markdown",
   "metadata": {},
   "source": [
    "Langkah ini merupakan proses seleksi kolom dan mengambil kolom yang memiliki korelasi diatas threshold yang ditentukan saja menggunakan phik_matrix"
   ]
  },
  {
   "cell_type": "code",
   "execution_count": 31,
   "metadata": {},
   "outputs": [
    {
     "name": "stdout",
     "output_type": "stream",
     "text": [
      "interval columns not set, guessing: ['credit_score', 'age', 'tenure', 'balance', 'products_number', 'credit_card', 'active_member', 'estimated_salary', 'churn']\n"
     ]
    },
    {
     "data": {
      "text/plain": [
       "churn               1.000000\n",
       "products_number     0.565084\n",
       "age                 0.487524\n",
       "active_member       0.241939\n",
       "balance             0.183365\n",
       "gender              0.165422\n",
       "country             0.104511\n",
       "credit_score        0.096525\n",
       "tenure              0.022895\n",
       "credit_card         0.000000\n",
       "estimated_salary    0.000000\n",
       "Name: churn, dtype: float64"
      ]
     },
     "execution_count": 31,
     "metadata": {},
     "output_type": "execute_result"
    }
   ],
   "source": [
    "# Calculate the Phik correlation matrix between all columns in the DataFrame\n",
    "phik_matrix = data_clean.phik_matrix()\n",
    "\n",
    "# Retrieve the Phik correlation column between the \"churn\" column and other columns\n",
    "correlation_with_churn = phik_matrix['churn'].sort_values(ascending=False)\n",
    "\n",
    "# Display the correlation results\n",
    "correlation_with_churn"
   ]
  },
  {
   "cell_type": "markdown",
   "metadata": {},
   "source": [
    "Saya menggunakan seleksi fitur menggunakan korelasi phik_matrix karena phik_matrix memberikan alternatif perhitungan korelasi jika pada dataset terdapat kolom numerikal dan kategorikal"
   ]
  },
  {
   "cell_type": "code",
   "execution_count": 32,
   "metadata": {},
   "outputs": [
    {
     "data": {
      "text/html": [
       "<div>\n",
       "<style scoped>\n",
       "    .dataframe tbody tr th:only-of-type {\n",
       "        vertical-align: middle;\n",
       "    }\n",
       "\n",
       "    .dataframe tbody tr th {\n",
       "        vertical-align: top;\n",
       "    }\n",
       "\n",
       "    .dataframe thead th {\n",
       "        text-align: right;\n",
       "    }\n",
       "</style>\n",
       "<table border=\"1\" class=\"dataframe\">\n",
       "  <thead>\n",
       "    <tr style=\"text-align: right;\">\n",
       "      <th></th>\n",
       "      <th>churn</th>\n",
       "      <th>products_number</th>\n",
       "      <th>age</th>\n",
       "      <th>active_member</th>\n",
       "      <th>balance</th>\n",
       "      <th>gender</th>\n",
       "      <th>country</th>\n",
       "      <th>credit_score</th>\n",
       "      <th>tenure</th>\n",
       "    </tr>\n",
       "  </thead>\n",
       "  <tbody>\n",
       "    <tr>\n",
       "      <th>0</th>\n",
       "      <td>1</td>\n",
       "      <td>1</td>\n",
       "      <td>42</td>\n",
       "      <td>1</td>\n",
       "      <td>0.00</td>\n",
       "      <td>Female</td>\n",
       "      <td>France</td>\n",
       "      <td>619</td>\n",
       "      <td>2</td>\n",
       "    </tr>\n",
       "    <tr>\n",
       "      <th>1</th>\n",
       "      <td>0</td>\n",
       "      <td>1</td>\n",
       "      <td>41</td>\n",
       "      <td>1</td>\n",
       "      <td>83807.86</td>\n",
       "      <td>Female</td>\n",
       "      <td>Spain</td>\n",
       "      <td>608</td>\n",
       "      <td>1</td>\n",
       "    </tr>\n",
       "    <tr>\n",
       "      <th>2</th>\n",
       "      <td>1</td>\n",
       "      <td>3</td>\n",
       "      <td>42</td>\n",
       "      <td>0</td>\n",
       "      <td>159660.80</td>\n",
       "      <td>Female</td>\n",
       "      <td>France</td>\n",
       "      <td>502</td>\n",
       "      <td>8</td>\n",
       "    </tr>\n",
       "    <tr>\n",
       "      <th>3</th>\n",
       "      <td>0</td>\n",
       "      <td>2</td>\n",
       "      <td>39</td>\n",
       "      <td>0</td>\n",
       "      <td>0.00</td>\n",
       "      <td>Female</td>\n",
       "      <td>France</td>\n",
       "      <td>699</td>\n",
       "      <td>1</td>\n",
       "    </tr>\n",
       "    <tr>\n",
       "      <th>4</th>\n",
       "      <td>0</td>\n",
       "      <td>1</td>\n",
       "      <td>43</td>\n",
       "      <td>1</td>\n",
       "      <td>125510.82</td>\n",
       "      <td>Female</td>\n",
       "      <td>Spain</td>\n",
       "      <td>850</td>\n",
       "      <td>2</td>\n",
       "    </tr>\n",
       "    <tr>\n",
       "      <th>...</th>\n",
       "      <td>...</td>\n",
       "      <td>...</td>\n",
       "      <td>...</td>\n",
       "      <td>...</td>\n",
       "      <td>...</td>\n",
       "      <td>...</td>\n",
       "      <td>...</td>\n",
       "      <td>...</td>\n",
       "      <td>...</td>\n",
       "    </tr>\n",
       "    <tr>\n",
       "      <th>9995</th>\n",
       "      <td>0</td>\n",
       "      <td>2</td>\n",
       "      <td>39</td>\n",
       "      <td>0</td>\n",
       "      <td>0.00</td>\n",
       "      <td>Male</td>\n",
       "      <td>France</td>\n",
       "      <td>771</td>\n",
       "      <td>5</td>\n",
       "    </tr>\n",
       "    <tr>\n",
       "      <th>9996</th>\n",
       "      <td>0</td>\n",
       "      <td>1</td>\n",
       "      <td>35</td>\n",
       "      <td>1</td>\n",
       "      <td>57369.61</td>\n",
       "      <td>Male</td>\n",
       "      <td>France</td>\n",
       "      <td>516</td>\n",
       "      <td>10</td>\n",
       "    </tr>\n",
       "    <tr>\n",
       "      <th>9997</th>\n",
       "      <td>1</td>\n",
       "      <td>1</td>\n",
       "      <td>36</td>\n",
       "      <td>1</td>\n",
       "      <td>0.00</td>\n",
       "      <td>Female</td>\n",
       "      <td>France</td>\n",
       "      <td>709</td>\n",
       "      <td>7</td>\n",
       "    </tr>\n",
       "    <tr>\n",
       "      <th>9998</th>\n",
       "      <td>1</td>\n",
       "      <td>2</td>\n",
       "      <td>42</td>\n",
       "      <td>0</td>\n",
       "      <td>75075.31</td>\n",
       "      <td>Male</td>\n",
       "      <td>Germany</td>\n",
       "      <td>772</td>\n",
       "      <td>3</td>\n",
       "    </tr>\n",
       "    <tr>\n",
       "      <th>9999</th>\n",
       "      <td>0</td>\n",
       "      <td>1</td>\n",
       "      <td>28</td>\n",
       "      <td>0</td>\n",
       "      <td>130142.79</td>\n",
       "      <td>Female</td>\n",
       "      <td>France</td>\n",
       "      <td>792</td>\n",
       "      <td>4</td>\n",
       "    </tr>\n",
       "  </tbody>\n",
       "</table>\n",
       "<p>10000 rows × 9 columns</p>\n",
       "</div>"
      ],
      "text/plain": [
       "      churn  products_number  age  active_member    balance  gender  country  \\\n",
       "0         1                1   42              1       0.00  Female   France   \n",
       "1         0                1   41              1   83807.86  Female    Spain   \n",
       "2         1                3   42              0  159660.80  Female   France   \n",
       "3         0                2   39              0       0.00  Female   France   \n",
       "4         0                1   43              1  125510.82  Female    Spain   \n",
       "...     ...              ...  ...            ...        ...     ...      ...   \n",
       "9995      0                2   39              0       0.00    Male   France   \n",
       "9996      0                1   35              1   57369.61    Male   France   \n",
       "9997      1                1   36              1       0.00  Female   France   \n",
       "9998      1                2   42              0   75075.31    Male  Germany   \n",
       "9999      0                1   28              0  130142.79  Female   France   \n",
       "\n",
       "      credit_score  tenure  \n",
       "0              619       2  \n",
       "1              608       1  \n",
       "2              502       8  \n",
       "3              699       1  \n",
       "4              850       2  \n",
       "...            ...     ...  \n",
       "9995           771       5  \n",
       "9996           516      10  \n",
       "9997           709       7  \n",
       "9998           772       3  \n",
       "9999           792       4  \n",
       "\n",
       "[10000 rows x 9 columns]"
      ]
     },
     "execution_count": 32,
     "metadata": {},
     "output_type": "execute_result"
    }
   ],
   "source": [
    "# Retrieve columns with a correlation greater than 0.1 with \"churn\"\n",
    "list_feature = correlation_with_churn[correlation_with_churn>0]\n",
    "\n",
    "# Filter the original DataFrame with the corresponding columns\n",
    "feature = data_clean[list_feature.index]\n",
    "\n",
    "# Display the DataFrame containing selected columns and their data\n",
    "feature\n"
   ]
  },
  {
   "cell_type": "markdown",
   "metadata": {},
   "source": [
    "Saya membuat threshold korelasi >0 untuk menyeleksi feature apa saja yang dibutuhkan dalam pembuatan model, setelah itu saya membuat dataframe untuk menyimpan hasil penyeleksian feature"
   ]
  },
  {
   "cell_type": "markdown",
   "metadata": {},
   "source": [
    "## F. Split Data"
   ]
  },
  {
   "cell_type": "markdown",
   "metadata": {},
   "source": [
    "Tujuan utama dari pemisahan data adalah menghindari overfitting, di mana model belajar menghafal data pelatihan dan gagal bekerja dengan baik pada data baru."
   ]
  },
  {
   "cell_type": "code",
   "execution_count": 33,
   "metadata": {},
   "outputs": [],
   "source": [
    "# Divide features and target\n",
    "X = feature.drop('churn', axis=1)\n",
    "y = feature['churn']"
   ]
  },
  {
   "cell_type": "markdown",
   "metadata": {},
   "source": [
    "Memisahkan feature dan target. X berisi semua kolom kecuali churn, sedangkan y adalah kolom churn saja\n"
   ]
  },
  {
   "cell_type": "code",
   "execution_count": 34,
   "metadata": {},
   "outputs": [
    {
     "name": "stdout",
     "output_type": "stream",
     "text": [
      "(8000, 8)\n",
      "(2000, 8)\n",
      "(8000,)\n",
      "(2000,)\n"
     ]
    }
   ],
   "source": [
    "# Divide data into data training and data test\n",
    "X_train, X_test, y_train, y_test = train_test_split(X, y, test_size=0.2, random_state=49, stratify=y)\n",
    "\n",
    "# Show result\n",
    "print(X_train.shape)\n",
    "print(X_test.shape)\n",
    "print(y_train.shape)\n",
    "print(y_test.shape)"
   ]
  },
  {
   "cell_type": "markdown",
   "metadata": {},
   "source": [
    "Membagi data menjadi dua jenis, yaitu data train dan data test. Data uji berisi 20% dari total keseluruhan data pada dataframe feature. Data test berisi feature dan target (X dan y)"
   ]
  },
  {
   "cell_type": "code",
   "execution_count": 35,
   "metadata": {},
   "outputs": [
    {
     "data": {
      "text/html": [
       "<div>\n",
       "<style scoped>\n",
       "    .dataframe tbody tr th:only-of-type {\n",
       "        vertical-align: middle;\n",
       "    }\n",
       "\n",
       "    .dataframe tbody tr th {\n",
       "        vertical-align: top;\n",
       "    }\n",
       "\n",
       "    .dataframe thead th {\n",
       "        text-align: right;\n",
       "    }\n",
       "</style>\n",
       "<table border=\"1\" class=\"dataframe\">\n",
       "  <thead>\n",
       "    <tr style=\"text-align: right;\">\n",
       "      <th></th>\n",
       "      <th>products_number</th>\n",
       "      <th>age</th>\n",
       "      <th>active_member</th>\n",
       "      <th>balance</th>\n",
       "      <th>gender</th>\n",
       "      <th>country</th>\n",
       "      <th>credit_score</th>\n",
       "      <th>tenure</th>\n",
       "    </tr>\n",
       "  </thead>\n",
       "  <tbody>\n",
       "    <tr>\n",
       "      <th>8941</th>\n",
       "      <td>2</td>\n",
       "      <td>34</td>\n",
       "      <td>1</td>\n",
       "      <td>120875.23</td>\n",
       "      <td>Male</td>\n",
       "      <td>Germany</td>\n",
       "      <td>774</td>\n",
       "      <td>4</td>\n",
       "    </tr>\n",
       "    <tr>\n",
       "      <th>1579</th>\n",
       "      <td>1</td>\n",
       "      <td>41</td>\n",
       "      <td>1</td>\n",
       "      <td>37702.79</td>\n",
       "      <td>Male</td>\n",
       "      <td>Germany</td>\n",
       "      <td>618</td>\n",
       "      <td>8</td>\n",
       "    </tr>\n",
       "    <tr>\n",
       "      <th>9696</th>\n",
       "      <td>1</td>\n",
       "      <td>32</td>\n",
       "      <td>1</td>\n",
       "      <td>97514.07</td>\n",
       "      <td>Male</td>\n",
       "      <td>France</td>\n",
       "      <td>550</td>\n",
       "      <td>8</td>\n",
       "    </tr>\n",
       "    <tr>\n",
       "      <th>5389</th>\n",
       "      <td>2</td>\n",
       "      <td>32</td>\n",
       "      <td>0</td>\n",
       "      <td>0.00</td>\n",
       "      <td>Female</td>\n",
       "      <td>France</td>\n",
       "      <td>774</td>\n",
       "      <td>4</td>\n",
       "    </tr>\n",
       "    <tr>\n",
       "      <th>3757</th>\n",
       "      <td>1</td>\n",
       "      <td>45</td>\n",
       "      <td>0</td>\n",
       "      <td>79259.75</td>\n",
       "      <td>Female</td>\n",
       "      <td>Spain</td>\n",
       "      <td>593</td>\n",
       "      <td>6</td>\n",
       "    </tr>\n",
       "    <tr>\n",
       "      <th>...</th>\n",
       "      <td>...</td>\n",
       "      <td>...</td>\n",
       "      <td>...</td>\n",
       "      <td>...</td>\n",
       "      <td>...</td>\n",
       "      <td>...</td>\n",
       "      <td>...</td>\n",
       "      <td>...</td>\n",
       "    </tr>\n",
       "    <tr>\n",
       "      <th>8838</th>\n",
       "      <td>1</td>\n",
       "      <td>33</td>\n",
       "      <td>1</td>\n",
       "      <td>108477.49</td>\n",
       "      <td>Male</td>\n",
       "      <td>France</td>\n",
       "      <td>558</td>\n",
       "      <td>0</td>\n",
       "    </tr>\n",
       "    <tr>\n",
       "      <th>4658</th>\n",
       "      <td>1</td>\n",
       "      <td>28</td>\n",
       "      <td>0</td>\n",
       "      <td>159900.38</td>\n",
       "      <td>Male</td>\n",
       "      <td>Spain</td>\n",
       "      <td>700</td>\n",
       "      <td>8</td>\n",
       "    </tr>\n",
       "    <tr>\n",
       "      <th>8902</th>\n",
       "      <td>2</td>\n",
       "      <td>39</td>\n",
       "      <td>1</td>\n",
       "      <td>0.00</td>\n",
       "      <td>Male</td>\n",
       "      <td>Spain</td>\n",
       "      <td>467</td>\n",
       "      <td>5</td>\n",
       "    </tr>\n",
       "    <tr>\n",
       "      <th>882</th>\n",
       "      <td>1</td>\n",
       "      <td>36</td>\n",
       "      <td>0</td>\n",
       "      <td>106192.10</td>\n",
       "      <td>Male</td>\n",
       "      <td>France</td>\n",
       "      <td>565</td>\n",
       "      <td>6</td>\n",
       "    </tr>\n",
       "    <tr>\n",
       "      <th>3002</th>\n",
       "      <td>2</td>\n",
       "      <td>32</td>\n",
       "      <td>0</td>\n",
       "      <td>104336.43</td>\n",
       "      <td>Female</td>\n",
       "      <td>Germany</td>\n",
       "      <td>786</td>\n",
       "      <td>2</td>\n",
       "    </tr>\n",
       "  </tbody>\n",
       "</table>\n",
       "<p>8000 rows × 8 columns</p>\n",
       "</div>"
      ],
      "text/plain": [
       "      products_number  age  active_member    balance  gender  country  \\\n",
       "8941                2   34              1  120875.23    Male  Germany   \n",
       "1579                1   41              1   37702.79    Male  Germany   \n",
       "9696                1   32              1   97514.07    Male   France   \n",
       "5389                2   32              0       0.00  Female   France   \n",
       "3757                1   45              0   79259.75  Female    Spain   \n",
       "...               ...  ...            ...        ...     ...      ...   \n",
       "8838                1   33              1  108477.49    Male   France   \n",
       "4658                1   28              0  159900.38    Male    Spain   \n",
       "8902                2   39              1       0.00    Male    Spain   \n",
       "882                 1   36              0  106192.10    Male   France   \n",
       "3002                2   32              0  104336.43  Female  Germany   \n",
       "\n",
       "      credit_score  tenure  \n",
       "8941           774       4  \n",
       "1579           618       8  \n",
       "9696           550       8  \n",
       "5389           774       4  \n",
       "3757           593       6  \n",
       "...            ...     ...  \n",
       "8838           558       0  \n",
       "4658           700       8  \n",
       "8902           467       5  \n",
       "882            565       6  \n",
       "3002           786       2  \n",
       "\n",
       "[8000 rows x 8 columns]"
      ]
     },
     "execution_count": 35,
     "metadata": {},
     "output_type": "execute_result"
    }
   ],
   "source": [
    "# Show dataframe of X_train\n",
    "X_train"
   ]
  },
  {
   "cell_type": "markdown",
   "metadata": {},
   "source": [
    "Terdapat 8000 baris dan 8 kolom untuk X_train"
   ]
  },
  {
   "cell_type": "code",
   "execution_count": 36,
   "metadata": {},
   "outputs": [
    {
     "data": {
      "text/html": [
       "<div>\n",
       "<style scoped>\n",
       "    .dataframe tbody tr th:only-of-type {\n",
       "        vertical-align: middle;\n",
       "    }\n",
       "\n",
       "    .dataframe tbody tr th {\n",
       "        vertical-align: top;\n",
       "    }\n",
       "\n",
       "    .dataframe thead th {\n",
       "        text-align: right;\n",
       "    }\n",
       "</style>\n",
       "<table border=\"1\" class=\"dataframe\">\n",
       "  <thead>\n",
       "    <tr style=\"text-align: right;\">\n",
       "      <th></th>\n",
       "      <th>products_number</th>\n",
       "      <th>age</th>\n",
       "      <th>active_member</th>\n",
       "      <th>balance</th>\n",
       "      <th>gender</th>\n",
       "      <th>country</th>\n",
       "      <th>credit_score</th>\n",
       "      <th>tenure</th>\n",
       "    </tr>\n",
       "  </thead>\n",
       "  <tbody>\n",
       "    <tr>\n",
       "      <th>6228</th>\n",
       "      <td>1</td>\n",
       "      <td>42</td>\n",
       "      <td>1</td>\n",
       "      <td>90248.79</td>\n",
       "      <td>Male</td>\n",
       "      <td>Germany</td>\n",
       "      <td>663</td>\n",
       "      <td>5</td>\n",
       "    </tr>\n",
       "    <tr>\n",
       "      <th>6778</th>\n",
       "      <td>2</td>\n",
       "      <td>50</td>\n",
       "      <td>1</td>\n",
       "      <td>132598.38</td>\n",
       "      <td>Female</td>\n",
       "      <td>Germany</td>\n",
       "      <td>679</td>\n",
       "      <td>6</td>\n",
       "    </tr>\n",
       "    <tr>\n",
       "      <th>4298</th>\n",
       "      <td>2</td>\n",
       "      <td>38</td>\n",
       "      <td>0</td>\n",
       "      <td>111835.94</td>\n",
       "      <td>Male</td>\n",
       "      <td>France</td>\n",
       "      <td>602</td>\n",
       "      <td>7</td>\n",
       "    </tr>\n",
       "    <tr>\n",
       "      <th>964</th>\n",
       "      <td>1</td>\n",
       "      <td>43</td>\n",
       "      <td>1</td>\n",
       "      <td>115888.04</td>\n",
       "      <td>Female</td>\n",
       "      <td>Germany</td>\n",
       "      <td>683</td>\n",
       "      <td>4</td>\n",
       "    </tr>\n",
       "    <tr>\n",
       "      <th>7425</th>\n",
       "      <td>1</td>\n",
       "      <td>33</td>\n",
       "      <td>0</td>\n",
       "      <td>144962.74</td>\n",
       "      <td>Male</td>\n",
       "      <td>Germany</td>\n",
       "      <td>552</td>\n",
       "      <td>3</td>\n",
       "    </tr>\n",
       "    <tr>\n",
       "      <th>...</th>\n",
       "      <td>...</td>\n",
       "      <td>...</td>\n",
       "      <td>...</td>\n",
       "      <td>...</td>\n",
       "      <td>...</td>\n",
       "      <td>...</td>\n",
       "      <td>...</td>\n",
       "      <td>...</td>\n",
       "    </tr>\n",
       "    <tr>\n",
       "      <th>4812</th>\n",
       "      <td>1</td>\n",
       "      <td>31</td>\n",
       "      <td>0</td>\n",
       "      <td>91125.75</td>\n",
       "      <td>Male</td>\n",
       "      <td>France</td>\n",
       "      <td>672</td>\n",
       "      <td>6</td>\n",
       "    </tr>\n",
       "    <tr>\n",
       "      <th>1230</th>\n",
       "      <td>2</td>\n",
       "      <td>36</td>\n",
       "      <td>1</td>\n",
       "      <td>109949.05</td>\n",
       "      <td>Male</td>\n",
       "      <td>Germany</td>\n",
       "      <td>775</td>\n",
       "      <td>2</td>\n",
       "    </tr>\n",
       "    <tr>\n",
       "      <th>4930</th>\n",
       "      <td>1</td>\n",
       "      <td>30</td>\n",
       "      <td>1</td>\n",
       "      <td>112372.96</td>\n",
       "      <td>Male</td>\n",
       "      <td>Germany</td>\n",
       "      <td>627</td>\n",
       "      <td>6</td>\n",
       "    </tr>\n",
       "    <tr>\n",
       "      <th>2198</th>\n",
       "      <td>2</td>\n",
       "      <td>48</td>\n",
       "      <td>0</td>\n",
       "      <td>0.00</td>\n",
       "      <td>Male</td>\n",
       "      <td>Spain</td>\n",
       "      <td>473</td>\n",
       "      <td>8</td>\n",
       "    </tr>\n",
       "    <tr>\n",
       "      <th>2399</th>\n",
       "      <td>2</td>\n",
       "      <td>51</td>\n",
       "      <td>0</td>\n",
       "      <td>90373.28</td>\n",
       "      <td>Male</td>\n",
       "      <td>Germany</td>\n",
       "      <td>541</td>\n",
       "      <td>7</td>\n",
       "    </tr>\n",
       "  </tbody>\n",
       "</table>\n",
       "<p>2000 rows × 8 columns</p>\n",
       "</div>"
      ],
      "text/plain": [
       "      products_number  age  active_member    balance  gender  country  \\\n",
       "6228                1   42              1   90248.79    Male  Germany   \n",
       "6778                2   50              1  132598.38  Female  Germany   \n",
       "4298                2   38              0  111835.94    Male   France   \n",
       "964                 1   43              1  115888.04  Female  Germany   \n",
       "7425                1   33              0  144962.74    Male  Germany   \n",
       "...               ...  ...            ...        ...     ...      ...   \n",
       "4812                1   31              0   91125.75    Male   France   \n",
       "1230                2   36              1  109949.05    Male  Germany   \n",
       "4930                1   30              1  112372.96    Male  Germany   \n",
       "2198                2   48              0       0.00    Male    Spain   \n",
       "2399                2   51              0   90373.28    Male  Germany   \n",
       "\n",
       "      credit_score  tenure  \n",
       "6228           663       5  \n",
       "6778           679       6  \n",
       "4298           602       7  \n",
       "964            683       4  \n",
       "7425           552       3  \n",
       "...            ...     ...  \n",
       "4812           672       6  \n",
       "1230           775       2  \n",
       "4930           627       6  \n",
       "2198           473       8  \n",
       "2399           541       7  \n",
       "\n",
       "[2000 rows x 8 columns]"
      ]
     },
     "execution_count": 36,
     "metadata": {},
     "output_type": "execute_result"
    }
   ],
   "source": [
    "# Show dataframe of X_test\n",
    "X_test"
   ]
  },
  {
   "cell_type": "markdown",
   "metadata": {},
   "source": [
    "Terdapat 2000 baris dan 8 kolom untuk X_test"
   ]
  },
  {
   "cell_type": "code",
   "execution_count": 37,
   "metadata": {},
   "outputs": [
    {
     "data": {
      "text/html": [
       "<div>\n",
       "<style scoped>\n",
       "    .dataframe tbody tr th:only-of-type {\n",
       "        vertical-align: middle;\n",
       "    }\n",
       "\n",
       "    .dataframe tbody tr th {\n",
       "        vertical-align: top;\n",
       "    }\n",
       "\n",
       "    .dataframe thead th {\n",
       "        text-align: right;\n",
       "    }\n",
       "</style>\n",
       "<table border=\"1\" class=\"dataframe\">\n",
       "  <thead>\n",
       "    <tr style=\"text-align: right;\">\n",
       "      <th></th>\n",
       "      <th>churn</th>\n",
       "    </tr>\n",
       "  </thead>\n",
       "  <tbody>\n",
       "    <tr>\n",
       "      <th>8941</th>\n",
       "      <td>0</td>\n",
       "    </tr>\n",
       "    <tr>\n",
       "      <th>1579</th>\n",
       "      <td>0</td>\n",
       "    </tr>\n",
       "    <tr>\n",
       "      <th>9696</th>\n",
       "      <td>0</td>\n",
       "    </tr>\n",
       "    <tr>\n",
       "      <th>5389</th>\n",
       "      <td>0</td>\n",
       "    </tr>\n",
       "    <tr>\n",
       "      <th>3757</th>\n",
       "      <td>0</td>\n",
       "    </tr>\n",
       "    <tr>\n",
       "      <th>...</th>\n",
       "      <td>...</td>\n",
       "    </tr>\n",
       "    <tr>\n",
       "      <th>8838</th>\n",
       "      <td>1</td>\n",
       "    </tr>\n",
       "    <tr>\n",
       "      <th>4658</th>\n",
       "      <td>0</td>\n",
       "    </tr>\n",
       "    <tr>\n",
       "      <th>8902</th>\n",
       "      <td>0</td>\n",
       "    </tr>\n",
       "    <tr>\n",
       "      <th>882</th>\n",
       "      <td>0</td>\n",
       "    </tr>\n",
       "    <tr>\n",
       "      <th>3002</th>\n",
       "      <td>0</td>\n",
       "    </tr>\n",
       "  </tbody>\n",
       "</table>\n",
       "<p>8000 rows × 1 columns</p>\n",
       "</div>"
      ],
      "text/plain": [
       "      churn\n",
       "8941      0\n",
       "1579      0\n",
       "9696      0\n",
       "5389      0\n",
       "3757      0\n",
       "...     ...\n",
       "8838      1\n",
       "4658      0\n",
       "8902      0\n",
       "882       0\n",
       "3002      0\n",
       "\n",
       "[8000 rows x 1 columns]"
      ]
     },
     "execution_count": 37,
     "metadata": {},
     "output_type": "execute_result"
    }
   ],
   "source": [
    "# Convert array y_train to dataframe\n",
    "y_train = pd.DataFrame(y_train)\n",
    "\n",
    "# Show dataframe\n",
    "y_train"
   ]
  },
  {
   "cell_type": "markdown",
   "metadata": {},
   "source": [
    "Terdapat 8000 baris dan 1 kolom untuk y_train"
   ]
  },
  {
   "cell_type": "code",
   "execution_count": 38,
   "metadata": {},
   "outputs": [
    {
     "data": {
      "text/html": [
       "<div>\n",
       "<style scoped>\n",
       "    .dataframe tbody tr th:only-of-type {\n",
       "        vertical-align: middle;\n",
       "    }\n",
       "\n",
       "    .dataframe tbody tr th {\n",
       "        vertical-align: top;\n",
       "    }\n",
       "\n",
       "    .dataframe thead th {\n",
       "        text-align: right;\n",
       "    }\n",
       "</style>\n",
       "<table border=\"1\" class=\"dataframe\">\n",
       "  <thead>\n",
       "    <tr style=\"text-align: right;\">\n",
       "      <th></th>\n",
       "      <th>churn</th>\n",
       "    </tr>\n",
       "  </thead>\n",
       "  <tbody>\n",
       "    <tr>\n",
       "      <th>6228</th>\n",
       "      <td>0</td>\n",
       "    </tr>\n",
       "    <tr>\n",
       "      <th>6778</th>\n",
       "      <td>0</td>\n",
       "    </tr>\n",
       "    <tr>\n",
       "      <th>4298</th>\n",
       "      <td>0</td>\n",
       "    </tr>\n",
       "    <tr>\n",
       "      <th>964</th>\n",
       "      <td>1</td>\n",
       "    </tr>\n",
       "    <tr>\n",
       "      <th>7425</th>\n",
       "      <td>1</td>\n",
       "    </tr>\n",
       "    <tr>\n",
       "      <th>...</th>\n",
       "      <td>...</td>\n",
       "    </tr>\n",
       "    <tr>\n",
       "      <th>4812</th>\n",
       "      <td>0</td>\n",
       "    </tr>\n",
       "    <tr>\n",
       "      <th>1230</th>\n",
       "      <td>0</td>\n",
       "    </tr>\n",
       "    <tr>\n",
       "      <th>4930</th>\n",
       "      <td>0</td>\n",
       "    </tr>\n",
       "    <tr>\n",
       "      <th>2198</th>\n",
       "      <td>0</td>\n",
       "    </tr>\n",
       "    <tr>\n",
       "      <th>2399</th>\n",
       "      <td>0</td>\n",
       "    </tr>\n",
       "  </tbody>\n",
       "</table>\n",
       "<p>2000 rows × 1 columns</p>\n",
       "</div>"
      ],
      "text/plain": [
       "      churn\n",
       "6228      0\n",
       "6778      0\n",
       "4298      0\n",
       "964       1\n",
       "7425      1\n",
       "...     ...\n",
       "4812      0\n",
       "1230      0\n",
       "4930      0\n",
       "2198      0\n",
       "2399      0\n",
       "\n",
       "[2000 rows x 1 columns]"
      ]
     },
     "execution_count": 38,
     "metadata": {},
     "output_type": "execute_result"
    }
   ],
   "source": [
    "# Convert array y_test to dataframe\n",
    "y_test = pd.DataFrame(y_test)\n",
    "\n",
    "# Show dataframe\n",
    "y_test"
   ]
  },
  {
   "cell_type": "markdown",
   "metadata": {},
   "source": [
    "Terdapat 2000 baris dan 1 kolom untuk y_test"
   ]
  },
  {
   "cell_type": "markdown",
   "metadata": {},
   "source": [
    "### 1. X_train_num & X_test_num"
   ]
  },
  {
   "cell_type": "code",
   "execution_count": 39,
   "metadata": {},
   "outputs": [],
   "source": [
    "# Select numerical columns from X_train\n",
    "X_train_num = X_train[['age', 'balance', 'tenure', 'credit_score']]\n",
    "\n",
    "# Select numerical columns from X_test\n",
    "X_test_num = X_test[['age', 'balance', 'tenure', 'credit_score']]"
   ]
  },
  {
   "cell_type": "markdown",
   "metadata": {},
   "source": [
    "Membagi menjadi data train numerical dan data test numerical dan saya memilih kolom age, tenure, credit_score dan balance untuk kolom numerical, karena bertipe data numeric dan continues values"
   ]
  },
  {
   "cell_type": "code",
   "execution_count": 40,
   "metadata": {},
   "outputs": [
    {
     "data": {
      "text/html": [
       "<div>\n",
       "<style scoped>\n",
       "    .dataframe tbody tr th:only-of-type {\n",
       "        vertical-align: middle;\n",
       "    }\n",
       "\n",
       "    .dataframe tbody tr th {\n",
       "        vertical-align: top;\n",
       "    }\n",
       "\n",
       "    .dataframe thead th {\n",
       "        text-align: right;\n",
       "    }\n",
       "</style>\n",
       "<table border=\"1\" class=\"dataframe\">\n",
       "  <thead>\n",
       "    <tr style=\"text-align: right;\">\n",
       "      <th></th>\n",
       "      <th>age</th>\n",
       "      <th>balance</th>\n",
       "      <th>tenure</th>\n",
       "      <th>credit_score</th>\n",
       "    </tr>\n",
       "  </thead>\n",
       "  <tbody>\n",
       "    <tr>\n",
       "      <th>8941</th>\n",
       "      <td>34</td>\n",
       "      <td>120875.23</td>\n",
       "      <td>4</td>\n",
       "      <td>774</td>\n",
       "    </tr>\n",
       "    <tr>\n",
       "      <th>1579</th>\n",
       "      <td>41</td>\n",
       "      <td>37702.79</td>\n",
       "      <td>8</td>\n",
       "      <td>618</td>\n",
       "    </tr>\n",
       "    <tr>\n",
       "      <th>9696</th>\n",
       "      <td>32</td>\n",
       "      <td>97514.07</td>\n",
       "      <td>8</td>\n",
       "      <td>550</td>\n",
       "    </tr>\n",
       "    <tr>\n",
       "      <th>5389</th>\n",
       "      <td>32</td>\n",
       "      <td>0.00</td>\n",
       "      <td>4</td>\n",
       "      <td>774</td>\n",
       "    </tr>\n",
       "    <tr>\n",
       "      <th>3757</th>\n",
       "      <td>45</td>\n",
       "      <td>79259.75</td>\n",
       "      <td>6</td>\n",
       "      <td>593</td>\n",
       "    </tr>\n",
       "    <tr>\n",
       "      <th>...</th>\n",
       "      <td>...</td>\n",
       "      <td>...</td>\n",
       "      <td>...</td>\n",
       "      <td>...</td>\n",
       "    </tr>\n",
       "    <tr>\n",
       "      <th>8838</th>\n",
       "      <td>33</td>\n",
       "      <td>108477.49</td>\n",
       "      <td>0</td>\n",
       "      <td>558</td>\n",
       "    </tr>\n",
       "    <tr>\n",
       "      <th>4658</th>\n",
       "      <td>28</td>\n",
       "      <td>159900.38</td>\n",
       "      <td>8</td>\n",
       "      <td>700</td>\n",
       "    </tr>\n",
       "    <tr>\n",
       "      <th>8902</th>\n",
       "      <td>39</td>\n",
       "      <td>0.00</td>\n",
       "      <td>5</td>\n",
       "      <td>467</td>\n",
       "    </tr>\n",
       "    <tr>\n",
       "      <th>882</th>\n",
       "      <td>36</td>\n",
       "      <td>106192.10</td>\n",
       "      <td>6</td>\n",
       "      <td>565</td>\n",
       "    </tr>\n",
       "    <tr>\n",
       "      <th>3002</th>\n",
       "      <td>32</td>\n",
       "      <td>104336.43</td>\n",
       "      <td>2</td>\n",
       "      <td>786</td>\n",
       "    </tr>\n",
       "  </tbody>\n",
       "</table>\n",
       "<p>8000 rows × 4 columns</p>\n",
       "</div>"
      ],
      "text/plain": [
       "      age    balance  tenure  credit_score\n",
       "8941   34  120875.23       4           774\n",
       "1579   41   37702.79       8           618\n",
       "9696   32   97514.07       8           550\n",
       "5389   32       0.00       4           774\n",
       "3757   45   79259.75       6           593\n",
       "...   ...        ...     ...           ...\n",
       "8838   33  108477.49       0           558\n",
       "4658   28  159900.38       8           700\n",
       "8902   39       0.00       5           467\n",
       "882    36  106192.10       6           565\n",
       "3002   32  104336.43       2           786\n",
       "\n",
       "[8000 rows x 4 columns]"
      ]
     },
     "execution_count": 40,
     "metadata": {},
     "output_type": "execute_result"
    }
   ],
   "source": [
    "# Show dataframe of X_train_num\n",
    "X_train_num"
   ]
  },
  {
   "cell_type": "markdown",
   "metadata": {},
   "source": [
    "Menampilkan dataframe X_train_num yang berjumlah 8000 baris dan 4 kolom"
   ]
  },
  {
   "cell_type": "code",
   "execution_count": 41,
   "metadata": {},
   "outputs": [
    {
     "data": {
      "text/html": [
       "<div>\n",
       "<style scoped>\n",
       "    .dataframe tbody tr th:only-of-type {\n",
       "        vertical-align: middle;\n",
       "    }\n",
       "\n",
       "    .dataframe tbody tr th {\n",
       "        vertical-align: top;\n",
       "    }\n",
       "\n",
       "    .dataframe thead th {\n",
       "        text-align: right;\n",
       "    }\n",
       "</style>\n",
       "<table border=\"1\" class=\"dataframe\">\n",
       "  <thead>\n",
       "    <tr style=\"text-align: right;\">\n",
       "      <th></th>\n",
       "      <th>age</th>\n",
       "      <th>balance</th>\n",
       "      <th>tenure</th>\n",
       "      <th>credit_score</th>\n",
       "    </tr>\n",
       "  </thead>\n",
       "  <tbody>\n",
       "    <tr>\n",
       "      <th>6228</th>\n",
       "      <td>42</td>\n",
       "      <td>90248.79</td>\n",
       "      <td>5</td>\n",
       "      <td>663</td>\n",
       "    </tr>\n",
       "    <tr>\n",
       "      <th>6778</th>\n",
       "      <td>50</td>\n",
       "      <td>132598.38</td>\n",
       "      <td>6</td>\n",
       "      <td>679</td>\n",
       "    </tr>\n",
       "    <tr>\n",
       "      <th>4298</th>\n",
       "      <td>38</td>\n",
       "      <td>111835.94</td>\n",
       "      <td>7</td>\n",
       "      <td>602</td>\n",
       "    </tr>\n",
       "    <tr>\n",
       "      <th>964</th>\n",
       "      <td>43</td>\n",
       "      <td>115888.04</td>\n",
       "      <td>4</td>\n",
       "      <td>683</td>\n",
       "    </tr>\n",
       "    <tr>\n",
       "      <th>7425</th>\n",
       "      <td>33</td>\n",
       "      <td>144962.74</td>\n",
       "      <td>3</td>\n",
       "      <td>552</td>\n",
       "    </tr>\n",
       "    <tr>\n",
       "      <th>...</th>\n",
       "      <td>...</td>\n",
       "      <td>...</td>\n",
       "      <td>...</td>\n",
       "      <td>...</td>\n",
       "    </tr>\n",
       "    <tr>\n",
       "      <th>4812</th>\n",
       "      <td>31</td>\n",
       "      <td>91125.75</td>\n",
       "      <td>6</td>\n",
       "      <td>672</td>\n",
       "    </tr>\n",
       "    <tr>\n",
       "      <th>1230</th>\n",
       "      <td>36</td>\n",
       "      <td>109949.05</td>\n",
       "      <td>2</td>\n",
       "      <td>775</td>\n",
       "    </tr>\n",
       "    <tr>\n",
       "      <th>4930</th>\n",
       "      <td>30</td>\n",
       "      <td>112372.96</td>\n",
       "      <td>6</td>\n",
       "      <td>627</td>\n",
       "    </tr>\n",
       "    <tr>\n",
       "      <th>2198</th>\n",
       "      <td>48</td>\n",
       "      <td>0.00</td>\n",
       "      <td>8</td>\n",
       "      <td>473</td>\n",
       "    </tr>\n",
       "    <tr>\n",
       "      <th>2399</th>\n",
       "      <td>51</td>\n",
       "      <td>90373.28</td>\n",
       "      <td>7</td>\n",
       "      <td>541</td>\n",
       "    </tr>\n",
       "  </tbody>\n",
       "</table>\n",
       "<p>2000 rows × 4 columns</p>\n",
       "</div>"
      ],
      "text/plain": [
       "      age    balance  tenure  credit_score\n",
       "6228   42   90248.79       5           663\n",
       "6778   50  132598.38       6           679\n",
       "4298   38  111835.94       7           602\n",
       "964    43  115888.04       4           683\n",
       "7425   33  144962.74       3           552\n",
       "...   ...        ...     ...           ...\n",
       "4812   31   91125.75       6           672\n",
       "1230   36  109949.05       2           775\n",
       "4930   30  112372.96       6           627\n",
       "2198   48       0.00       8           473\n",
       "2399   51   90373.28       7           541\n",
       "\n",
       "[2000 rows x 4 columns]"
      ]
     },
     "execution_count": 41,
     "metadata": {},
     "output_type": "execute_result"
    }
   ],
   "source": [
    "# Show dataframe of X_test_num\n",
    "X_test_num"
   ]
  },
  {
   "cell_type": "markdown",
   "metadata": {},
   "source": [
    "Menampilkan dataframe X_test_num yang berjumlah 2000 baris dan 4 kolom"
   ]
  },
  {
   "cell_type": "markdown",
   "metadata": {},
   "source": [
    "### 2. X_train_cat & X_test_cat"
   ]
  },
  {
   "cell_type": "code",
   "execution_count": 42,
   "metadata": {},
   "outputs": [],
   "source": [
    "# Select categorical columns from X_train\n",
    "X_train_cat = X_train[['products_number', 'active_member', 'gender', 'country']]\n",
    "\n",
    "# Select categorical columns from X_test\n",
    "X_test_cat = X_test[['products_number', 'active_member', 'gender', 'country']]"
   ]
  },
  {
   "cell_type": "markdown",
   "metadata": {},
   "source": [
    "Membagi menjadi data train categorical dan data test categorical dan ada beberapa kolom bertipe categorical, yaitu products_number, active_member, gender dan country"
   ]
  },
  {
   "cell_type": "code",
   "execution_count": 43,
   "metadata": {},
   "outputs": [
    {
     "data": {
      "text/html": [
       "<div>\n",
       "<style scoped>\n",
       "    .dataframe tbody tr th:only-of-type {\n",
       "        vertical-align: middle;\n",
       "    }\n",
       "\n",
       "    .dataframe tbody tr th {\n",
       "        vertical-align: top;\n",
       "    }\n",
       "\n",
       "    .dataframe thead th {\n",
       "        text-align: right;\n",
       "    }\n",
       "</style>\n",
       "<table border=\"1\" class=\"dataframe\">\n",
       "  <thead>\n",
       "    <tr style=\"text-align: right;\">\n",
       "      <th></th>\n",
       "      <th>products_number</th>\n",
       "      <th>active_member</th>\n",
       "      <th>gender</th>\n",
       "      <th>country</th>\n",
       "    </tr>\n",
       "  </thead>\n",
       "  <tbody>\n",
       "    <tr>\n",
       "      <th>8941</th>\n",
       "      <td>2</td>\n",
       "      <td>1</td>\n",
       "      <td>Male</td>\n",
       "      <td>Germany</td>\n",
       "    </tr>\n",
       "    <tr>\n",
       "      <th>1579</th>\n",
       "      <td>1</td>\n",
       "      <td>1</td>\n",
       "      <td>Male</td>\n",
       "      <td>Germany</td>\n",
       "    </tr>\n",
       "    <tr>\n",
       "      <th>9696</th>\n",
       "      <td>1</td>\n",
       "      <td>1</td>\n",
       "      <td>Male</td>\n",
       "      <td>France</td>\n",
       "    </tr>\n",
       "    <tr>\n",
       "      <th>5389</th>\n",
       "      <td>2</td>\n",
       "      <td>0</td>\n",
       "      <td>Female</td>\n",
       "      <td>France</td>\n",
       "    </tr>\n",
       "    <tr>\n",
       "      <th>3757</th>\n",
       "      <td>1</td>\n",
       "      <td>0</td>\n",
       "      <td>Female</td>\n",
       "      <td>Spain</td>\n",
       "    </tr>\n",
       "    <tr>\n",
       "      <th>...</th>\n",
       "      <td>...</td>\n",
       "      <td>...</td>\n",
       "      <td>...</td>\n",
       "      <td>...</td>\n",
       "    </tr>\n",
       "    <tr>\n",
       "      <th>8838</th>\n",
       "      <td>1</td>\n",
       "      <td>1</td>\n",
       "      <td>Male</td>\n",
       "      <td>France</td>\n",
       "    </tr>\n",
       "    <tr>\n",
       "      <th>4658</th>\n",
       "      <td>1</td>\n",
       "      <td>0</td>\n",
       "      <td>Male</td>\n",
       "      <td>Spain</td>\n",
       "    </tr>\n",
       "    <tr>\n",
       "      <th>8902</th>\n",
       "      <td>2</td>\n",
       "      <td>1</td>\n",
       "      <td>Male</td>\n",
       "      <td>Spain</td>\n",
       "    </tr>\n",
       "    <tr>\n",
       "      <th>882</th>\n",
       "      <td>1</td>\n",
       "      <td>0</td>\n",
       "      <td>Male</td>\n",
       "      <td>France</td>\n",
       "    </tr>\n",
       "    <tr>\n",
       "      <th>3002</th>\n",
       "      <td>2</td>\n",
       "      <td>0</td>\n",
       "      <td>Female</td>\n",
       "      <td>Germany</td>\n",
       "    </tr>\n",
       "  </tbody>\n",
       "</table>\n",
       "<p>8000 rows × 4 columns</p>\n",
       "</div>"
      ],
      "text/plain": [
       "      products_number  active_member  gender  country\n",
       "8941                2              1    Male  Germany\n",
       "1579                1              1    Male  Germany\n",
       "9696                1              1    Male   France\n",
       "5389                2              0  Female   France\n",
       "3757                1              0  Female    Spain\n",
       "...               ...            ...     ...      ...\n",
       "8838                1              1    Male   France\n",
       "4658                1              0    Male    Spain\n",
       "8902                2              1    Male    Spain\n",
       "882                 1              0    Male   France\n",
       "3002                2              0  Female  Germany\n",
       "\n",
       "[8000 rows x 4 columns]"
      ]
     },
     "execution_count": 43,
     "metadata": {},
     "output_type": "execute_result"
    }
   ],
   "source": [
    "# Show dataframe of X_train_cat\n",
    "X_train_cat"
   ]
  },
  {
   "cell_type": "markdown",
   "metadata": {},
   "source": [
    "Menampilkan dataframe X_train_cat yang berjumlah 8000 baris dan 4 kolom"
   ]
  },
  {
   "cell_type": "code",
   "execution_count": 44,
   "metadata": {},
   "outputs": [
    {
     "data": {
      "text/html": [
       "<div>\n",
       "<style scoped>\n",
       "    .dataframe tbody tr th:only-of-type {\n",
       "        vertical-align: middle;\n",
       "    }\n",
       "\n",
       "    .dataframe tbody tr th {\n",
       "        vertical-align: top;\n",
       "    }\n",
       "\n",
       "    .dataframe thead th {\n",
       "        text-align: right;\n",
       "    }\n",
       "</style>\n",
       "<table border=\"1\" class=\"dataframe\">\n",
       "  <thead>\n",
       "    <tr style=\"text-align: right;\">\n",
       "      <th></th>\n",
       "      <th>products_number</th>\n",
       "      <th>active_member</th>\n",
       "      <th>gender</th>\n",
       "      <th>country</th>\n",
       "    </tr>\n",
       "  </thead>\n",
       "  <tbody>\n",
       "    <tr>\n",
       "      <th>6228</th>\n",
       "      <td>1</td>\n",
       "      <td>1</td>\n",
       "      <td>Male</td>\n",
       "      <td>Germany</td>\n",
       "    </tr>\n",
       "    <tr>\n",
       "      <th>6778</th>\n",
       "      <td>2</td>\n",
       "      <td>1</td>\n",
       "      <td>Female</td>\n",
       "      <td>Germany</td>\n",
       "    </tr>\n",
       "    <tr>\n",
       "      <th>4298</th>\n",
       "      <td>2</td>\n",
       "      <td>0</td>\n",
       "      <td>Male</td>\n",
       "      <td>France</td>\n",
       "    </tr>\n",
       "    <tr>\n",
       "      <th>964</th>\n",
       "      <td>1</td>\n",
       "      <td>1</td>\n",
       "      <td>Female</td>\n",
       "      <td>Germany</td>\n",
       "    </tr>\n",
       "    <tr>\n",
       "      <th>7425</th>\n",
       "      <td>1</td>\n",
       "      <td>0</td>\n",
       "      <td>Male</td>\n",
       "      <td>Germany</td>\n",
       "    </tr>\n",
       "    <tr>\n",
       "      <th>...</th>\n",
       "      <td>...</td>\n",
       "      <td>...</td>\n",
       "      <td>...</td>\n",
       "      <td>...</td>\n",
       "    </tr>\n",
       "    <tr>\n",
       "      <th>4812</th>\n",
       "      <td>1</td>\n",
       "      <td>0</td>\n",
       "      <td>Male</td>\n",
       "      <td>France</td>\n",
       "    </tr>\n",
       "    <tr>\n",
       "      <th>1230</th>\n",
       "      <td>2</td>\n",
       "      <td>1</td>\n",
       "      <td>Male</td>\n",
       "      <td>Germany</td>\n",
       "    </tr>\n",
       "    <tr>\n",
       "      <th>4930</th>\n",
       "      <td>1</td>\n",
       "      <td>1</td>\n",
       "      <td>Male</td>\n",
       "      <td>Germany</td>\n",
       "    </tr>\n",
       "    <tr>\n",
       "      <th>2198</th>\n",
       "      <td>2</td>\n",
       "      <td>0</td>\n",
       "      <td>Male</td>\n",
       "      <td>Spain</td>\n",
       "    </tr>\n",
       "    <tr>\n",
       "      <th>2399</th>\n",
       "      <td>2</td>\n",
       "      <td>0</td>\n",
       "      <td>Male</td>\n",
       "      <td>Germany</td>\n",
       "    </tr>\n",
       "  </tbody>\n",
       "</table>\n",
       "<p>2000 rows × 4 columns</p>\n",
       "</div>"
      ],
      "text/plain": [
       "      products_number  active_member  gender  country\n",
       "6228                1              1    Male  Germany\n",
       "6778                2              1  Female  Germany\n",
       "4298                2              0    Male   France\n",
       "964                 1              1  Female  Germany\n",
       "7425                1              0    Male  Germany\n",
       "...               ...            ...     ...      ...\n",
       "4812                1              0    Male   France\n",
       "1230                2              1    Male  Germany\n",
       "4930                1              1    Male  Germany\n",
       "2198                2              0    Male    Spain\n",
       "2399                2              0    Male  Germany\n",
       "\n",
       "[2000 rows x 4 columns]"
      ]
     },
     "execution_count": 44,
     "metadata": {},
     "output_type": "execute_result"
    }
   ],
   "source": [
    "# Show dataframe of X_test_cat\n",
    "X_test_cat"
   ]
  },
  {
   "cell_type": "markdown",
   "metadata": {},
   "source": [
    "Menampilkan dataframe X_test_cat yang berjumlah 8000 baris dan 4 kolom"
   ]
  },
  {
   "cell_type": "markdown",
   "metadata": {},
   "source": [
    "## G. Skewness"
   ]
  },
  {
   "cell_type": "markdown",
   "metadata": {},
   "source": [
    "Pada langkah ini ditujukan untuk menghitung berapa nilai skewness, berapa jumlah dan persentase outlier, serta membuat plot untuk menggambarkan distribusi data pada X_train_numeric"
   ]
  },
  {
   "cell_type": "markdown",
   "metadata": {},
   "source": [
    "#### i. Check Skewness"
   ]
  },
  {
   "cell_type": "code",
   "execution_count": 45,
   "metadata": {},
   "outputs": [
    {
     "name": "stdout",
     "output_type": "stream",
     "text": [
      "Skewness of column age is 0.9977746131679048\n",
      "Skewness of column balance is -0.13737067704466396\n",
      "Skewness of column tenure is 0.01289598429976965\n",
      "Skewness of column credit_score is -0.05788500552064545\n"
     ]
    }
   ],
   "source": [
    "# Calculate skewness for each numerical feature in X_train_num\n",
    "for i in X_train_num:\n",
    "    skew = X_train_num[i].skew()\n",
    "    print('Skewness of column', i, 'is', skew)"
   ]
  },
  {
   "cell_type": "markdown",
   "metadata": {},
   "source": [
    "Kemiringan distribusi data dari variabel X_train_num dibawah 1, namun saya rasa masih perlu di handling agar distribusi data X_train_num semakin normal."
   ]
  },
  {
   "cell_type": "markdown",
   "metadata": {},
   "source": [
    "#### ii. Plot Distribution of X_train_num"
   ]
  },
  {
   "cell_type": "code",
   "execution_count": 46,
   "metadata": {},
   "outputs": [
    {
     "data": {
      "image/png": "[encoded data removed]",
      "text/plain": [
       "<Figure size 800x400 with 4 Axes>"
      ]
     },
     "metadata": {},
     "output_type": "display_data"
    }
   ],
   "source": [
    "# Create subplots\n",
    "fig, ax = plt.subplots(nrows=2, ncols=2, figsize=[8, 4])\n",
    "ax = ax.flatten()\n",
    "\n",
    "# Plot histograms for numerical features in X_train_num\n",
    "for idx, col in enumerate(X_train_num):\n",
    "    sns.histplot(X_train_num[col], ax=ax[idx])\n",
    "\n",
    "# Adjust the spacing between subplots\n",
    "fig.subplots_adjust(wspace=0.5)\n"
   ]
  },
  {
   "cell_type": "markdown",
   "metadata": {},
   "source": [
    "Saya membuat plot visualisasi kolom X_train_num yang akan di handling skewness nya agar lebih jelas terlihat bagaimana kemiringan/distribusi data nya"
   ]
  },
  {
   "cell_type": "markdown",
   "metadata": {},
   "source": [
    "#### iii. Count amount of outlier"
   ]
  },
  {
   "cell_type": "code",
   "execution_count": 47,
   "metadata": {},
   "outputs": [
    {
     "name": "stdout",
     "output_type": "stream",
     "text": [
      "Number of outliers in column age: 104 outliers\n",
      "Number of outliers in column balance: 0 outliers\n",
      "Number of outliers in column tenure: 0 outliers\n",
      "Number of outliers in column credit_score: 8 outliers\n"
     ]
    }
   ],
   "source": [
    "# Define the threshold for detecting outliers\n",
    "threshold = 3\n",
    "\n",
    "# Create a dictionary to store outlier counts for each column\n",
    "outlier_counts = {}\n",
    "\n",
    "# Iterate through numeric columns in X_train_num\n",
    "for col in X_train_num.columns:\n",
    "    # Get the data in the current column\n",
    "    data_skew = X_train_num[col]\n",
    "    \n",
    "    # Calculate the mean and standard deviation of the data\n",
    "    mean = np.mean(data_skew)\n",
    "    std_dev = np.std(data_skew)\n",
    "\n",
    "    # Calculate upper and lower bounds for outlier detection\n",
    "    upper_bound = mean + threshold * std_dev\n",
    "    lower_bound = mean - threshold * std_dev\n",
    "\n",
    "    # Use NumPy to find the indices of outliers\n",
    "    outliers = np.where((data_skew > upper_bound) | (data_skew < lower_bound))\n",
    "    \n",
    "    # Store the count of outliers in the dictionary\n",
    "    outlier_counts[col] = len(outliers[0])\n",
    "\n",
    "# Iterate through the dictionary and print the outlier counts for each column\n",
    "for col, count in outlier_counts.items():\n",
    "    print(f\"Number of outliers in column {col}: {count} outliers\")\n"
   ]
  },
  {
   "cell_type": "markdown",
   "metadata": {},
   "source": [
    "Saya ingin melihat ada berapa jumlah outlier pada masing-masing kolom dengan threshold 3 karena saya akan menggunakan Z-score/gaussian karena skewness <1. Terlihat ada 104 outlier pada kolom age, 8 outlier pada kolom credit_score dan kolom balance serta tenure bersih dari outlier"
   ]
  },
  {
   "cell_type": "markdown",
   "metadata": {},
   "source": [
    "#### iv. Count percentage of outlier"
   ]
  },
  {
   "cell_type": "code",
   "execution_count": 48,
   "metadata": {},
   "outputs": [
    {
     "name": "stdout",
     "output_type": "stream",
     "text": [
      "Percentage of outliers in column age: 1.30%\n",
      "Percentage of outliers in column balance: 0.00%\n",
      "Percentage of outliers in column tenure: 0.00%\n",
      "Percentage of outliers in column credit_score: 0.10%\n"
     ]
    }
   ],
   "source": [
    "# Set the threshold for identifying outliers\n",
    "threshold = 3\n",
    "\n",
    "# Initialize a dictionary to store outlier percentages for each numerical column\n",
    "outlier_percentages = {}\n",
    "\n",
    "# Iterate through each column in X_train_num\n",
    "for col in X_train_num.columns:\n",
    "    data_skew = X_train_num[col]\n",
    "    mean = np.mean(data_skew)\n",
    "    std_dev = np.std(data_skew)\n",
    "\n",
    "    upper_bound = mean + threshold * std_dev\n",
    "    lower_bound = mean - threshold * std_dev\n",
    "\n",
    "    # Identify outliers based on the threshold\n",
    "    outliers = np.where((data_skew > upper_bound) | (data_skew < lower_bound))\n",
    "    \n",
    "    # Calculate the percentage of outliers\n",
    "    total_data_points = len(data_skew)\n",
    "    percentage = (len(outliers[0]) / total_data_points) * 100\n",
    "    \n",
    "    # Store the percentage of outliers in the dictionary\n",
    "    outlier_percentages[col] = percentage\n",
    "\n",
    "# Print the percentage of outliers for each column\n",
    "for col, percentage in outlier_percentages.items():\n",
    "    print(f\"Percentage of outliers in column {col}: {percentage:.2f}%\")\n"
   ]
  },
  {
   "cell_type": "markdown",
   "metadata": {},
   "source": [
    "Saya ingin melihat berapa persentase outlier dalam setiap kolom untuk menentukan cara handling outlier, apakah di capping atau di trimming. Jika persentase outlier kurang dari 5%, maka saya akan menggunakan metode trimming"
   ]
  },
  {
   "cell_type": "markdown",
   "metadata": {},
   "source": [
    "Berdasarkan hasil perhitungan, persentase outlier kolom age dan credit_score kurang dari 5%. Karena data latih saya hanya ada 8000 rows dan saya khawatir model saya akan jelek karena kekurangan data, maka saya menggunakan metode capping untuk handling outlier"
   ]
  },
  {
   "cell_type": "markdown",
   "metadata": {},
   "source": [
    "## H. Preprocessing Using Pipeline"
   ]
  },
  {
   "cell_type": "markdown",
   "metadata": {},
   "source": [
    "Proses ini dilakukan untuk otomatisasi langkah-langkah pemrosesan data sebelum melatih model. Penggunaan pipeline memudahkan manajemen dan mencegah kebocoran informasi saat evaluasi model."
   ]
  },
  {
   "cell_type": "code",
   "execution_count": 49,
   "metadata": {},
   "outputs": [],
   "source": [
    "# Define the numeric features to be processed\n",
    "numeric_features = ['age', 'balance', 'credit_score', 'tenure']\n",
    "\n",
    "# Create a numeric transformer pipeline\n",
    "numeric_transformer = Pipeline(\n",
    "    steps=[\n",
    "        ('winsorizer', Winsorizer(capping_method='gaussian', tail='both', fold=3, variables=['age', 'credit_score'])), \n",
    "        ('scaler', StandardScaler())\n",
    "    ]\n",
    ")\n",
    "# Fit and transform the numeric features\n",
    "numeric_pipeline = numeric_transformer.fit_transform(X_train[['age', 'balance', 'credit_score', 'tenure']])\n",
    "\n",
    "# Define the ordinal features to be processed\n",
    "ordinal_features = ['products_number', 'country', 'gender']\n",
    "\n",
    "# Create an ordinal transformer pipeline\n",
    "ordinal_transformer = Pipeline(\n",
    "    steps=[\n",
    "        ('ordinal', OrdinalEncoder(categories=[['1', '2', '3', '4'], ['France', 'Spain', 'Germany'], ['Male', 'Female']]))\n",
    "    ]\n",
    ")\n",
    "# Fit and transform the ordinal features\n",
    "ordinal_pipeline = ordinal_transformer.fit_transform(X_train[['products_number', 'country', 'gender']])\n",
    "\n",
    "# Define the categorical features to be processed\n",
    "binary_features = ['active_member']\n",
    "\n",
    "# Create a binary transformer pipeline\n",
    "binary_transformer = Pipeline([\n",
    "    ('passthrough', None)\n",
    "])\n",
    "# Fit and transform the binary features\n",
    "binary_pipeline = binary_transformer.fit_transform(X_train[['active_member']])\n"
   ]
  },
  {
   "cell_type": "markdown",
   "metadata": {},
   "source": [
    "Saya membagi tipe data kategorikal menjadi beberapa jenis, yaitu ordinal_features dan categorical_features. Untuk ordinal_features dikhususkan untuk kolom products_number, country dan gender yang berisi beberapa unique values dan dihandling dengan OrdinalEncoder, sedangkan binary_features untuk kolom yang berisi 2 unique values saja yaitu active_member dan dihandling menggunakan OneHotEncoder. Saya juga membuat numeric_features yang berisi handling skewness dengan winsorizer dan method gaussian, serta scaling menggunakan standardscaler"
   ]
  },
  {
   "cell_type": "code",
   "execution_count": 50,
   "metadata": {},
   "outputs": [
    {
     "data": {
      "text/html": [
       "<style>#sk-container-id-1 {color: black;}#sk-container-id-1 pre{padding: 0;}#sk-container-id-1 div.sk-toggleable {background-color: white;}#sk-container-id-1 label.sk-toggleable__label {cursor: pointer;display: block;width: 100%;margin-bottom: 0;padding: 0.3em;box-sizing: border-box;text-align: center;}#sk-container-id-1 label.sk-toggleable__label-arrow:before {content: \"▸\";float: left;margin-right: 0.25em;color: #696969;}#sk-container-id-1 label.sk-toggleable__label-arrow:hover:before {color: black;}#sk-container-id-1 div.sk-estimator:hover label.sk-toggleable__label-arrow:before {color: black;}#sk-container-id-1 div.sk-toggleable__content {max-height: 0;max-width: 0;overflow: hidden;text-align: left;background-color: #f0f8ff;}#sk-container-id-1 div.sk-toggleable__content pre {margin: 0.2em;color: black;border-radius: 0.25em;background-color: #f0f8ff;}#sk-container-id-1 input.sk-toggleable__control:checked~div.sk-toggleable__content {max-height: 200px;max-width: 100%;overflow: auto;}#sk-container-id-1 input.sk-toggleable__control:checked~label.sk-toggleable__label-arrow:before {content: \"▾\";}#sk-container-id-1 div.sk-estimator input.sk-toggleable__control:checked~label.sk-toggleable__label {background-color: #d4ebff;}#sk-container-id-1 div.sk-label input.sk-toggleable__control:checked~label.sk-toggleable__label {background-color: #d4ebff;}#sk-container-id-1 input.sk-hidden--visually {border: 0;clip: rect(1px 1px 1px 1px);clip: rect(1px, 1px, 1px, 1px);height: 1px;margin: -1px;overflow: hidden;padding: 0;position: absolute;width: 1px;}#sk-container-id-1 div.sk-estimator {font-family: monospace;background-color: #f0f8ff;border: 1px dotted black;border-radius: 0.25em;box-sizing: border-box;margin-bottom: 0.5em;}#sk-container-id-1 div.sk-estimator:hover {background-color: #d4ebff;}#sk-container-id-1 div.sk-parallel-item::after {content: \"\";width: 100%;border-bottom: 1px solid gray;flex-grow: 1;}#sk-container-id-1 div.sk-label:hover label.sk-toggleable__label {background-color: #d4ebff;}#sk-container-id-1 div.sk-serial::before {content: \"\";position: absolute;border-left: 1px solid gray;box-sizing: border-box;top: 0;bottom: 0;left: 50%;z-index: 0;}#sk-container-id-1 div.sk-serial {display: flex;flex-direction: column;align-items: center;background-color: white;padding-right: 0.2em;padding-left: 0.2em;position: relative;}#sk-container-id-1 div.sk-item {position: relative;z-index: 1;}#sk-container-id-1 div.sk-parallel {display: flex;align-items: stretch;justify-content: center;background-color: white;position: relative;}#sk-container-id-1 div.sk-item::before, #sk-container-id-1 div.sk-parallel-item::before {content: \"\";position: absolute;border-left: 1px solid gray;box-sizing: border-box;top: 0;bottom: 0;left: 50%;z-index: -1;}#sk-container-id-1 div.sk-parallel-item {display: flex;flex-direction: column;z-index: 1;position: relative;background-color: white;}#sk-container-id-1 div.sk-parallel-item:first-child::after {align-self: flex-end;width: 50%;}#sk-container-id-1 div.sk-parallel-item:last-child::after {align-self: flex-start;width: 50%;}#sk-container-id-1 div.sk-parallel-item:only-child::after {width: 0;}#sk-container-id-1 div.sk-dashed-wrapped {border: 1px dashed gray;margin: 0 0.4em 0.5em 0.4em;box-sizing: border-box;padding-bottom: 0.4em;background-color: white;}#sk-container-id-1 div.sk-label label {font-family: monospace;font-weight: bold;display: inline-block;line-height: 1.2em;}#sk-container-id-1 div.sk-label-container {text-align: center;}#sk-container-id-1 div.sk-container {/* jupyter's `normalize.less` sets `[hidden] { display: none; }` but bootstrap.min.css set `[hidden] { display: none !important; }` so we also need the `!important` here to be able to override the default hidden behavior on the sphinx rendered scikit-learn.org. See: https://github.com/scikit-learn/scikit-learn/issues/21755 */display: inline-block !important;position: relative;}#sk-container-id-1 div.sk-text-repr-fallback {display: none;}</style><div id=\"sk-container-id-1\" class=\"sk-top-container\"><div class=\"sk-text-repr-fallback\"><pre>ColumnTransformer(transformers=[(&#x27;Numerical&#x27;,\n",
       "                                 Pipeline(steps=[(&#x27;winsorizer&#x27;,\n",
       "                                                  Winsorizer(tail=&#x27;both&#x27;,\n",
       "                                                             variables=[&#x27;age&#x27;,\n",
       "                                                                        &#x27;credit_score&#x27;])),\n",
       "                                                 (&#x27;scaler&#x27;, StandardScaler())]),\n",
       "                                 [&#x27;age&#x27;, &#x27;balance&#x27;, &#x27;credit_score&#x27;, &#x27;tenure&#x27;]),\n",
       "                                (&#x27;Ordinal&#x27;,\n",
       "                                 Pipeline(steps=[(&#x27;ordinal&#x27;,\n",
       "                                                  OrdinalEncoder(categories=[[&#x27;1&#x27;,\n",
       "                                                                              &#x27;2&#x27;,\n",
       "                                                                              &#x27;3&#x27;,\n",
       "                                                                              &#x27;4&#x27;],\n",
       "                                                                             [&#x27;France&#x27;,\n",
       "                                                                              &#x27;Spain&#x27;,\n",
       "                                                                              &#x27;Germany&#x27;],\n",
       "                                                                             [&#x27;Male&#x27;,\n",
       "                                                                              &#x27;Female&#x27;]]))]),\n",
       "                                 [&#x27;products_number&#x27;, &#x27;country&#x27;, &#x27;gender&#x27;]),\n",
       "                                (&#x27;Binary&#x27;, &#x27;passthrough&#x27;, [&#x27;active_member&#x27;])])</pre><b>In a Jupyter environment, please rerun this cell to show the HTML representation or trust the notebook. <br />On GitHub, the HTML representation is unable to render, please try loading this page with nbviewer.org.</b></div><div class=\"sk-container\" hidden><div class=\"sk-item sk-dashed-wrapped\"><div class=\"sk-label-container\"><div class=\"sk-label sk-toggleable\"><input class=\"sk-toggleable__control sk-hidden--visually\" id=\"sk-estimator-id-1\" type=\"checkbox\" ><label for=\"sk-estimator-id-1\" class=\"sk-toggleable__label sk-toggleable__label-arrow\">ColumnTransformer</label><div class=\"sk-toggleable__content\"><pre>ColumnTransformer(transformers=[(&#x27;Numerical&#x27;,\n",
       "                                 Pipeline(steps=[(&#x27;winsorizer&#x27;,\n",
       "                                                  Winsorizer(tail=&#x27;both&#x27;,\n",
       "                                                             variables=[&#x27;age&#x27;,\n",
       "                                                                        &#x27;credit_score&#x27;])),\n",
       "                                                 (&#x27;scaler&#x27;, StandardScaler())]),\n",
       "                                 [&#x27;age&#x27;, &#x27;balance&#x27;, &#x27;credit_score&#x27;, &#x27;tenure&#x27;]),\n",
       "                                (&#x27;Ordinal&#x27;,\n",
       "                                 Pipeline(steps=[(&#x27;ordinal&#x27;,\n",
       "                                                  OrdinalEncoder(categories=[[&#x27;1&#x27;,\n",
       "                                                                              &#x27;2&#x27;,\n",
       "                                                                              &#x27;3&#x27;,\n",
       "                                                                              &#x27;4&#x27;],\n",
       "                                                                             [&#x27;France&#x27;,\n",
       "                                                                              &#x27;Spain&#x27;,\n",
       "                                                                              &#x27;Germany&#x27;],\n",
       "                                                                             [&#x27;Male&#x27;,\n",
       "                                                                              &#x27;Female&#x27;]]))]),\n",
       "                                 [&#x27;products_number&#x27;, &#x27;country&#x27;, &#x27;gender&#x27;]),\n",
       "                                (&#x27;Binary&#x27;, &#x27;passthrough&#x27;, [&#x27;active_member&#x27;])])</pre></div></div></div><div class=\"sk-parallel\"><div class=\"sk-parallel-item\"><div class=\"sk-item\"><div class=\"sk-label-container\"><div class=\"sk-label sk-toggleable\"><input class=\"sk-toggleable__control sk-hidden--visually\" id=\"sk-estimator-id-2\" type=\"checkbox\" ><label for=\"sk-estimator-id-2\" class=\"sk-toggleable__label sk-toggleable__label-arrow\">Numerical</label><div class=\"sk-toggleable__content\"><pre>[&#x27;age&#x27;, &#x27;balance&#x27;, &#x27;credit_score&#x27;, &#x27;tenure&#x27;]</pre></div></div></div><div class=\"sk-serial\"><div class=\"sk-item\"><div class=\"sk-serial\"><div class=\"sk-item\"><div class=\"sk-estimator sk-toggleable\"><input class=\"sk-toggleable__control sk-hidden--visually\" id=\"sk-estimator-id-3\" type=\"checkbox\" ><label for=\"sk-estimator-id-3\" class=\"sk-toggleable__label sk-toggleable__label-arrow\">Winsorizer</label><div class=\"sk-toggleable__content\"><pre>Winsorizer(tail=&#x27;both&#x27;, variables=[&#x27;age&#x27;, &#x27;credit_score&#x27;])</pre></div></div></div><div class=\"sk-item\"><div class=\"sk-estimator sk-toggleable\"><input class=\"sk-toggleable__control sk-hidden--visually\" id=\"sk-estimator-id-4\" type=\"checkbox\" ><label for=\"sk-estimator-id-4\" class=\"sk-toggleable__label sk-toggleable__label-arrow\">StandardScaler</label><div class=\"sk-toggleable__content\"><pre>StandardScaler()</pre></div></div></div></div></div></div></div></div><div class=\"sk-parallel-item\"><div class=\"sk-item\"><div class=\"sk-label-container\"><div class=\"sk-label sk-toggleable\"><input class=\"sk-toggleable__control sk-hidden--visually\" id=\"sk-estimator-id-5\" type=\"checkbox\" ><label for=\"sk-estimator-id-5\" class=\"sk-toggleable__label sk-toggleable__label-arrow\">Ordinal</label><div class=\"sk-toggleable__content\"><pre>[&#x27;products_number&#x27;, &#x27;country&#x27;, &#x27;gender&#x27;]</pre></div></div></div><div class=\"sk-serial\"><div class=\"sk-item\"><div class=\"sk-serial\"><div class=\"sk-item\"><div class=\"sk-estimator sk-toggleable\"><input class=\"sk-toggleable__control sk-hidden--visually\" id=\"sk-estimator-id-6\" type=\"checkbox\" ><label for=\"sk-estimator-id-6\" class=\"sk-toggleable__label sk-toggleable__label-arrow\">OrdinalEncoder</label><div class=\"sk-toggleable__content\"><pre>OrdinalEncoder(categories=[[&#x27;1&#x27;, &#x27;2&#x27;, &#x27;3&#x27;, &#x27;4&#x27;], [&#x27;France&#x27;, &#x27;Spain&#x27;, &#x27;Germany&#x27;],\n",
       "                           [&#x27;Male&#x27;, &#x27;Female&#x27;]])</pre></div></div></div></div></div></div></div></div><div class=\"sk-parallel-item\"><div class=\"sk-item\"><div class=\"sk-label-container\"><div class=\"sk-label sk-toggleable\"><input class=\"sk-toggleable__control sk-hidden--visually\" id=\"sk-estimator-id-7\" type=\"checkbox\" ><label for=\"sk-estimator-id-7\" class=\"sk-toggleable__label sk-toggleable__label-arrow\">Binary</label><div class=\"sk-toggleable__content\"><pre>[&#x27;active_member&#x27;]</pre></div></div></div><div class=\"sk-serial\"><div class=\"sk-item\"><div class=\"sk-estimator sk-toggleable\"><input class=\"sk-toggleable__control sk-hidden--visually\" id=\"sk-estimator-id-8\" type=\"checkbox\" ><label for=\"sk-estimator-id-8\" class=\"sk-toggleable__label sk-toggleable__label-arrow\">passthrough</label><div class=\"sk-toggleable__content\"><pre>passthrough</pre></div></div></div></div></div></div></div></div></div></div>"
      ],
      "text/plain": [
       "ColumnTransformer(transformers=[('Numerical',\n",
       "                                 Pipeline(steps=[('winsorizer',\n",
       "                                                  Winsorizer(tail='both',\n",
       "                                                             variables=['age',\n",
       "                                                                        'credit_score'])),\n",
       "                                                 ('scaler', StandardScaler())]),\n",
       "                                 ['age', 'balance', 'credit_score', 'tenure']),\n",
       "                                ('Ordinal',\n",
       "                                 Pipeline(steps=[('ordinal',\n",
       "                                                  OrdinalEncoder(categories=[['1',\n",
       "                                                                              '2',\n",
       "                                                                              '3',\n",
       "                                                                              '4'],\n",
       "                                                                             ['France',\n",
       "                                                                              'Spain',\n",
       "                                                                              'Germany'],\n",
       "                                                                             ['Male',\n",
       "                                                                              'Female']]))]),\n",
       "                                 ['products_number', 'country', 'gender']),\n",
       "                                ('Binary', 'passthrough', ['active_member'])])"
      ]
     },
     "execution_count": 50,
     "metadata": {},
     "output_type": "execute_result"
    }
   ],
   "source": [
    "# Define a ColumnTransformer for preprocessing\n",
    "preprocessor = ColumnTransformer(\n",
    "    transformers=[\n",
    "        (\"Numerical\", numeric_transformer, numeric_features),\n",
    "        (\"Ordinal\", ordinal_transformer, ordinal_features),\n",
    "        (\"Binary\", 'passthrough', binary_features),\n",
    "    ]\n",
    ")\n",
    "\n",
    "preprocessor"
   ]
  },
  {
   "cell_type": "markdown",
   "metadata": {},
   "source": [
    "Pada langkah ini menggabungkan seluruh transformer dengan column transformer agar menjadi satu pipeline dengan nama variabel preprocessor"
   ]
  },
  {
   "cell_type": "code",
   "execution_count": 51,
   "metadata": {},
   "outputs": [
    {
     "data": {
      "text/html": [
       "<div>\n",
       "<style scoped>\n",
       "    .dataframe tbody tr th:only-of-type {\n",
       "        vertical-align: middle;\n",
       "    }\n",
       "\n",
       "    .dataframe tbody tr th {\n",
       "        vertical-align: top;\n",
       "    }\n",
       "\n",
       "    .dataframe thead th {\n",
       "        text-align: right;\n",
       "    }\n",
       "</style>\n",
       "<table border=\"1\" class=\"dataframe\">\n",
       "  <thead>\n",
       "    <tr style=\"text-align: right;\">\n",
       "      <th></th>\n",
       "      <th>products_number</th>\n",
       "      <th>age</th>\n",
       "      <th>active_member</th>\n",
       "      <th>balance</th>\n",
       "      <th>gender</th>\n",
       "      <th>country</th>\n",
       "      <th>credit_score</th>\n",
       "      <th>tenure</th>\n",
       "    </tr>\n",
       "  </thead>\n",
       "  <tbody>\n",
       "    <tr>\n",
       "      <th>0</th>\n",
       "      <td>-0.473618</td>\n",
       "      <td>0.712757</td>\n",
       "      <td>1.285890</td>\n",
       "      <td>-0.350525</td>\n",
       "      <td>1.0</td>\n",
       "      <td>2.0</td>\n",
       "      <td>0.0</td>\n",
       "      <td>1.0</td>\n",
       "    </tr>\n",
       "    <tr>\n",
       "      <th>1</th>\n",
       "      <td>0.207821</td>\n",
       "      <td>-0.620141</td>\n",
       "      <td>-0.336549</td>\n",
       "      <td>1.032898</td>\n",
       "      <td>0.0</td>\n",
       "      <td>2.0</td>\n",
       "      <td>0.0</td>\n",
       "      <td>1.0</td>\n",
       "    </tr>\n",
       "    <tr>\n",
       "      <th>2</th>\n",
       "      <td>-0.668316</td>\n",
       "      <td>0.338378</td>\n",
       "      <td>-1.043766</td>\n",
       "      <td>1.032898</td>\n",
       "      <td>0.0</td>\n",
       "      <td>0.0</td>\n",
       "      <td>0.0</td>\n",
       "      <td>1.0</td>\n",
       "    </tr>\n",
       "    <tr>\n",
       "      <th>3</th>\n",
       "      <td>-0.668316</td>\n",
       "      <td>-1.224355</td>\n",
       "      <td>1.285890</td>\n",
       "      <td>-0.350525</td>\n",
       "      <td>1.0</td>\n",
       "      <td>0.0</td>\n",
       "      <td>1.0</td>\n",
       "      <td>0.0</td>\n",
       "    </tr>\n",
       "    <tr>\n",
       "      <th>4</th>\n",
       "      <td>0.597215</td>\n",
       "      <td>0.045839</td>\n",
       "      <td>-0.596555</td>\n",
       "      <td>0.341187</td>\n",
       "      <td>0.0</td>\n",
       "      <td>1.0</td>\n",
       "      <td>1.0</td>\n",
       "      <td>0.0</td>\n",
       "    </tr>\n",
       "    <tr>\n",
       "      <th>...</th>\n",
       "      <td>...</td>\n",
       "      <td>...</td>\n",
       "      <td>...</td>\n",
       "      <td>...</td>\n",
       "      <td>...</td>\n",
       "      <td>...</td>\n",
       "      <td>...</td>\n",
       "      <td>...</td>\n",
       "    </tr>\n",
       "    <tr>\n",
       "      <th>7995</th>\n",
       "      <td>-0.570967</td>\n",
       "      <td>0.514074</td>\n",
       "      <td>-0.960564</td>\n",
       "      <td>-1.733948</td>\n",
       "      <td>0.0</td>\n",
       "      <td>0.0</td>\n",
       "      <td>0.0</td>\n",
       "      <td>1.0</td>\n",
       "    </tr>\n",
       "    <tr>\n",
       "      <th>7996</th>\n",
       "      <td>-1.057710</td>\n",
       "      <td>1.338163</td>\n",
       "      <td>0.516272</td>\n",
       "      <td>1.032898</td>\n",
       "      <td>0.0</td>\n",
       "      <td>1.0</td>\n",
       "      <td>0.0</td>\n",
       "      <td>0.0</td>\n",
       "    </tr>\n",
       "    <tr>\n",
       "      <th>7997</th>\n",
       "      <td>0.013124</td>\n",
       "      <td>-1.224355</td>\n",
       "      <td>-1.906987</td>\n",
       "      <td>-0.004669</td>\n",
       "      <td>1.0</td>\n",
       "      <td>1.0</td>\n",
       "      <td>0.0</td>\n",
       "      <td>1.0</td>\n",
       "    </tr>\n",
       "    <tr>\n",
       "      <th>7998</th>\n",
       "      <td>-0.278921</td>\n",
       "      <td>0.477449</td>\n",
       "      <td>-0.887762</td>\n",
       "      <td>0.341187</td>\n",
       "      <td>0.0</td>\n",
       "      <td>0.0</td>\n",
       "      <td>0.0</td>\n",
       "      <td>0.0</td>\n",
       "    </tr>\n",
       "    <tr>\n",
       "      <th>7999</th>\n",
       "      <td>-0.668316</td>\n",
       "      <td>0.447711</td>\n",
       "      <td>1.410693</td>\n",
       "      <td>-1.042237</td>\n",
       "      <td>1.0</td>\n",
       "      <td>2.0</td>\n",
       "      <td>1.0</td>\n",
       "      <td>0.0</td>\n",
       "    </tr>\n",
       "  </tbody>\n",
       "</table>\n",
       "<p>8000 rows × 8 columns</p>\n",
       "</div>"
      ],
      "text/plain": [
       "      products_number       age  active_member   balance  gender  country  \\\n",
       "0           -0.473618  0.712757       1.285890 -0.350525     1.0      2.0   \n",
       "1            0.207821 -0.620141      -0.336549  1.032898     0.0      2.0   \n",
       "2           -0.668316  0.338378      -1.043766  1.032898     0.0      0.0   \n",
       "3           -0.668316 -1.224355       1.285890 -0.350525     1.0      0.0   \n",
       "4            0.597215  0.045839      -0.596555  0.341187     0.0      1.0   \n",
       "...               ...       ...            ...       ...     ...      ...   \n",
       "7995        -0.570967  0.514074      -0.960564 -1.733948     0.0      0.0   \n",
       "7996        -1.057710  1.338163       0.516272  1.032898     0.0      1.0   \n",
       "7997         0.013124 -1.224355      -1.906987 -0.004669     1.0      1.0   \n",
       "7998        -0.278921  0.477449      -0.887762  0.341187     0.0      0.0   \n",
       "7999        -0.668316  0.447711       1.410693 -1.042237     1.0      2.0   \n",
       "\n",
       "      credit_score  tenure  \n",
       "0              0.0     1.0  \n",
       "1              0.0     1.0  \n",
       "2              0.0     1.0  \n",
       "3              1.0     0.0  \n",
       "4              1.0     0.0  \n",
       "...            ...     ...  \n",
       "7995           0.0     1.0  \n",
       "7996           0.0     0.0  \n",
       "7997           0.0     1.0  \n",
       "7998           0.0     0.0  \n",
       "7999           1.0     0.0  \n",
       "\n",
       "[8000 rows x 8 columns]"
      ]
     },
     "execution_count": 51,
     "metadata": {},
     "output_type": "execute_result"
    }
   ],
   "source": [
    "# Fit and transform the entire training dataset using the ColumnTransformer\n",
    "X_train_fix = preprocessor.fit_transform(X_train)\n",
    "X_train_fix\n",
    "\n",
    "# Create a DataFrame from the transformed X_train_fix data and specify column names\n",
    "X_train_fix = pd.DataFrame(X_train_fix, columns=['products_number', 'age', 'active_member', 'balance', 'gender',\n",
    "       'country', 'credit_score', 'tenure'])\n",
    "\n",
    "# Show result\n",
    "X_train_fix"
   ]
  },
  {
   "cell_type": "markdown",
   "metadata": {},
   "source": [
    "Pada langkah ini dilakukan pengaplikasian pipeline preprocessor pada data X_train"
   ]
  },
  {
   "cell_type": "code",
   "execution_count": 52,
   "metadata": {},
   "outputs": [
    {
     "data": {
      "text/plain": [
       "array([[ 0.30516983,  0.22194632,  0.13146246, ...,  2.        ,\n",
       "         0.        ,  1.        ],\n",
       "       [ 1.08395816,  0.90062863,  0.29786646, ...,  2.        ,\n",
       "         1.        ,  1.        ],\n",
       "       [-0.08422433,  0.56789576, -0.50295279, ...,  0.        ,\n",
       "         0.        ,  0.        ],\n",
       "       ...,\n",
       "       [-0.86301266,  0.57650188, -0.24294654, ...,  2.        ,\n",
       "         0.        ,  1.        ],\n",
       "       [ 0.88926108, -1.22435473, -1.84458503, ...,  1.        ,\n",
       "         0.        ,  0.        ],\n",
       "       [ 1.1813067 ,  0.22394136, -1.13736804, ...,  2.        ,\n",
       "         0.        ,  0.        ]])"
      ]
     },
     "execution_count": 52,
     "metadata": {},
     "output_type": "execute_result"
    }
   ],
   "source": [
    "# Apply the preprocessor to transform X_test\n",
    "X_test_fix = preprocessor.transform(X_test)\n",
    "\n",
    "# Show result\n",
    "X_test_fix"
   ]
  },
  {
   "cell_type": "markdown",
   "metadata": {},
   "source": [
    "Pada langkah ini dilakukan pengaplikasian pipeline preprocessor pada data X_test"
   ]
  },
  {
   "cell_type": "markdown",
   "metadata": {},
   "source": [
    "## I. Imbalance Handling"
   ]
  },
  {
   "cell_type": "markdown",
   "metadata": {},
   "source": [
    "Imbalance Handling adalah proses mengatasi ketidakseimbangan dalam distribusi kelas dalam dataset. Ketidakseimbangan terjadi ketika satu kelas dalam dataset memiliki jumlah sampel yang jauh lebih banyak atau lebih sedikit daripada kelas lainnya."
   ]
  },
  {
   "cell_type": "markdown",
   "metadata": {},
   "source": [
    "Saya memisahkan proses imbalance handling dengan pipeline preprocessor karena imbalance handling diaplikasikan hanya pada data latih, sedangkan pipeline preprocessor diaplikasikan pada data latih dan data uji. Jika imbalance handling dimasukkan kedalam pipeline preprocessor, maka akan terjadi error pada data uji nya."
   ]
  },
  {
   "cell_type": "code",
   "execution_count": 53,
   "metadata": {},
   "outputs": [
    {
     "name": "stdout",
     "output_type": "stream",
     "text": [
      "Jumlah kelas sebelum imbalance handling:\n",
      "churn\n",
      "0        6370\n",
      "1        1630\n",
      "dtype: int64\n"
     ]
    }
   ],
   "source": [
    "# Displaying values before imbalance handling\n",
    "print(\"Jumlah kelas sebelum imbalance handling:\")\n",
    "print(y_train.value_counts())"
   ]
  },
  {
   "cell_type": "markdown",
   "metadata": {},
   "source": [
    "Terlihat bahwa data sangat tidak balance, yaitu 6:1"
   ]
  },
  {
   "cell_type": "code",
   "execution_count": 54,
   "metadata": {},
   "outputs": [],
   "source": [
    "# Define the undersampler with a sampling strategy of 1.0 (100% undersampling)\n",
    "undersampler = RandomUnderSampler(sampling_strategy=1.0, random_state=0)\n",
    "\n",
    "# Apply undersampling to the training dataset\n",
    "X_train_balance, y_train_balance = undersampler.fit_resample(X_train_fix, y_train)\n"
   ]
  },
  {
   "cell_type": "markdown",
   "metadata": {},
   "source": [
    "Saya menggunakan undersampling karena tidak mau memakai data dummy untuk proses oversampling. Saya menjaga keaslian data untuk proses pemodelan"
   ]
  },
  {
   "cell_type": "code",
   "execution_count": 55,
   "metadata": {},
   "outputs": [],
   "source": [
    "# Create dataframe\n",
    "X_train_balance = pd.DataFrame(X_train_balance)\n",
    "y_train_balance = pd.DataFrame(y_train_balance)"
   ]
  },
  {
   "cell_type": "markdown",
   "metadata": {},
   "source": [
    "Membuat dataframe untuk variabel X_train_balance dan y_train_balance agar lebih mudah dalam proses pemodelan"
   ]
  },
  {
   "cell_type": "code",
   "execution_count": 56,
   "metadata": {},
   "outputs": [
    {
     "name": "stdout",
     "output_type": "stream",
     "text": [
      "Jumlah kelas sesudah imbalance handling:\n",
      "churn\n",
      "0        1630\n",
      "1        1630\n",
      "dtype: int64\n"
     ]
    }
   ],
   "source": [
    "# Displaying values after imbalance handling\n",
    "print(\"Jumlah kelas sesudah imbalance handling:\")\n",
    "print(y_train_balance.value_counts())"
   ]
  },
  {
   "cell_type": "markdown",
   "metadata": {},
   "source": [
    "Jumlah data antar value sudah sama yaitu 1630 data"
   ]
  },
  {
   "cell_type": "markdown",
   "metadata": {},
   "source": [
    "# **vi. Model Definition**"
   ]
  },
  {
   "cell_type": "markdown",
   "metadata": {},
   "source": [
    "Bagian ini berisi cell untuk mendefinisikan model."
   ]
  },
  {
   "cell_type": "markdown",
   "metadata": {},
   "source": [
    "## 1. Initialization Default Model"
   ]
  },
  {
   "cell_type": "markdown",
   "metadata": {},
   "source": [
    "### A. K-Nearest Neighbours"
   ]
  },
  {
   "cell_type": "code",
   "execution_count": 57,
   "metadata": {},
   "outputs": [
    {
     "data": {
      "text/html": [
       "<style>#sk-container-id-2 {color: black;}#sk-container-id-2 pre{padding: 0;}#sk-container-id-2 div.sk-toggleable {background-color: white;}#sk-container-id-2 label.sk-toggleable__label {cursor: pointer;display: block;width: 100%;margin-bottom: 0;padding: 0.3em;box-sizing: border-box;text-align: center;}#sk-container-id-2 label.sk-toggleable__label-arrow:before {content: \"▸\";float: left;margin-right: 0.25em;color: #696969;}#sk-container-id-2 label.sk-toggleable__label-arrow:hover:before {color: black;}#sk-container-id-2 div.sk-estimator:hover label.sk-toggleable__label-arrow:before {color: black;}#sk-container-id-2 div.sk-toggleable__content {max-height: 0;max-width: 0;overflow: hidden;text-align: left;background-color: #f0f8ff;}#sk-container-id-2 div.sk-toggleable__content pre {margin: 0.2em;color: black;border-radius: 0.25em;background-color: #f0f8ff;}#sk-container-id-2 input.sk-toggleable__control:checked~div.sk-toggleable__content {max-height: 200px;max-width: 100%;overflow: auto;}#sk-container-id-2 input.sk-toggleable__control:checked~label.sk-toggleable__label-arrow:before {content: \"▾\";}#sk-container-id-2 div.sk-estimator input.sk-toggleable__control:checked~label.sk-toggleable__label {background-color: #d4ebff;}#sk-container-id-2 div.sk-label input.sk-toggleable__control:checked~label.sk-toggleable__label {background-color: #d4ebff;}#sk-container-id-2 input.sk-hidden--visually {border: 0;clip: rect(1px 1px 1px 1px);clip: rect(1px, 1px, 1px, 1px);height: 1px;margin: -1px;overflow: hidden;padding: 0;position: absolute;width: 1px;}#sk-container-id-2 div.sk-estimator {font-family: monospace;background-color: #f0f8ff;border: 1px dotted black;border-radius: 0.25em;box-sizing: border-box;margin-bottom: 0.5em;}#sk-container-id-2 div.sk-estimator:hover {background-color: #d4ebff;}#sk-container-id-2 div.sk-parallel-item::after {content: \"\";width: 100%;border-bottom: 1px solid gray;flex-grow: 1;}#sk-container-id-2 div.sk-label:hover label.sk-toggleable__label {background-color: #d4ebff;}#sk-container-id-2 div.sk-serial::before {content: \"\";position: absolute;border-left: 1px solid gray;box-sizing: border-box;top: 0;bottom: 0;left: 50%;z-index: 0;}#sk-container-id-2 div.sk-serial {display: flex;flex-direction: column;align-items: center;background-color: white;padding-right: 0.2em;padding-left: 0.2em;position: relative;}#sk-container-id-2 div.sk-item {position: relative;z-index: 1;}#sk-container-id-2 div.sk-parallel {display: flex;align-items: stretch;justify-content: center;background-color: white;position: relative;}#sk-container-id-2 div.sk-item::before, #sk-container-id-2 div.sk-parallel-item::before {content: \"\";position: absolute;border-left: 1px solid gray;box-sizing: border-box;top: 0;bottom: 0;left: 50%;z-index: -1;}#sk-container-id-2 div.sk-parallel-item {display: flex;flex-direction: column;z-index: 1;position: relative;background-color: white;}#sk-container-id-2 div.sk-parallel-item:first-child::after {align-self: flex-end;width: 50%;}#sk-container-id-2 div.sk-parallel-item:last-child::after {align-self: flex-start;width: 50%;}#sk-container-id-2 div.sk-parallel-item:only-child::after {width: 0;}#sk-container-id-2 div.sk-dashed-wrapped {border: 1px dashed gray;margin: 0 0.4em 0.5em 0.4em;box-sizing: border-box;padding-bottom: 0.4em;background-color: white;}#sk-container-id-2 div.sk-label label {font-family: monospace;font-weight: bold;display: inline-block;line-height: 1.2em;}#sk-container-id-2 div.sk-label-container {text-align: center;}#sk-container-id-2 div.sk-container {/* jupyter's `normalize.less` sets `[hidden] { display: none; }` but bootstrap.min.css set `[hidden] { display: none !important; }` so we also need the `!important` here to be able to override the default hidden behavior on the sphinx rendered scikit-learn.org. See: https://github.com/scikit-learn/scikit-learn/issues/21755 */display: inline-block !important;position: relative;}#sk-container-id-2 div.sk-text-repr-fallback {display: none;}</style><div id=\"sk-container-id-2\" class=\"sk-top-container\"><div class=\"sk-text-repr-fallback\"><pre>KNeighborsClassifier(n_neighbors=7)</pre><b>In a Jupyter environment, please rerun this cell to show the HTML representation or trust the notebook. <br />On GitHub, the HTML representation is unable to render, please try loading this page with nbviewer.org.</b></div><div class=\"sk-container\" hidden><div class=\"sk-item\"><div class=\"sk-estimator sk-toggleable\"><input class=\"sk-toggleable__control sk-hidden--visually\" id=\"sk-estimator-id-9\" type=\"checkbox\" checked><label for=\"sk-estimator-id-9\" class=\"sk-toggleable__label sk-toggleable__label-arrow\">KNeighborsClassifier</label><div class=\"sk-toggleable__content\"><pre>KNeighborsClassifier(n_neighbors=7)</pre></div></div></div></div></div>"
      ],
      "text/plain": [
       "KNeighborsClassifier(n_neighbors=7)"
      ]
     },
     "execution_count": 57,
     "metadata": {},
     "output_type": "execute_result"
    }
   ],
   "source": [
    "# Creating a KNN default model\n",
    "knn_model = KNeighborsClassifier(n_neighbors=7)\n",
    "\n",
    "# Fitting the model to the training data\n",
    "knn_model.fit(X_train_balance, y_train_balance)"
   ]
  },
  {
   "cell_type": "markdown",
   "metadata": {},
   "source": [
    "Saya mendefinisikan model KNN dan fit pada X_train dan y_train"
   ]
  },
  {
   "cell_type": "markdown",
   "metadata": {},
   "source": [
    "### B. SVM"
   ]
  },
  {
   "cell_type": "code",
   "execution_count": 58,
   "metadata": {},
   "outputs": [
    {
     "data": {
      "text/html": [
       "<style>#sk-container-id-3 {color: black;}#sk-container-id-3 pre{padding: 0;}#sk-container-id-3 div.sk-toggleable {background-color: white;}#sk-container-id-3 label.sk-toggleable__label {cursor: pointer;display: block;width: 100%;margin-bottom: 0;padding: 0.3em;box-sizing: border-box;text-align: center;}#sk-container-id-3 label.sk-toggleable__label-arrow:before {content: \"▸\";float: left;margin-right: 0.25em;color: #696969;}#sk-container-id-3 label.sk-toggleable__label-arrow:hover:before {color: black;}#sk-container-id-3 div.sk-estimator:hover label.sk-toggleable__label-arrow:before {color: black;}#sk-container-id-3 div.sk-toggleable__content {max-height: 0;max-width: 0;overflow: hidden;text-align: left;background-color: #f0f8ff;}#sk-container-id-3 div.sk-toggleable__content pre {margin: 0.2em;color: black;border-radius: 0.25em;background-color: #f0f8ff;}#sk-container-id-3 input.sk-toggleable__control:checked~div.sk-toggleable__content {max-height: 200px;max-width: 100%;overflow: auto;}#sk-container-id-3 input.sk-toggleable__control:checked~label.sk-toggleable__label-arrow:before {content: \"▾\";}#sk-container-id-3 div.sk-estimator input.sk-toggleable__control:checked~label.sk-toggleable__label {background-color: #d4ebff;}#sk-container-id-3 div.sk-label input.sk-toggleable__control:checked~label.sk-toggleable__label {background-color: #d4ebff;}#sk-container-id-3 input.sk-hidden--visually {border: 0;clip: rect(1px 1px 1px 1px);clip: rect(1px, 1px, 1px, 1px);height: 1px;margin: -1px;overflow: hidden;padding: 0;position: absolute;width: 1px;}#sk-container-id-3 div.sk-estimator {font-family: monospace;background-color: #f0f8ff;border: 1px dotted black;border-radius: 0.25em;box-sizing: border-box;margin-bottom: 0.5em;}#sk-container-id-3 div.sk-estimator:hover {background-color: #d4ebff;}#sk-container-id-3 div.sk-parallel-item::after {content: \"\";width: 100%;border-bottom: 1px solid gray;flex-grow: 1;}#sk-container-id-3 div.sk-label:hover label.sk-toggleable__label {background-color: #d4ebff;}#sk-container-id-3 div.sk-serial::before {content: \"\";position: absolute;border-left: 1px solid gray;box-sizing: border-box;top: 0;bottom: 0;left: 50%;z-index: 0;}#sk-container-id-3 div.sk-serial {display: flex;flex-direction: column;align-items: center;background-color: white;padding-right: 0.2em;padding-left: 0.2em;position: relative;}#sk-container-id-3 div.sk-item {position: relative;z-index: 1;}#sk-container-id-3 div.sk-parallel {display: flex;align-items: stretch;justify-content: center;background-color: white;position: relative;}#sk-container-id-3 div.sk-item::before, #sk-container-id-3 div.sk-parallel-item::before {content: \"\";position: absolute;border-left: 1px solid gray;box-sizing: border-box;top: 0;bottom: 0;left: 50%;z-index: -1;}#sk-container-id-3 div.sk-parallel-item {display: flex;flex-direction: column;z-index: 1;position: relative;background-color: white;}#sk-container-id-3 div.sk-parallel-item:first-child::after {align-self: flex-end;width: 50%;}#sk-container-id-3 div.sk-parallel-item:last-child::after {align-self: flex-start;width: 50%;}#sk-container-id-3 div.sk-parallel-item:only-child::after {width: 0;}#sk-container-id-3 div.sk-dashed-wrapped {border: 1px dashed gray;margin: 0 0.4em 0.5em 0.4em;box-sizing: border-box;padding-bottom: 0.4em;background-color: white;}#sk-container-id-3 div.sk-label label {font-family: monospace;font-weight: bold;display: inline-block;line-height: 1.2em;}#sk-container-id-3 div.sk-label-container {text-align: center;}#sk-container-id-3 div.sk-container {/* jupyter's `normalize.less` sets `[hidden] { display: none; }` but bootstrap.min.css set `[hidden] { display: none !important; }` so we also need the `!important` here to be able to override the default hidden behavior on the sphinx rendered scikit-learn.org. See: https://github.com/scikit-learn/scikit-learn/issues/21755 */display: inline-block !important;position: relative;}#sk-container-id-3 div.sk-text-repr-fallback {display: none;}</style><div id=\"sk-container-id-3\" class=\"sk-top-container\"><div class=\"sk-text-repr-fallback\"><pre>SVC()</pre><b>In a Jupyter environment, please rerun this cell to show the HTML representation or trust the notebook. <br />On GitHub, the HTML representation is unable to render, please try loading this page with nbviewer.org.</b></div><div class=\"sk-container\" hidden><div class=\"sk-item\"><div class=\"sk-estimator sk-toggleable\"><input class=\"sk-toggleable__control sk-hidden--visually\" id=\"sk-estimator-id-10\" type=\"checkbox\" checked><label for=\"sk-estimator-id-10\" class=\"sk-toggleable__label sk-toggleable__label-arrow\">SVC</label><div class=\"sk-toggleable__content\"><pre>SVC()</pre></div></div></div></div></div>"
      ],
      "text/plain": [
       "SVC()"
      ]
     },
     "execution_count": 58,
     "metadata": {},
     "output_type": "execute_result"
    }
   ],
   "source": [
    "# Creating a SVM default model\n",
    "svm_model = SVC()\n",
    "\n",
    "# Fitting the model to the training data\n",
    "svm_model.fit(X_train_balance, y_train_balance)"
   ]
  },
  {
   "cell_type": "markdown",
   "metadata": {},
   "source": [
    "Saya mendefinisikan model SVM dan fit pada X_train dan y_train"
   ]
  },
  {
   "cell_type": "markdown",
   "metadata": {},
   "source": [
    "### C. Random Forest Classifier"
   ]
  },
  {
   "cell_type": "code",
   "execution_count": 59,
   "metadata": {},
   "outputs": [
    {
     "data": {
      "text/html": [
       "<style>#sk-container-id-4 {color: black;}#sk-container-id-4 pre{padding: 0;}#sk-container-id-4 div.sk-toggleable {background-color: white;}#sk-container-id-4 label.sk-toggleable__label {cursor: pointer;display: block;width: 100%;margin-bottom: 0;padding: 0.3em;box-sizing: border-box;text-align: center;}#sk-container-id-4 label.sk-toggleable__label-arrow:before {content: \"▸\";float: left;margin-right: 0.25em;color: #696969;}#sk-container-id-4 label.sk-toggleable__label-arrow:hover:before {color: black;}#sk-container-id-4 div.sk-estimator:hover label.sk-toggleable__label-arrow:before {color: black;}#sk-container-id-4 div.sk-toggleable__content {max-height: 0;max-width: 0;overflow: hidden;text-align: left;background-color: #f0f8ff;}#sk-container-id-4 div.sk-toggleable__content pre {margin: 0.2em;color: black;border-radius: 0.25em;background-color: #f0f8ff;}#sk-container-id-4 input.sk-toggleable__control:checked~div.sk-toggleable__content {max-height: 200px;max-width: 100%;overflow: auto;}#sk-container-id-4 input.sk-toggleable__control:checked~label.sk-toggleable__label-arrow:before {content: \"▾\";}#sk-container-id-4 div.sk-estimator input.sk-toggleable__control:checked~label.sk-toggleable__label {background-color: #d4ebff;}#sk-container-id-4 div.sk-label input.sk-toggleable__control:checked~label.sk-toggleable__label {background-color: #d4ebff;}#sk-container-id-4 input.sk-hidden--visually {border: 0;clip: rect(1px 1px 1px 1px);clip: rect(1px, 1px, 1px, 1px);height: 1px;margin: -1px;overflow: hidden;padding: 0;position: absolute;width: 1px;}#sk-container-id-4 div.sk-estimator {font-family: monospace;background-color: #f0f8ff;border: 1px dotted black;border-radius: 0.25em;box-sizing: border-box;margin-bottom: 0.5em;}#sk-container-id-4 div.sk-estimator:hover {background-color: #d4ebff;}#sk-container-id-4 div.sk-parallel-item::after {content: \"\";width: 100%;border-bottom: 1px solid gray;flex-grow: 1;}#sk-container-id-4 div.sk-label:hover label.sk-toggleable__label {background-color: #d4ebff;}#sk-container-id-4 div.sk-serial::before {content: \"\";position: absolute;border-left: 1px solid gray;box-sizing: border-box;top: 0;bottom: 0;left: 50%;z-index: 0;}#sk-container-id-4 div.sk-serial {display: flex;flex-direction: column;align-items: center;background-color: white;padding-right: 0.2em;padding-left: 0.2em;position: relative;}#sk-container-id-4 div.sk-item {position: relative;z-index: 1;}#sk-container-id-4 div.sk-parallel {display: flex;align-items: stretch;justify-content: center;background-color: white;position: relative;}#sk-container-id-4 div.sk-item::before, #sk-container-id-4 div.sk-parallel-item::before {content: \"\";position: absolute;border-left: 1px solid gray;box-sizing: border-box;top: 0;bottom: 0;left: 50%;z-index: -1;}#sk-container-id-4 div.sk-parallel-item {display: flex;flex-direction: column;z-index: 1;position: relative;background-color: white;}#sk-container-id-4 div.sk-parallel-item:first-child::after {align-self: flex-end;width: 50%;}#sk-container-id-4 div.sk-parallel-item:last-child::after {align-self: flex-start;width: 50%;}#sk-container-id-4 div.sk-parallel-item:only-child::after {width: 0;}#sk-container-id-4 div.sk-dashed-wrapped {border: 1px dashed gray;margin: 0 0.4em 0.5em 0.4em;box-sizing: border-box;padding-bottom: 0.4em;background-color: white;}#sk-container-id-4 div.sk-label label {font-family: monospace;font-weight: bold;display: inline-block;line-height: 1.2em;}#sk-container-id-4 div.sk-label-container {text-align: center;}#sk-container-id-4 div.sk-container {/* jupyter's `normalize.less` sets `[hidden] { display: none; }` but bootstrap.min.css set `[hidden] { display: none !important; }` so we also need the `!important` here to be able to override the default hidden behavior on the sphinx rendered scikit-learn.org. See: https://github.com/scikit-learn/scikit-learn/issues/21755 */display: inline-block !important;position: relative;}#sk-container-id-4 div.sk-text-repr-fallback {display: none;}</style><div id=\"sk-container-id-4\" class=\"sk-top-container\"><div class=\"sk-text-repr-fallback\"><pre>RandomForestClassifier()</pre><b>In a Jupyter environment, please rerun this cell to show the HTML representation or trust the notebook. <br />On GitHub, the HTML representation is unable to render, please try loading this page with nbviewer.org.</b></div><div class=\"sk-container\" hidden><div class=\"sk-item\"><div class=\"sk-estimator sk-toggleable\"><input class=\"sk-toggleable__control sk-hidden--visually\" id=\"sk-estimator-id-11\" type=\"checkbox\" checked><label for=\"sk-estimator-id-11\" class=\"sk-toggleable__label sk-toggleable__label-arrow\">RandomForestClassifier</label><div class=\"sk-toggleable__content\"><pre>RandomForestClassifier()</pre></div></div></div></div></div>"
      ],
      "text/plain": [
       "RandomForestClassifier()"
      ]
     },
     "execution_count": 59,
     "metadata": {},
     "output_type": "execute_result"
    }
   ],
   "source": [
    "# Creating a Random Forest Classifier default model\n",
    "rf_model = RandomForestClassifier()\n",
    "\n",
    "# Fitting the model to the training data\n",
    "rf_model.fit(X_train_balance, y_train_balance)"
   ]
  },
  {
   "cell_type": "markdown",
   "metadata": {},
   "source": [
    "Saya mendefinisikan model Random Forest dan fit pada X_train dan y_train"
   ]
  },
  {
   "cell_type": "markdown",
   "metadata": {},
   "source": [
    "### D. Decision Tree"
   ]
  },
  {
   "cell_type": "code",
   "execution_count": 60,
   "metadata": {},
   "outputs": [
    {
     "data": {
      "text/html": [
       "<style>#sk-container-id-5 {color: black;}#sk-container-id-5 pre{padding: 0;}#sk-container-id-5 div.sk-toggleable {background-color: white;}#sk-container-id-5 label.sk-toggleable__label {cursor: pointer;display: block;width: 100%;margin-bottom: 0;padding: 0.3em;box-sizing: border-box;text-align: center;}#sk-container-id-5 label.sk-toggleable__label-arrow:before {content: \"▸\";float: left;margin-right: 0.25em;color: #696969;}#sk-container-id-5 label.sk-toggleable__label-arrow:hover:before {color: black;}#sk-container-id-5 div.sk-estimator:hover label.sk-toggleable__label-arrow:before {color: black;}#sk-container-id-5 div.sk-toggleable__content {max-height: 0;max-width: 0;overflow: hidden;text-align: left;background-color: #f0f8ff;}#sk-container-id-5 div.sk-toggleable__content pre {margin: 0.2em;color: black;border-radius: 0.25em;background-color: #f0f8ff;}#sk-container-id-5 input.sk-toggleable__control:checked~div.sk-toggleable__content {max-height: 200px;max-width: 100%;overflow: auto;}#sk-container-id-5 input.sk-toggleable__control:checked~label.sk-toggleable__label-arrow:before {content: \"▾\";}#sk-container-id-5 div.sk-estimator input.sk-toggleable__control:checked~label.sk-toggleable__label {background-color: #d4ebff;}#sk-container-id-5 div.sk-label input.sk-toggleable__control:checked~label.sk-toggleable__label {background-color: #d4ebff;}#sk-container-id-5 input.sk-hidden--visually {border: 0;clip: rect(1px 1px 1px 1px);clip: rect(1px, 1px, 1px, 1px);height: 1px;margin: -1px;overflow: hidden;padding: 0;position: absolute;width: 1px;}#sk-container-id-5 div.sk-estimator {font-family: monospace;background-color: #f0f8ff;border: 1px dotted black;border-radius: 0.25em;box-sizing: border-box;margin-bottom: 0.5em;}#sk-container-id-5 div.sk-estimator:hover {background-color: #d4ebff;}#sk-container-id-5 div.sk-parallel-item::after {content: \"\";width: 100%;border-bottom: 1px solid gray;flex-grow: 1;}#sk-container-id-5 div.sk-label:hover label.sk-toggleable__label {background-color: #d4ebff;}#sk-container-id-5 div.sk-serial::before {content: \"\";position: absolute;border-left: 1px solid gray;box-sizing: border-box;top: 0;bottom: 0;left: 50%;z-index: 0;}#sk-container-id-5 div.sk-serial {display: flex;flex-direction: column;align-items: center;background-color: white;padding-right: 0.2em;padding-left: 0.2em;position: relative;}#sk-container-id-5 div.sk-item {position: relative;z-index: 1;}#sk-container-id-5 div.sk-parallel {display: flex;align-items: stretch;justify-content: center;background-color: white;position: relative;}#sk-container-id-5 div.sk-item::before, #sk-container-id-5 div.sk-parallel-item::before {content: \"\";position: absolute;border-left: 1px solid gray;box-sizing: border-box;top: 0;bottom: 0;left: 50%;z-index: -1;}#sk-container-id-5 div.sk-parallel-item {display: flex;flex-direction: column;z-index: 1;position: relative;background-color: white;}#sk-container-id-5 div.sk-parallel-item:first-child::after {align-self: flex-end;width: 50%;}#sk-container-id-5 div.sk-parallel-item:last-child::after {align-self: flex-start;width: 50%;}#sk-container-id-5 div.sk-parallel-item:only-child::after {width: 0;}#sk-container-id-5 div.sk-dashed-wrapped {border: 1px dashed gray;margin: 0 0.4em 0.5em 0.4em;box-sizing: border-box;padding-bottom: 0.4em;background-color: white;}#sk-container-id-5 div.sk-label label {font-family: monospace;font-weight: bold;display: inline-block;line-height: 1.2em;}#sk-container-id-5 div.sk-label-container {text-align: center;}#sk-container-id-5 div.sk-container {/* jupyter's `normalize.less` sets `[hidden] { display: none; }` but bootstrap.min.css set `[hidden] { display: none !important; }` so we also need the `!important` here to be able to override the default hidden behavior on the sphinx rendered scikit-learn.org. See: https://github.com/scikit-learn/scikit-learn/issues/21755 */display: inline-block !important;position: relative;}#sk-container-id-5 div.sk-text-repr-fallback {display: none;}</style><div id=\"sk-container-id-5\" class=\"sk-top-container\"><div class=\"sk-text-repr-fallback\"><pre>DecisionTreeClassifier()</pre><b>In a Jupyter environment, please rerun this cell to show the HTML representation or trust the notebook. <br />On GitHub, the HTML representation is unable to render, please try loading this page with nbviewer.org.</b></div><div class=\"sk-container\" hidden><div class=\"sk-item\"><div class=\"sk-estimator sk-toggleable\"><input class=\"sk-toggleable__control sk-hidden--visually\" id=\"sk-estimator-id-12\" type=\"checkbox\" checked><label for=\"sk-estimator-id-12\" class=\"sk-toggleable__label sk-toggleable__label-arrow\">DecisionTreeClassifier</label><div class=\"sk-toggleable__content\"><pre>DecisionTreeClassifier()</pre></div></div></div></div></div>"
      ],
      "text/plain": [
       "DecisionTreeClassifier()"
      ]
     },
     "execution_count": 60,
     "metadata": {},
     "output_type": "execute_result"
    }
   ],
   "source": [
    "# Creating a Decision Tree Classifier default model\n",
    "dt_model = DecisionTreeClassifier()\n",
    "\n",
    "# Fitting the model to the training data\n",
    "dt_model.fit(X_train_balance, y_train_balance)"
   ]
  },
  {
   "cell_type": "markdown",
   "metadata": {},
   "source": [
    "Saya mendefinisikan model Decision Tree Classifier dan fit pada X_train dan y_train"
   ]
  },
  {
   "cell_type": "markdown",
   "metadata": {},
   "source": [
    "### E. ADABoosting"
   ]
  },
  {
   "cell_type": "code",
   "execution_count": 61,
   "metadata": {},
   "outputs": [
    {
     "data": {
      "text/html": [
       "<style>#sk-container-id-6 {color: black;}#sk-container-id-6 pre{padding: 0;}#sk-container-id-6 div.sk-toggleable {background-color: white;}#sk-container-id-6 label.sk-toggleable__label {cursor: pointer;display: block;width: 100%;margin-bottom: 0;padding: 0.3em;box-sizing: border-box;text-align: center;}#sk-container-id-6 label.sk-toggleable__label-arrow:before {content: \"▸\";float: left;margin-right: 0.25em;color: #696969;}#sk-container-id-6 label.sk-toggleable__label-arrow:hover:before {color: black;}#sk-container-id-6 div.sk-estimator:hover label.sk-toggleable__label-arrow:before {color: black;}#sk-container-id-6 div.sk-toggleable__content {max-height: 0;max-width: 0;overflow: hidden;text-align: left;background-color: #f0f8ff;}#sk-container-id-6 div.sk-toggleable__content pre {margin: 0.2em;color: black;border-radius: 0.25em;background-color: #f0f8ff;}#sk-container-id-6 input.sk-toggleable__control:checked~div.sk-toggleable__content {max-height: 200px;max-width: 100%;overflow: auto;}#sk-container-id-6 input.sk-toggleable__control:checked~label.sk-toggleable__label-arrow:before {content: \"▾\";}#sk-container-id-6 div.sk-estimator input.sk-toggleable__control:checked~label.sk-toggleable__label {background-color: #d4ebff;}#sk-container-id-6 div.sk-label input.sk-toggleable__control:checked~label.sk-toggleable__label {background-color: #d4ebff;}#sk-container-id-6 input.sk-hidden--visually {border: 0;clip: rect(1px 1px 1px 1px);clip: rect(1px, 1px, 1px, 1px);height: 1px;margin: -1px;overflow: hidden;padding: 0;position: absolute;width: 1px;}#sk-container-id-6 div.sk-estimator {font-family: monospace;background-color: #f0f8ff;border: 1px dotted black;border-radius: 0.25em;box-sizing: border-box;margin-bottom: 0.5em;}#sk-container-id-6 div.sk-estimator:hover {background-color: #d4ebff;}#sk-container-id-6 div.sk-parallel-item::after {content: \"\";width: 100%;border-bottom: 1px solid gray;flex-grow: 1;}#sk-container-id-6 div.sk-label:hover label.sk-toggleable__label {background-color: #d4ebff;}#sk-container-id-6 div.sk-serial::before {content: \"\";position: absolute;border-left: 1px solid gray;box-sizing: border-box;top: 0;bottom: 0;left: 50%;z-index: 0;}#sk-container-id-6 div.sk-serial {display: flex;flex-direction: column;align-items: center;background-color: white;padding-right: 0.2em;padding-left: 0.2em;position: relative;}#sk-container-id-6 div.sk-item {position: relative;z-index: 1;}#sk-container-id-6 div.sk-parallel {display: flex;align-items: stretch;justify-content: center;background-color: white;position: relative;}#sk-container-id-6 div.sk-item::before, #sk-container-id-6 div.sk-parallel-item::before {content: \"\";position: absolute;border-left: 1px solid gray;box-sizing: border-box;top: 0;bottom: 0;left: 50%;z-index: -1;}#sk-container-id-6 div.sk-parallel-item {display: flex;flex-direction: column;z-index: 1;position: relative;background-color: white;}#sk-container-id-6 div.sk-parallel-item:first-child::after {align-self: flex-end;width: 50%;}#sk-container-id-6 div.sk-parallel-item:last-child::after {align-self: flex-start;width: 50%;}#sk-container-id-6 div.sk-parallel-item:only-child::after {width: 0;}#sk-container-id-6 div.sk-dashed-wrapped {border: 1px dashed gray;margin: 0 0.4em 0.5em 0.4em;box-sizing: border-box;padding-bottom: 0.4em;background-color: white;}#sk-container-id-6 div.sk-label label {font-family: monospace;font-weight: bold;display: inline-block;line-height: 1.2em;}#sk-container-id-6 div.sk-label-container {text-align: center;}#sk-container-id-6 div.sk-container {/* jupyter's `normalize.less` sets `[hidden] { display: none; }` but bootstrap.min.css set `[hidden] { display: none !important; }` so we also need the `!important` here to be able to override the default hidden behavior on the sphinx rendered scikit-learn.org. See: https://github.com/scikit-learn/scikit-learn/issues/21755 */display: inline-block !important;position: relative;}#sk-container-id-6 div.sk-text-repr-fallback {display: none;}</style><div id=\"sk-container-id-6\" class=\"sk-top-container\"><div class=\"sk-text-repr-fallback\"><pre>AdaBoostClassifier()</pre><b>In a Jupyter environment, please rerun this cell to show the HTML representation or trust the notebook. <br />On GitHub, the HTML representation is unable to render, please try loading this page with nbviewer.org.</b></div><div class=\"sk-container\" hidden><div class=\"sk-item\"><div class=\"sk-estimator sk-toggleable\"><input class=\"sk-toggleable__control sk-hidden--visually\" id=\"sk-estimator-id-13\" type=\"checkbox\" checked><label for=\"sk-estimator-id-13\" class=\"sk-toggleable__label sk-toggleable__label-arrow\">AdaBoostClassifier</label><div class=\"sk-toggleable__content\"><pre>AdaBoostClassifier()</pre></div></div></div></div></div>"
      ],
      "text/plain": [
       "AdaBoostClassifier()"
      ]
     },
     "execution_count": 61,
     "metadata": {},
     "output_type": "execute_result"
    }
   ],
   "source": [
    "# Creating a ADABoost Classifier default model\n",
    "adaboost_model = AdaBoostClassifier()\n",
    "\n",
    "# Fitting the model to the training data\n",
    "adaboost_model.fit(X_train_balance, y_train_balance)"
   ]
  },
  {
   "cell_type": "markdown",
   "metadata": {},
   "source": [
    "Saya mendefinisikan model ADABoost Classifier dan fit pada X_train dan y_train"
   ]
  },
  {
   "cell_type": "markdown",
   "metadata": {},
   "source": [
    "## 2. Classification Report"
   ]
  },
  {
   "cell_type": "markdown",
   "metadata": {},
   "source": [
    "##### **Saya memakai kelas positif(1) sebagai kelas churn dan kelas negatif(0) adalah kelas loyal. Dan saya memilih Recall untuk nilai evaluasi karena ingin mengurangi False Negative(FN). Pada kasus ini, False Negative berarti diprediksi loyal, aktual churn**"
   ]
  },
  {
   "cell_type": "markdown",
   "metadata": {},
   "source": [
    "### A. K-Nearest Neighbours"
   ]
  },
  {
   "cell_type": "code",
   "execution_count": 62,
   "metadata": {},
   "outputs": [
    {
     "name": "stdout",
     "output_type": "stream",
     "text": [
      "----------Classification Report for KNN X train-------------\n",
      "              precision    recall  f1-score   support\n",
      "\n",
      "           0       0.80      0.84      0.82      1630\n",
      "           1       0.83      0.79      0.81      1630\n",
      "\n",
      "    accuracy                           0.81      3260\n",
      "   macro avg       0.81      0.81      0.81      3260\n",
      "weighted avg       0.81      0.81      0.81      3260\n",
      "\n",
      "----------Classification Report for KNN X test-------------\n",
      "              precision    recall  f1-score   support\n",
      "\n",
      "           0       0.91      0.77      0.84      1593\n",
      "           1       0.44      0.69      0.54       407\n",
      "\n",
      "    accuracy                           0.76      2000\n",
      "   macro avg       0.67      0.73      0.69      2000\n",
      "weighted avg       0.81      0.76      0.78      2000\n",
      "\n"
     ]
    }
   ],
   "source": [
    "# Predicting the target labels for the train data using the KNN default model\n",
    "y_train_knn_predict = knn_model.predict(X_train_balance)\n",
    "\n",
    "# Predicting the target labels for the test data using the KNN default model\n",
    "y_test_knn_predict = knn_model.predict(X_test_fix)\n",
    "\n",
    "# Displaying the classification report for KNN default model on the train data\n",
    "print('----------Classification Report for KNN X train-------------')\n",
    "print(classification_report(y_train_balance,y_train_knn_predict))\n",
    "\n",
    "# Displaying the classification report for KNN default model on the test data\n",
    "print('----------Classification Report for KNN X test-------------')\n",
    "print(classification_report(y_test,y_test_knn_predict))"
   ]
  },
  {
   "cell_type": "markdown",
   "metadata": {},
   "source": [
    "- Skor KNN X_train adalah : 81% untuk f1-score, 79% untuk recall, 83% untuk precision dan 81% untuk accuracy\n",
    "- Skor KNN X_test adalah : 54% untuk f1-score, 69% untuk recall, 44% untuk precision dan 76% untuk accuracy\n",
    "- Model ini overfitting karena nilai X_train lebih besar daripada X_test"
   ]
  },
  {
   "cell_type": "code",
   "execution_count": 63,
   "metadata": {},
   "outputs": [
    {
     "data": {
      "image/png": "[encoded data removed]",
      "text/plain": [
       "<Figure size 800x600 with 1 Axes>"
      ]
     },
     "metadata": {},
     "output_type": "display_data"
    }
   ],
   "source": [
    "# Confusion matrix for the test data\n",
    "confusion_matrix_test_knn = confusion_matrix(y_test, y_test_knn_predict)\n",
    "\n",
    "# Create a heatmap of the confusion matrix for test data\n",
    "plt.figure(figsize=(8, 6))\n",
    "sns.heatmap(confusion_matrix_test_knn, annot=True, fmt=\"d\", cmap=\"Blues\", cbar=False)\n",
    "plt.xlabel('Predicted')\n",
    "plt.ylabel('Actual')\n",
    "plt.title('Confusion Matrix (Test Data) - KNN')\n",
    "plt.show()"
   ]
  },
  {
   "cell_type": "markdown",
   "metadata": {},
   "source": [
    "Model ini memprediksi 282 data sebagai True Positive (TP), 125 data sebagai False Negative (FN), 359 data sebagai False Positive (FP) dan 1234 data sebagai True Negative (TN)"
   ]
  },
  {
   "cell_type": "markdown",
   "metadata": {},
   "source": [
    "### B. SVM"
   ]
  },
  {
   "cell_type": "code",
   "execution_count": 64,
   "metadata": {},
   "outputs": [
    {
     "name": "stdout",
     "output_type": "stream",
     "text": [
      "----------Classification Report for SVM X train-------------\n",
      "              precision    recall  f1-score   support\n",
      "\n",
      "           0       0.79      0.83      0.81      1630\n",
      "           1       0.82      0.78      0.80      1630\n",
      "\n",
      "    accuracy                           0.81      3260\n",
      "   macro avg       0.81      0.81      0.81      3260\n",
      "weighted avg       0.81      0.81      0.81      3260\n",
      "\n",
      "----------Classification Report for SVM X test-------------\n",
      "              precision    recall  f1-score   support\n",
      "\n",
      "           0       0.92      0.81      0.86      1593\n",
      "           1       0.49      0.72      0.58       407\n",
      "\n",
      "    accuracy                           0.79      2000\n",
      "   macro avg       0.70      0.77      0.72      2000\n",
      "weighted avg       0.83      0.79      0.80      2000\n",
      "\n"
     ]
    }
   ],
   "source": [
    "# Predicting the target labels for the train data using the SVM default model\n",
    "y_train_svm_predict = svm_model.predict(X_train_balance)\n",
    "\n",
    "# Predicting the target labels for the test data using the SVM default model\n",
    "y_test_svm_predict = svm_model.predict(X_test_fix)\n",
    "\n",
    "# Displaying the classification report for SVM default model on the train data\n",
    "print('----------Classification Report for SVM X train-------------')\n",
    "print(classification_report(y_train_balance,y_train_svm_predict))\n",
    "\n",
    "# Displaying the classification report for SVM default model on the test data\n",
    "print('----------Classification Report for SVM X test-------------')\n",
    "print(classification_report(y_test,y_test_svm_predict))"
   ]
  },
  {
   "cell_type": "markdown",
   "metadata": {},
   "source": [
    "- Skor SVM X_train adalah : 80% untuk f1-score, 78% untuk recall, 82% untuk precision dan 81% untuk accuracy\n",
    "- Skor SVM X_test adalah : 58% untuk f1-score, 72% untuk recall, 49% untuk precision dan 79% untuk accuracy\n",
    "- Model ini juga overfitting karena nilai X_train lebih besar daripada X_test"
   ]
  },
  {
   "cell_type": "code",
   "execution_count": 65,
   "metadata": {},
   "outputs": [
    {
     "data": {
      "image/png": "[encoded data removed]",
      "text/plain": [
       "<Figure size 800x600 with 1 Axes>"
      ]
     },
     "metadata": {},
     "output_type": "display_data"
    }
   ],
   "source": [
    "# Confusion matrix for the test data\n",
    "confusion_matrix_test_svm = confusion_matrix(y_test, y_test_svm_predict)\n",
    "\n",
    "# Create a heatmap of the confusion matrix for test data\n",
    "plt.figure(figsize=(8, 6))\n",
    "sns.heatmap(confusion_matrix_test_svm, annot=True, fmt=\"d\", cmap=\"Blues\", cbar=False)\n",
    "plt.xlabel('Predicted')\n",
    "plt.ylabel('True')\n",
    "plt.title('Confusion Matrix (Test Data) - SVM')\n",
    "plt.show()"
   ]
  },
  {
   "cell_type": "markdown",
   "metadata": {},
   "source": [
    "Model ini memprediksi 295 data sebagai True Positive (TP), 112 data sebagai False Negative (FN), 309 data sebagai False Positive (FP) dan 1284 data sebagai True Negative (TN)"
   ]
  },
  {
   "cell_type": "markdown",
   "metadata": {},
   "source": [
    "### C. Random Forest Classifier"
   ]
  },
  {
   "cell_type": "code",
   "execution_count": 66,
   "metadata": {},
   "outputs": [
    {
     "name": "stdout",
     "output_type": "stream",
     "text": [
      "----------Classification Report for Random Forest Classifier X train-------------\n",
      "              precision    recall  f1-score   support\n",
      "\n",
      "           0       1.00      1.00      1.00      1630\n",
      "           1       1.00      1.00      1.00      1630\n",
      "\n",
      "    accuracy                           1.00      3260\n",
      "   macro avg       1.00      1.00      1.00      3260\n",
      "weighted avg       1.00      1.00      1.00      3260\n",
      "\n",
      "----------Classification Report for Random Forest Classifier X test-------------\n",
      "              precision    recall  f1-score   support\n",
      "\n",
      "           0       0.92      0.80      0.86      1593\n",
      "           1       0.48      0.73      0.58       407\n",
      "\n",
      "    accuracy                           0.79      2000\n",
      "   macro avg       0.70      0.76      0.72      2000\n",
      "weighted avg       0.83      0.79      0.80      2000\n",
      "\n"
     ]
    }
   ],
   "source": [
    "# Predicting the target labels for the train data using the Random Forest Classifier\n",
    "y_train_rf_predict = rf_model.predict(X_train_balance)\n",
    "\n",
    "# Predicting the target labels for the test data using the Random Forest Classifier\n",
    "y_test_rf_predict = rf_model.predict(X_test_fix)\n",
    "\n",
    "# Displaying the classification report for Random Forest Classifier on the train data\n",
    "print('----------Classification Report for Random Forest Classifier X train-------------')\n",
    "print(classification_report(y_train_balance,y_train_rf_predict))\n",
    "\n",
    "# Displaying the classification report for Random Forest Classifier on the test data\n",
    "print('----------Classification Report for Random Forest Classifier X test-------------')\n",
    "print(classification_report(y_test,y_test_rf_predict))"
   ]
  },
  {
   "cell_type": "markdown",
   "metadata": {},
   "source": [
    "- Skor Random Forest X_train adalah : 100% untuk f1-score, 100% untuk recall, 100% untuk precision dan 100% untuk accuracy\n",
    "- Skor Random Forest X_test adalah : 58% untuk f1-score, 72% untuk recall, 49% untuk precision dan 79% untuk accuracy\n",
    "- Model ini juga overfitting karena nilai X_train lebih besar daripada X_test"
   ]
  },
  {
   "cell_type": "code",
   "execution_count": 67,
   "metadata": {},
   "outputs": [
    {
     "data": {
      "image/png": "[encoded data removed]",
      "text/plain": [
       "<Figure size 800x600 with 1 Axes>"
      ]
     },
     "metadata": {},
     "output_type": "display_data"
    }
   ],
   "source": [
    "# Confusion matrix for the test data\n",
    "confusion_matrix_test_rf = confusion_matrix(y_test, y_test_rf_predict)\n",
    "\n",
    "# Create a heatmap of the confusion matrix for test data\n",
    "plt.figure(figsize=(8, 6))\n",
    "sns.heatmap(confusion_matrix_test_rf, annot=True, fmt=\"d\", cmap=\"Blues\", cbar=False)\n",
    "plt.xlabel('Predicted')\n",
    "plt.ylabel('True')\n",
    "plt.title('Confusion Matrix (Test Data) - Random Forest Classifier')\n",
    "plt.show()"
   ]
  },
  {
   "cell_type": "markdown",
   "metadata": {},
   "source": [
    "Model ini memprediksi 295 data sebagai True Positive (TP), 112 data sebagai False Negative (FN), 308 data sebagai False Positive (FP) dan 1285 data sebagai True Negative (TN)"
   ]
  },
  {
   "cell_type": "markdown",
   "metadata": {},
   "source": [
    "### D. Decision Tree Classifier"
   ]
  },
  {
   "cell_type": "code",
   "execution_count": 68,
   "metadata": {},
   "outputs": [
    {
     "name": "stdout",
     "output_type": "stream",
     "text": [
      "----------Classification Report for Decision Tree Classifier X train-------------\n",
      "              precision    recall  f1-score   support\n",
      "\n",
      "           0       1.00      1.00      1.00      1630\n",
      "           1       1.00      1.00      1.00      1630\n",
      "\n",
      "    accuracy                           1.00      3260\n",
      "   macro avg       1.00      1.00      1.00      3260\n",
      "weighted avg       1.00      1.00      1.00      3260\n",
      "\n",
      "----------Classification Report for Decision Tree Classifier X test-------------\n",
      "              precision    recall  f1-score   support\n",
      "\n",
      "           0       0.91      0.72      0.80      1593\n",
      "           1       0.39      0.71      0.50       407\n",
      "\n",
      "    accuracy                           0.71      2000\n",
      "   macro avg       0.65      0.71      0.65      2000\n",
      "weighted avg       0.80      0.71      0.74      2000\n",
      "\n"
     ]
    }
   ],
   "source": [
    "# Predicting the target labels for the train data using the Decision Tree Classifier\n",
    "y_train_dt_predict = dt_model.predict(X_train_balance)\n",
    "\n",
    "# Predicting the target labels for the test data using the Decision Tree Classifier\n",
    "y_test_dt_predict = dt_model.predict(X_test_fix)\n",
    "\n",
    "# Displaying the classification report for Decision Tree Classifier on the train data\n",
    "print('----------Classification Report for Decision Tree Classifier X train-------------')\n",
    "print(classification_report(y_train_balance,y_train_dt_predict))\n",
    "\n",
    "# Displaying the classification report for Decision Tree Classifier on the test data\n",
    "print('----------Classification Report for Decision Tree Classifier X test-------------')\n",
    "print(classification_report(y_test,y_test_dt_predict))"
   ]
  },
  {
   "cell_type": "markdown",
   "metadata": {},
   "source": [
    "- Skor Decision Tree X_train adalah : 100% untuk f1-score, 100% untuk recall, 100% untuk precision dan 100% untuk accuracy\n",
    "- Skor Decision Tree X_test adalah : 50% untuk f1-score, 71% untuk recall, 39% untuk precision dan 71% untuk accuracy\n",
    "- Model ini juga overfitting karena nilai X_train lebih besar daripada X_test"
   ]
  },
  {
   "cell_type": "code",
   "execution_count": 69,
   "metadata": {},
   "outputs": [
    {
     "data": {
      "image/png": "[encoded data removed]",
      "text/plain": [
       "<Figure size 800x600 with 1 Axes>"
      ]
     },
     "metadata": {},
     "output_type": "display_data"
    }
   ],
   "source": [
    "# Confusion matrix for the test data\n",
    "confusion_matrix_test_dt = confusion_matrix(y_test, y_test_dt_predict)\n",
    "\n",
    "# Create a heatmap of the confusion matrix for test data\n",
    "plt.figure(figsize=(8, 6))\n",
    "sns.heatmap(confusion_matrix_test_dt, annot=True, fmt=\"d\", cmap=\"Blues\", cbar=False)\n",
    "plt.xlabel('Predicted')\n",
    "plt.ylabel('True')\n",
    "plt.title('Confusion Matrix (Test Data) - Decision Tree Classifier')\n",
    "plt.show()"
   ]
  },
  {
   "cell_type": "markdown",
   "metadata": {},
   "source": [
    "Model ini memprediksi 290 data sebagai True Positive (TP), 117 data sebagai False Negative (FN), 463 data sebagai False Positive (FP) dan 1130 data sebagai True Negative (TN)"
   ]
  },
  {
   "cell_type": "markdown",
   "metadata": {},
   "source": [
    "### E. ADABoost Classifier"
   ]
  },
  {
   "cell_type": "code",
   "execution_count": 70,
   "metadata": {},
   "outputs": [
    {
     "name": "stdout",
     "output_type": "stream",
     "text": [
      "----------Classification Report for ADABoost Classifier X train-------------\n",
      "              precision    recall  f1-score   support\n",
      "\n",
      "           0       0.77      0.80      0.78      1630\n",
      "           1       0.79      0.76      0.77      1630\n",
      "\n",
      "    accuracy                           0.78      3260\n",
      "   macro avg       0.78      0.78      0.78      3260\n",
      "weighted avg       0.78      0.78      0.78      3260\n",
      "\n",
      "----------Classification Report for ADABoost Classifier X test-------------\n",
      "              precision    recall  f1-score   support\n",
      "\n",
      "           0       0.92      0.79      0.85      1593\n",
      "           1       0.48      0.74      0.58       407\n",
      "\n",
      "    accuracy                           0.78      2000\n",
      "   macro avg       0.70      0.77      0.72      2000\n",
      "weighted avg       0.83      0.78      0.80      2000\n",
      "\n"
     ]
    }
   ],
   "source": [
    "# Predicting the target labels for the train data using the ADABoost Classifier\n",
    "y_train_adaboost_predict = adaboost_model.predict(X_train_balance)\n",
    "\n",
    "# Predicting the target labels for the test data using the ADABoost Classifier\n",
    "y_test_adaboost_predict = adaboost_model.predict(X_test_fix)\n",
    "\n",
    "# Displaying the classification report for ADABoost Classifier on the train data\n",
    "print('----------Classification Report for ADABoost Classifier X train-------------')\n",
    "print(classification_report(y_train_balance,y_train_adaboost_predict))\n",
    "\n",
    "# Displaying the classification report for ADABoost Classifier on the test data\n",
    "print('----------Classification Report for ADABoost Classifier X test-------------')\n",
    "print(classification_report(y_test,y_test_adaboost_predict))"
   ]
  },
  {
   "cell_type": "markdown",
   "metadata": {},
   "source": [
    "- Skor ADABoost X_train adalah : 77% untuk f1-score, 76% untuk recall, 79% untuk precision dan 78% untuk accuracy\n",
    "- Skor ADABoost X_test adalah : 58% untuk f1-score, 74% untuk recall, 48% untuk precision dan 78% untuk accuracy\n",
    "- Model ini juga overfitting karena nilai X_train lebih besar daripada X_test"
   ]
  },
  {
   "cell_type": "code",
   "execution_count": 71,
   "metadata": {},
   "outputs": [
    {
     "data": {
      "image/png": "[encoded data removed]",
      "text/plain": [
       "<Figure size 800x600 with 1 Axes>"
      ]
     },
     "metadata": {},
     "output_type": "display_data"
    }
   ],
   "source": [
    "# Confusion matrix for the test data\n",
    "confusion_matrix_test_adaboost = confusion_matrix(y_test, y_test_adaboost_predict)\n",
    "\n",
    "# Create a heatmap of the confusion matrix for test data\n",
    "plt.figure(figsize=(8, 6))\n",
    "sns.heatmap(confusion_matrix_test_adaboost, annot=True, fmt=\"d\", cmap=\"Blues\", cbar=False)\n",
    "plt.xlabel('Predicted')\n",
    "plt.ylabel('True')\n",
    "plt.title('Confusion Matrix (Test Data) - ADABoost Classifier')\n",
    "plt.show()"
   ]
  },
  {
   "cell_type": "markdown",
   "metadata": {},
   "source": [
    "Model ini memprediksi 301 data sebagai True Positive (TP), 106 data sebagai False Negative (FN), 330 data sebagai False Positive (FP) dan 1263 data sebagai True Negative (TN)"
   ]
  },
  {
   "cell_type": "markdown",
   "metadata": {},
   "source": [
    "## 3. Cross Validation"
   ]
  },
  {
   "cell_type": "markdown",
   "metadata": {},
   "source": [
    "### A. K-Nearest Neighbours"
   ]
  },
  {
   "cell_type": "code",
   "execution_count": 72,
   "metadata": {},
   "outputs": [
    {
     "name": "stdout",
     "output_type": "stream",
     "text": [
      "Recall Score - All - Cross Validation  :  [0.75460123 0.71472393 0.70552147 0.69325153 0.73619632]\n",
      "Recall Score - Mean - Cross Validation :  0.7208588957055214\n",
      "Recall Score - Std - Cross Validation  :  0.02194913352147031\n",
      "Recall Score - Range of Test-Set       :  0.6989097621840511 - 0.7428080292269917\n"
     ]
    }
   ],
   "source": [
    "# Define a pipeline for K-Nearest Neighbors (KNN) classification\n",
    "pipe_knn = [('model', KNeighborsClassifier())]\n",
    "pipeline_knn = Pipeline(pipe_knn)\n",
    "\n",
    "# Calculate recall scores during cross-validation\n",
    "recall_train_cross_val_knn = cross_val_score(\n",
    "    pipeline_knn, X_train_balance, y_train_balance, cv=5, scoring=\"recall\")\n",
    "\n",
    "# Print recall score information\n",
    "print('Recall Score - All - Cross Validation  : ', recall_train_cross_val_knn)\n",
    "print('Recall Score - Mean - Cross Validation : ', recall_train_cross_val_knn.mean())\n",
    "print('Recall Score - Std - Cross Validation  : ', recall_train_cross_val_knn.std())\n",
    "print('Recall Score - Range of Test-Set       : ',\n",
    "      (recall_train_cross_val_knn.mean() - recall_train_cross_val_knn.std()), '-',\n",
    "      (recall_train_cross_val_knn.mean() + recall_train_cross_val_knn.std()))\n"
   ]
  },
  {
   "cell_type": "markdown",
   "metadata": {},
   "source": [
    "Rata-rata nilai Cross Validation dari model KNN adalah 0.72 artinya model ini cukup konsisten jika digunakan karena mendekati angka 1. Dan Standar Deviasi nya adalah 0.02 yang mendekati angka 0 artinya bestfit. Range test nya berkisar antara antara 69-74%"
   ]
  },
  {
   "cell_type": "markdown",
   "metadata": {},
   "source": [
    "### B. SVM"
   ]
  },
  {
   "cell_type": "code",
   "execution_count": 73,
   "metadata": {},
   "outputs": [
    {
     "name": "stdout",
     "output_type": "stream",
     "text": [
      "Recall Score - All - Cross Validation  :  [0.76993865 0.7607362  0.7607362  0.71779141 0.74539877]\n",
      "Recall Score - Mean - Cross Validation :  0.750920245398773\n",
      "Recall Score - Std - Cross Validation  :  0.018343455690461436\n",
      "Recall Score - Range of Test-Set       :  0.7325767897083115 - 0.7692637010892345\n"
     ]
    }
   ],
   "source": [
    "# Define a pipeline for Support Vector Machine (SVM) classification\n",
    "pipe_svm = [('model', SVC())]\n",
    "pipeline_svm = Pipeline(pipe_svm)\n",
    "\n",
    "# Calculate recall scores during cross-validation\n",
    "recall_train_cross_val_svm = cross_val_score(\n",
    "    pipeline_svm, X_train_balance, y_train_balance, cv=5, scoring=\"recall\")\n",
    "\n",
    "# Print recall score information\n",
    "print('Recall Score - All - Cross Validation  : ', recall_train_cross_val_svm)\n",
    "print('Recall Score - Mean - Cross Validation : ', recall_train_cross_val_svm.mean())\n",
    "print('Recall Score - Std - Cross Validation  : ', recall_train_cross_val_svm.std())\n",
    "print('Recall Score - Range of Test-Set       : ',\n",
    "      (recall_train_cross_val_svm.mean() - recall_train_cross_val_svm.std()), '-',\n",
    "      (recall_train_cross_val_svm.mean() + recall_train_cross_val_svm.std()))\n"
   ]
  },
  {
   "cell_type": "markdown",
   "metadata": {},
   "source": [
    "Rata-rata nilai Cross Validation dari model SVM adalah 0.75 artinya model ini cukup konsisten jika digunakan karena mendekati angka 1. Dan Standar Deviasi nya adalah 0.01 yang mendekati angka 0 artinya bestfit. Range test nya berkisar antara 73-76%"
   ]
  },
  {
   "cell_type": "markdown",
   "metadata": {},
   "source": [
    "### C. Random Forest Classifier"
   ]
  },
  {
   "cell_type": "code",
   "execution_count": 74,
   "metadata": {},
   "outputs": [
    {
     "name": "stdout",
     "output_type": "stream",
     "text": [
      "Recall Score - All - Cross Validation  :  [0.75766871 0.76687117 0.75460123 0.73006135 0.74846626]\n",
      "Recall Score - Mean - Cross Validation :  0.7515337423312884\n",
      "Recall Score - Std - Cross Validation  :  0.012269938650306744\n",
      "Recall Score - Range of Test-Set       :  0.7392638036809817 - 0.7638036809815952\n"
     ]
    }
   ],
   "source": [
    "# Define a pipeline for Random Forest Classifier\n",
    "pipe_rf = [('model', RandomForestClassifier())]\n",
    "pipeline_rf = Pipeline(pipe_rf)\n",
    "\n",
    "# Calculate recall scores during cross-validation\n",
    "recall_train_cross_val_rf = cross_val_score(\n",
    "    pipeline_rf, X_train_balance, y_train_balance, cv=5, scoring=\"recall\")\n",
    "\n",
    "# Print recall score information\n",
    "print('Recall Score - All - Cross Validation  : ', recall_train_cross_val_rf)\n",
    "print('Recall Score - Mean - Cross Validation : ', recall_train_cross_val_rf.mean())\n",
    "print('Recall Score - Std - Cross Validation  : ', recall_train_cross_val_rf.std())\n",
    "print('Recall Score - Range of Test-Set       : ',\n",
    "      (recall_train_cross_val_rf.mean() - recall_train_cross_val_rf.std()), '-',\n",
    "      (recall_train_cross_val_rf.mean() + recall_train_cross_val_rf.std()))\n"
   ]
  },
  {
   "cell_type": "markdown",
   "metadata": {},
   "source": [
    "Rata-rata nilai Cross Validation dari model Random Forest adalah 0.74 artinya model ini cukup konsisten jika digunakan karena mendekati angka 1. Dan Standar Deviasi nya adalah 0.01 yang mendekati angka 0 artinya bestfit. Range test nya berkisar antara 73-75%"
   ]
  },
  {
   "cell_type": "markdown",
   "metadata": {},
   "source": [
    "### D. Decision Tree Classifier"
   ]
  },
  {
   "cell_type": "code",
   "execution_count": 75,
   "metadata": {},
   "outputs": [
    {
     "name": "stdout",
     "output_type": "stream",
     "text": [
      "Recall Score - All - Cross Validation  :  [0.6993865  0.68404908 0.7208589  0.68404908 0.69631902]\n",
      "Recall Score - Mean - Cross Validation :  0.6969325153374232\n",
      "Recall Score - Std - Cross Validation  :  0.013496932515337385\n",
      "Recall Score - Range of Test-Set       :  0.6834355828220858 - 0.7104294478527605\n"
     ]
    }
   ],
   "source": [
    "# Define a pipeline for Decision Tree Classifier\n",
    "pipe_dt = [('model', DecisionTreeClassifier())]\n",
    "pipeline_dt = Pipeline(pipe_dt)\n",
    "\n",
    "# Calculate recall scores during cross-validation\n",
    "recall_train_cross_val_dt = cross_val_score(\n",
    "    pipeline_dt, X_train_balance, y_train_balance, cv=5, scoring=\"recall\")\n",
    "\n",
    "# Print recall score information\n",
    "print('Recall Score - All - Cross Validation  : ', recall_train_cross_val_dt)\n",
    "print('Recall Score - Mean - Cross Validation : ', recall_train_cross_val_dt.mean())\n",
    "print('Recall Score - Std - Cross Validation  : ', recall_train_cross_val_dt.std())\n",
    "print('Recall Score - Range of Test-Set       : ',\n",
    "      (recall_train_cross_val_dt.mean() - recall_train_cross_val_dt.std()), '-',\n",
    "      (recall_train_cross_val_dt.mean() + recall_train_cross_val_dt.std()))\n"
   ]
  },
  {
   "cell_type": "markdown",
   "metadata": {},
   "source": [
    "Rata-rata nilai Cross Validation dari model Decision Tree adalah 0.69 artinya model ini kurang konsisten jika digunakan karena jauh dari angka 1. Dan Standar Deviasi nya adalah 0.02 yang mendekati angka 0 artinya bestfit. Range test nya berkisar antara 68-71%"
   ]
  },
  {
   "cell_type": "markdown",
   "metadata": {},
   "source": [
    "### E. ADABoost Classifier"
   ]
  },
  {
   "cell_type": "code",
   "execution_count": 76,
   "metadata": {},
   "outputs": [
    {
     "name": "stdout",
     "output_type": "stream",
     "text": [
      "Recall Score - All - Cross Validation  :  [0.74233129 0.75766871 0.75766871 0.73619632 0.77607362]\n",
      "Recall Score - Mean - Cross Validation :  0.7539877300613496\n",
      "Recall Score - Std - Cross Validation  :  0.013908937483134504\n",
      "Recall Score - Range of Test-Set       :  0.7400787925782151 - 0.767896667544484\n"
     ]
    }
   ],
   "source": [
    "# Define a pipeline for ADABoost Classifier\n",
    "pipe_adaboost = [('Classifier', AdaBoostClassifier())]\n",
    "pipeline_adaboost = Pipeline(pipe_adaboost)\n",
    "\n",
    "# Calculate recall scores during cross-validation\n",
    "recall_train_cross_val_adaboost = cross_val_score(\n",
    "    pipeline_adaboost, X_train_balance, y_train_balance, cv=5, scoring=\"recall\")\n",
    "\n",
    "# Print recall score information\n",
    "print('Recall Score - All - Cross Validation  : ', recall_train_cross_val_adaboost)\n",
    "print('Recall Score - Mean - Cross Validation : ', recall_train_cross_val_adaboost.mean())\n",
    "print('Recall Score - Std - Cross Validation  : ', recall_train_cross_val_adaboost.std())\n",
    "print('Recall Score - Range of Test-Set       : ',\n",
    "      (recall_train_cross_val_adaboost.mean() - recall_train_cross_val_adaboost.std()), '-',\n",
    "      (recall_train_cross_val_adaboost.mean() + recall_train_cross_val_adaboost.std()))\n"
   ]
  },
  {
   "cell_type": "markdown",
   "metadata": {},
   "source": [
    "Rata-rata nilai Cross Validation dari model ADABoost adalah 0.75 artinya model ini cukup konsisten jika digunakan karena mendekati angka 1. Dan Standar Deviasi nya adalah 0.01 yang mendekati angka 0 artinya bestfit. Range test nya berkisar antara 74-76%"
   ]
  },
  {
   "cell_type": "code",
   "execution_count": 77,
   "metadata": {},
   "outputs": [
    {
     "name": "stdout",
     "output_type": "stream",
     "text": [
      "Model dengan nilai mean tertinggi adalah AdaBoost dengan nilai mean 0.7540 dan standar deviasi 0.0139\n"
     ]
    }
   ],
   "source": [
    "# Define a dictionary to store mean and standard deviation for each model\n",
    "model_scores = {\n",
    "    'KNN': (recall_train_cross_val_knn.mean(), recall_train_cross_val_knn.std()),\n",
    "    'SVM': (recall_train_cross_val_svm.mean(), recall_train_cross_val_svm.std()),\n",
    "    'Random Forest': (recall_train_cross_val_rf.mean(), recall_train_cross_val_rf.std()),\n",
    "    'Decision Tree': (recall_train_cross_val_dt.mean(), recall_train_cross_val_dt.std()),\n",
    "    'AdaBoost': (recall_train_cross_val_adaboost.mean(), recall_train_cross_val_adaboost.std())\n",
    "}\n",
    "\n",
    "# Find the model with the highest mean recall score\n",
    "best_model = max(model_scores, key=lambda k: model_scores[k][0])\n",
    "best_mean_score, best_std_dev = model_scores[best_model]\n",
    "\n",
    "# Print the best model and its mean and standard deviation\n",
    "print(f\"Model dengan nilai mean tertinggi adalah {best_model} dengan nilai mean {best_mean_score:.4f} dan standar deviasi {best_std_dev:.4f}\")\n"
   ]
  },
  {
   "cell_type": "code",
   "execution_count": 78,
   "metadata": {},
   "outputs": [
    {
     "data": {
      "image/png": "[encoded data removed]",
      "text/plain": [
       "<Figure size 1000x600 with 1 Axes>"
      ]
     },
     "metadata": {},
     "output_type": "display_data"
    }
   ],
   "source": [
    "# Define the models and their corresponding mean recall scores and standard deviations\n",
    "models = ['KNN', 'SVM', 'Random Forest', 'Decision Tree', 'AdaBoost']\n",
    "mean_scores = [model_scores[model][0] for model in models]\n",
    "std_devs = [model_scores[model][1] for model in models]\n",
    "\n",
    "# Create a bar plot with error bars for standard deviation\n",
    "plt.figure(figsize=(10, 6))\n",
    "plt.bar(models, mean_scores, yerr=std_devs, capsize=10, color='skyblue', alpha=0.7)\n",
    "plt.xlabel('Models')\n",
    "plt.ylabel('Mean Recall Score')\n",
    "plt.title('Mean Recall Scores with Standard Deviations for Different Models')\n",
    "plt.ylim([0, 1]) \n",
    "\n",
    "# Display the values on top of each bar\n",
    "for i, v in enumerate(mean_scores):\n",
    "    plt.text(i, v + 0.05, f'{v:.2f}', ha='center', va='bottom')\n",
    "\n",
    "# Show result\n",
    "plt.tight_layout()\n",
    "plt.show()"
   ]
  },
  {
   "cell_type": "markdown",
   "metadata": {},
   "source": [
    "Dapat dilihat bahwa model SVM, random forest dan adaboost memiliki nilai rata-rata yang sama. Maka dari itu, kita melihat nilai standar deviasi yang mendekati 0, dan didapatkan kalau model ADABoost memiliki nilai standar deviasi terkecil dibandingkan kedua model lainnya."
   ]
  },
  {
   "cell_type": "markdown",
   "metadata": {},
   "source": [
    "# **vii. Model Training**"
   ]
  },
  {
   "cell_type": "markdown",
   "metadata": {},
   "source": [
    "Pada bagian ini berisi code untuk melatih model melalui beberapa kali proses training dengan hyperparameter yang berbeda untuk melihat hasil yang didapatkan."
   ]
  },
  {
   "cell_type": "markdown",
   "metadata": {},
   "source": [
    "### Hyperparameter Tuning"
   ]
  },
  {
   "cell_type": "markdown",
   "metadata": {},
   "source": [
    "Hyperparameter tuning adalah proses mencari dan memilih kombinasi terbaik dari hyperparameter untuk model machine learning guna meningkatkan kinerja model pada data uji."
   ]
  },
  {
   "cell_type": "markdown",
   "metadata": {},
   "source": [
    "Hyperparameter tuning adalah proses mencari dan memilih kombinasi terbaik dari hyperparameter untuk model machine learning guna meningkatkan kinerja model pada data uji."
   ]
  },
  {
   "cell_type": "code",
   "execution_count": 79,
   "metadata": {},
   "outputs": [],
   "source": [
    "# Define the pipeline with the AdaBoost model\n",
    "pipeline_adaboost = Pipeline([\n",
    "    ('model', AdaBoostClassifier())  # 'model' is the step name for the AdaBoost model\n",
    "])\n",
    "\n",
    "# Define a dictionary of hyperparameters for RandomizedSearchCV\n",
    "adaboost_randomcv_params = {\n",
    "    'model__n_estimators': [100, 150, 200],\n",
    "    'model__learning_rate': [0.01, 0.1, 0.5, 1.0],\n",
    "    'model__random_state': [42]\n",
    "}"
   ]
  },
  {
   "cell_type": "markdown",
   "metadata": {},
   "source": [
    "Saya mencoba beberapa parameter yaitu:\n",
    "1. n_estimators : Parameter ini mengatur jumlah estimator base yang akan digunakan dalam ensemble. Ini mengontrol seberapa banyak \"weak learners\" yang akan berkontribusi pada model.\n",
    "2. learning_rate : Parameter ini mengatur tingkat pembelajaran (learning rate) untuk mengontrol seberapa besar bobot yang diberikan kepada estimator pada setiap iterasi.\n",
    "3. random_state: Parameter ini mengatur nilai seed untuk generator nomor acak yang digunakan dalam inisialisasi estimator base. Ini memungkinkan untuk membuat hasil yang dapat direproduksi."
   ]
  },
  {
   "cell_type": "code",
   "execution_count": 80,
   "metadata": {},
   "outputs": [
    {
     "name": "stderr",
     "output_type": "stream",
     "text": [
      "/Users/valdi/miniconda3/lib/python3.11/site-packages/sklearn/utils/validation.py:1184: DataConversionWarning: A column-vector y was passed when a 1d array was expected. Please change the shape of y to (n_samples, ), for example using ravel().\n",
      "  y = column_or_1d(y, warn=True)\n",
      "/Users/valdi/miniconda3/lib/python3.11/site-packages/sklearn/utils/validation.py:1184: DataConversionWarning: A column-vector y was passed when a 1d array was expected. Please change the shape of y to (n_samples, ), for example using ravel().\n",
      "  y = column_or_1d(y, warn=True)\n",
      "/Users/valdi/miniconda3/lib/python3.11/site-packages/sklearn/utils/validation.py:1184: DataConversionWarning: A column-vector y was passed when a 1d array was expected. Please change the shape of y to (n_samples, ), for example using ravel().\n",
      "  y = column_or_1d(y, warn=True)\n",
      "/Users/valdi/miniconda3/lib/python3.11/site-packages/sklearn/utils/validation.py:1184: DataConversionWarning: A column-vector y was passed when a 1d array was expected. Please change the shape of y to (n_samples, ), for example using ravel().\n",
      "  y = column_or_1d(y, warn=True)\n",
      "/Users/valdi/miniconda3/lib/python3.11/site-packages/sklearn/utils/validation.py:1184: DataConversionWarning: A column-vector y was passed when a 1d array was expected. Please change the shape of y to (n_samples, ), for example using ravel().\n",
      "  y = column_or_1d(y, warn=True)\n",
      "/Users/valdi/miniconda3/lib/python3.11/site-packages/sklearn/utils/validation.py:1184: DataConversionWarning: A column-vector y was passed when a 1d array was expected. Please change the shape of y to (n_samples, ), for example using ravel().\n",
      "  y = column_or_1d(y, warn=True)\n",
      "/Users/valdi/miniconda3/lib/python3.11/site-packages/sklearn/utils/validation.py:1184: DataConversionWarning: A column-vector y was passed when a 1d array was expected. Please change the shape of y to (n_samples, ), for example using ravel().\n",
      "  y = column_or_1d(y, warn=True)\n",
      "/Users/valdi/miniconda3/lib/python3.11/site-packages/sklearn/utils/validation.py:1184: DataConversionWarning: A column-vector y was passed when a 1d array was expected. Please change the shape of y to (n_samples, ), for example using ravel().\n",
      "  y = column_or_1d(y, warn=True)\n",
      "/Users/valdi/miniconda3/lib/python3.11/site-packages/sklearn/utils/validation.py:1184: DataConversionWarning: A column-vector y was passed when a 1d array was expected. Please change the shape of y to (n_samples, ), for example using ravel().\n",
      "  y = column_or_1d(y, warn=True)\n",
      "/Users/valdi/miniconda3/lib/python3.11/site-packages/sklearn/utils/validation.py:1184: DataConversionWarning: A column-vector y was passed when a 1d array was expected. Please change the shape of y to (n_samples, ), for example using ravel().\n",
      "  y = column_or_1d(y, warn=True)\n",
      "/Users/valdi/miniconda3/lib/python3.11/site-packages/sklearn/utils/validation.py:1184: DataConversionWarning: A column-vector y was passed when a 1d array was expected. Please change the shape of y to (n_samples, ), for example using ravel().\n",
      "  y = column_or_1d(y, warn=True)\n",
      "/Users/valdi/miniconda3/lib/python3.11/site-packages/sklearn/utils/validation.py:1184: DataConversionWarning: A column-vector y was passed when a 1d array was expected. Please change the shape of y to (n_samples, ), for example using ravel().\n",
      "  y = column_or_1d(y, warn=True)\n",
      "/Users/valdi/miniconda3/lib/python3.11/site-packages/sklearn/utils/validation.py:1184: DataConversionWarning: A column-vector y was passed when a 1d array was expected. Please change the shape of y to (n_samples, ), for example using ravel().\n",
      "  y = column_or_1d(y, warn=True)\n",
      "/Users/valdi/miniconda3/lib/python3.11/site-packages/sklearn/utils/validation.py:1184: DataConversionWarning: A column-vector y was passed when a 1d array was expected. Please change the shape of y to (n_samples, ), for example using ravel().\n",
      "  y = column_or_1d(y, warn=True)\n",
      "/Users/valdi/miniconda3/lib/python3.11/site-packages/sklearn/utils/validation.py:1184: DataConversionWarning: A column-vector y was passed when a 1d array was expected. Please change the shape of y to (n_samples, ), for example using ravel().\n",
      "  y = column_or_1d(y, warn=True)\n",
      "/Users/valdi/miniconda3/lib/python3.11/site-packages/sklearn/utils/validation.py:1184: DataConversionWarning: A column-vector y was passed when a 1d array was expected. Please change the shape of y to (n_samples, ), for example using ravel().\n",
      "  y = column_or_1d(y, warn=True)\n",
      "/Users/valdi/miniconda3/lib/python3.11/site-packages/sklearn/utils/validation.py:1184: DataConversionWarning: A column-vector y was passed when a 1d array was expected. Please change the shape of y to (n_samples, ), for example using ravel().\n",
      "  y = column_or_1d(y, warn=True)\n",
      "/Users/valdi/miniconda3/lib/python3.11/site-packages/sklearn/utils/validation.py:1184: DataConversionWarning: A column-vector y was passed when a 1d array was expected. Please change the shape of y to (n_samples, ), for example using ravel().\n",
      "  y = column_or_1d(y, warn=True)\n",
      "/Users/valdi/miniconda3/lib/python3.11/site-packages/sklearn/utils/validation.py:1184: DataConversionWarning: A column-vector y was passed when a 1d array was expected. Please change the shape of y to (n_samples, ), for example using ravel().\n",
      "  y = column_or_1d(y, warn=True)\n",
      "/Users/valdi/miniconda3/lib/python3.11/site-packages/sklearn/utils/validation.py:1184: DataConversionWarning: A column-vector y was passed when a 1d array was expected. Please change the shape of y to (n_samples, ), for example using ravel().\n",
      "  y = column_or_1d(y, warn=True)\n",
      "/Users/valdi/miniconda3/lib/python3.11/site-packages/sklearn/utils/validation.py:1184: DataConversionWarning: A column-vector y was passed when a 1d array was expected. Please change the shape of y to (n_samples, ), for example using ravel().\n",
      "  y = column_or_1d(y, warn=True)\n",
      "/Users/valdi/miniconda3/lib/python3.11/site-packages/sklearn/utils/validation.py:1184: DataConversionWarning: A column-vector y was passed when a 1d array was expected. Please change the shape of y to (n_samples, ), for example using ravel().\n",
      "  y = column_or_1d(y, warn=True)\n",
      "/Users/valdi/miniconda3/lib/python3.11/site-packages/sklearn/utils/validation.py:1184: DataConversionWarning: A column-vector y was passed when a 1d array was expected. Please change the shape of y to (n_samples, ), for example using ravel().\n",
      "  y = column_or_1d(y, warn=True)\n",
      "/Users/valdi/miniconda3/lib/python3.11/site-packages/sklearn/utils/validation.py:1184: DataConversionWarning: A column-vector y was passed when a 1d array was expected. Please change the shape of y to (n_samples, ), for example using ravel().\n",
      "  y = column_or_1d(y, warn=True)\n",
      "/Users/valdi/miniconda3/lib/python3.11/site-packages/sklearn/utils/validation.py:1184: DataConversionWarning: A column-vector y was passed when a 1d array was expected. Please change the shape of y to (n_samples, ), for example using ravel().\n",
      "  y = column_or_1d(y, warn=True)\n",
      "/Users/valdi/miniconda3/lib/python3.11/site-packages/sklearn/utils/validation.py:1184: DataConversionWarning: A column-vector y was passed when a 1d array was expected. Please change the shape of y to (n_samples, ), for example using ravel().\n",
      "  y = column_or_1d(y, warn=True)\n",
      "/Users/valdi/miniconda3/lib/python3.11/site-packages/sklearn/utils/validation.py:1184: DataConversionWarning: A column-vector y was passed when a 1d array was expected. Please change the shape of y to (n_samples, ), for example using ravel().\n",
      "  y = column_or_1d(y, warn=True)\n",
      "/Users/valdi/miniconda3/lib/python3.11/site-packages/sklearn/utils/validation.py:1184: DataConversionWarning: A column-vector y was passed when a 1d array was expected. Please change the shape of y to (n_samples, ), for example using ravel().\n",
      "  y = column_or_1d(y, warn=True)\n",
      "/Users/valdi/miniconda3/lib/python3.11/site-packages/sklearn/utils/validation.py:1184: DataConversionWarning: A column-vector y was passed when a 1d array was expected. Please change the shape of y to (n_samples, ), for example using ravel().\n",
      "  y = column_or_1d(y, warn=True)\n",
      "/Users/valdi/miniconda3/lib/python3.11/site-packages/sklearn/utils/validation.py:1184: DataConversionWarning: A column-vector y was passed when a 1d array was expected. Please change the shape of y to (n_samples, ), for example using ravel().\n",
      "  y = column_or_1d(y, warn=True)\n",
      "/Users/valdi/miniconda3/lib/python3.11/site-packages/sklearn/utils/validation.py:1184: DataConversionWarning: A column-vector y was passed when a 1d array was expected. Please change the shape of y to (n_samples, ), for example using ravel().\n",
      "  y = column_or_1d(y, warn=True)\n",
      "/Users/valdi/miniconda3/lib/python3.11/site-packages/sklearn/utils/validation.py:1184: DataConversionWarning: A column-vector y was passed when a 1d array was expected. Please change the shape of y to (n_samples, ), for example using ravel().\n",
      "  y = column_or_1d(y, warn=True)\n",
      "/Users/valdi/miniconda3/lib/python3.11/site-packages/sklearn/utils/validation.py:1184: DataConversionWarning: A column-vector y was passed when a 1d array was expected. Please change the shape of y to (n_samples, ), for example using ravel().\n",
      "  y = column_or_1d(y, warn=True)\n",
      "/Users/valdi/miniconda3/lib/python3.11/site-packages/sklearn/utils/validation.py:1184: DataConversionWarning: A column-vector y was passed when a 1d array was expected. Please change the shape of y to (n_samples, ), for example using ravel().\n",
      "  y = column_or_1d(y, warn=True)\n",
      "/Users/valdi/miniconda3/lib/python3.11/site-packages/sklearn/utils/validation.py:1184: DataConversionWarning: A column-vector y was passed when a 1d array was expected. Please change the shape of y to (n_samples, ), for example using ravel().\n",
      "  y = column_or_1d(y, warn=True)\n",
      "/Users/valdi/miniconda3/lib/python3.11/site-packages/sklearn/utils/validation.py:1184: DataConversionWarning: A column-vector y was passed when a 1d array was expected. Please change the shape of y to (n_samples, ), for example using ravel().\n",
      "  y = column_or_1d(y, warn=True)\n",
      "/Users/valdi/miniconda3/lib/python3.11/site-packages/sklearn/utils/validation.py:1184: DataConversionWarning: A column-vector y was passed when a 1d array was expected. Please change the shape of y to (n_samples, ), for example using ravel().\n",
      "  y = column_or_1d(y, warn=True)\n",
      "/Users/valdi/miniconda3/lib/python3.11/site-packages/sklearn/utils/validation.py:1184: DataConversionWarning: A column-vector y was passed when a 1d array was expected. Please change the shape of y to (n_samples, ), for example using ravel().\n",
      "  y = column_or_1d(y, warn=True)\n",
      "/Users/valdi/miniconda3/lib/python3.11/site-packages/sklearn/utils/validation.py:1184: DataConversionWarning: A column-vector y was passed when a 1d array was expected. Please change the shape of y to (n_samples, ), for example using ravel().\n",
      "  y = column_or_1d(y, warn=True)\n",
      "/Users/valdi/miniconda3/lib/python3.11/site-packages/sklearn/utils/validation.py:1184: DataConversionWarning: A column-vector y was passed when a 1d array was expected. Please change the shape of y to (n_samples, ), for example using ravel().\n",
      "  y = column_or_1d(y, warn=True)\n",
      "/Users/valdi/miniconda3/lib/python3.11/site-packages/sklearn/utils/validation.py:1184: DataConversionWarning: A column-vector y was passed when a 1d array was expected. Please change the shape of y to (n_samples, ), for example using ravel().\n",
      "  y = column_or_1d(y, warn=True)\n",
      "/Users/valdi/miniconda3/lib/python3.11/site-packages/sklearn/utils/validation.py:1184: DataConversionWarning: A column-vector y was passed when a 1d array was expected. Please change the shape of y to (n_samples, ), for example using ravel().\n",
      "  y = column_or_1d(y, warn=True)\n",
      "/Users/valdi/miniconda3/lib/python3.11/site-packages/sklearn/utils/validation.py:1184: DataConversionWarning: A column-vector y was passed when a 1d array was expected. Please change the shape of y to (n_samples, ), for example using ravel().\n",
      "  y = column_or_1d(y, warn=True)\n",
      "/Users/valdi/miniconda3/lib/python3.11/site-packages/sklearn/utils/validation.py:1184: DataConversionWarning: A column-vector y was passed when a 1d array was expected. Please change the shape of y to (n_samples, ), for example using ravel().\n",
      "  y = column_or_1d(y, warn=True)\n",
      "/Users/valdi/miniconda3/lib/python3.11/site-packages/sklearn/utils/validation.py:1184: DataConversionWarning: A column-vector y was passed when a 1d array was expected. Please change the shape of y to (n_samples, ), for example using ravel().\n",
      "  y = column_or_1d(y, warn=True)\n",
      "/Users/valdi/miniconda3/lib/python3.11/site-packages/sklearn/utils/validation.py:1184: DataConversionWarning: A column-vector y was passed when a 1d array was expected. Please change the shape of y to (n_samples, ), for example using ravel().\n",
      "  y = column_or_1d(y, warn=True)\n",
      "/Users/valdi/miniconda3/lib/python3.11/site-packages/sklearn/utils/validation.py:1184: DataConversionWarning: A column-vector y was passed when a 1d array was expected. Please change the shape of y to (n_samples, ), for example using ravel().\n",
      "  y = column_or_1d(y, warn=True)\n",
      "/Users/valdi/miniconda3/lib/python3.11/site-packages/sklearn/utils/validation.py:1184: DataConversionWarning: A column-vector y was passed when a 1d array was expected. Please change the shape of y to (n_samples, ), for example using ravel().\n",
      "  y = column_or_1d(y, warn=True)\n",
      "/Users/valdi/miniconda3/lib/python3.11/site-packages/sklearn/utils/validation.py:1184: DataConversionWarning: A column-vector y was passed when a 1d array was expected. Please change the shape of y to (n_samples, ), for example using ravel().\n",
      "  y = column_or_1d(y, warn=True)\n",
      "/Users/valdi/miniconda3/lib/python3.11/site-packages/sklearn/utils/validation.py:1184: DataConversionWarning: A column-vector y was passed when a 1d array was expected. Please change the shape of y to (n_samples, ), for example using ravel().\n",
      "  y = column_or_1d(y, warn=True)\n",
      "/Users/valdi/miniconda3/lib/python3.11/site-packages/sklearn/utils/validation.py:1184: DataConversionWarning: A column-vector y was passed when a 1d array was expected. Please change the shape of y to (n_samples, ), for example using ravel().\n",
      "  y = column_or_1d(y, warn=True)\n",
      "/Users/valdi/miniconda3/lib/python3.11/site-packages/sklearn/utils/validation.py:1184: DataConversionWarning: A column-vector y was passed when a 1d array was expected. Please change the shape of y to (n_samples, ), for example using ravel().\n",
      "  y = column_or_1d(y, warn=True)\n",
      "/Users/valdi/miniconda3/lib/python3.11/site-packages/sklearn/utils/validation.py:1184: DataConversionWarning: A column-vector y was passed when a 1d array was expected. Please change the shape of y to (n_samples, ), for example using ravel().\n",
      "  y = column_or_1d(y, warn=True)\n",
      "/Users/valdi/miniconda3/lib/python3.11/site-packages/sklearn/utils/validation.py:1184: DataConversionWarning: A column-vector y was passed when a 1d array was expected. Please change the shape of y to (n_samples, ), for example using ravel().\n",
      "  y = column_or_1d(y, warn=True)\n",
      "/Users/valdi/miniconda3/lib/python3.11/site-packages/sklearn/utils/validation.py:1184: DataConversionWarning: A column-vector y was passed when a 1d array was expected. Please change the shape of y to (n_samples, ), for example using ravel().\n",
      "  y = column_or_1d(y, warn=True)\n",
      "/Users/valdi/miniconda3/lib/python3.11/site-packages/sklearn/utils/validation.py:1184: DataConversionWarning: A column-vector y was passed when a 1d array was expected. Please change the shape of y to (n_samples, ), for example using ravel().\n",
      "  y = column_or_1d(y, warn=True)\n",
      "/Users/valdi/miniconda3/lib/python3.11/site-packages/sklearn/utils/validation.py:1184: DataConversionWarning: A column-vector y was passed when a 1d array was expected. Please change the shape of y to (n_samples, ), for example using ravel().\n",
      "  y = column_or_1d(y, warn=True)\n",
      "/Users/valdi/miniconda3/lib/python3.11/site-packages/sklearn/utils/validation.py:1184: DataConversionWarning: A column-vector y was passed when a 1d array was expected. Please change the shape of y to (n_samples, ), for example using ravel().\n",
      "  y = column_or_1d(y, warn=True)\n",
      "/Users/valdi/miniconda3/lib/python3.11/site-packages/sklearn/utils/validation.py:1184: DataConversionWarning: A column-vector y was passed when a 1d array was expected. Please change the shape of y to (n_samples, ), for example using ravel().\n",
      "  y = column_or_1d(y, warn=True)\n",
      "/Users/valdi/miniconda3/lib/python3.11/site-packages/sklearn/utils/validation.py:1184: DataConversionWarning: A column-vector y was passed when a 1d array was expected. Please change the shape of y to (n_samples, ), for example using ravel().\n",
      "  y = column_or_1d(y, warn=True)\n"
     ]
    },
    {
     "data": {
      "text/html": [
       "<style>#sk-container-id-7 {color: black;}#sk-container-id-7 pre{padding: 0;}#sk-container-id-7 div.sk-toggleable {background-color: white;}#sk-container-id-7 label.sk-toggleable__label {cursor: pointer;display: block;width: 100%;margin-bottom: 0;padding: 0.3em;box-sizing: border-box;text-align: center;}#sk-container-id-7 label.sk-toggleable__label-arrow:before {content: \"▸\";float: left;margin-right: 0.25em;color: #696969;}#sk-container-id-7 label.sk-toggleable__label-arrow:hover:before {color: black;}#sk-container-id-7 div.sk-estimator:hover label.sk-toggleable__label-arrow:before {color: black;}#sk-container-id-7 div.sk-toggleable__content {max-height: 0;max-width: 0;overflow: hidden;text-align: left;background-color: #f0f8ff;}#sk-container-id-7 div.sk-toggleable__content pre {margin: 0.2em;color: black;border-radius: 0.25em;background-color: #f0f8ff;}#sk-container-id-7 input.sk-toggleable__control:checked~div.sk-toggleable__content {max-height: 200px;max-width: 100%;overflow: auto;}#sk-container-id-7 input.sk-toggleable__control:checked~label.sk-toggleable__label-arrow:before {content: \"▾\";}#sk-container-id-7 div.sk-estimator input.sk-toggleable__control:checked~label.sk-toggleable__label {background-color: #d4ebff;}#sk-container-id-7 div.sk-label input.sk-toggleable__control:checked~label.sk-toggleable__label {background-color: #d4ebff;}#sk-container-id-7 input.sk-hidden--visually {border: 0;clip: rect(1px 1px 1px 1px);clip: rect(1px, 1px, 1px, 1px);height: 1px;margin: -1px;overflow: hidden;padding: 0;position: absolute;width: 1px;}#sk-container-id-7 div.sk-estimator {font-family: monospace;background-color: #f0f8ff;border: 1px dotted black;border-radius: 0.25em;box-sizing: border-box;margin-bottom: 0.5em;}#sk-container-id-7 div.sk-estimator:hover {background-color: #d4ebff;}#sk-container-id-7 div.sk-parallel-item::after {content: \"\";width: 100%;border-bottom: 1px solid gray;flex-grow: 1;}#sk-container-id-7 div.sk-label:hover label.sk-toggleable__label {background-color: #d4ebff;}#sk-container-id-7 div.sk-serial::before {content: \"\";position: absolute;border-left: 1px solid gray;box-sizing: border-box;top: 0;bottom: 0;left: 50%;z-index: 0;}#sk-container-id-7 div.sk-serial {display: flex;flex-direction: column;align-items: center;background-color: white;padding-right: 0.2em;padding-left: 0.2em;position: relative;}#sk-container-id-7 div.sk-item {position: relative;z-index: 1;}#sk-container-id-7 div.sk-parallel {display: flex;align-items: stretch;justify-content: center;background-color: white;position: relative;}#sk-container-id-7 div.sk-item::before, #sk-container-id-7 div.sk-parallel-item::before {content: \"\";position: absolute;border-left: 1px solid gray;box-sizing: border-box;top: 0;bottom: 0;left: 50%;z-index: -1;}#sk-container-id-7 div.sk-parallel-item {display: flex;flex-direction: column;z-index: 1;position: relative;background-color: white;}#sk-container-id-7 div.sk-parallel-item:first-child::after {align-self: flex-end;width: 50%;}#sk-container-id-7 div.sk-parallel-item:last-child::after {align-self: flex-start;width: 50%;}#sk-container-id-7 div.sk-parallel-item:only-child::after {width: 0;}#sk-container-id-7 div.sk-dashed-wrapped {border: 1px dashed gray;margin: 0 0.4em 0.5em 0.4em;box-sizing: border-box;padding-bottom: 0.4em;background-color: white;}#sk-container-id-7 div.sk-label label {font-family: monospace;font-weight: bold;display: inline-block;line-height: 1.2em;}#sk-container-id-7 div.sk-label-container {text-align: center;}#sk-container-id-7 div.sk-container {/* jupyter's `normalize.less` sets `[hidden] { display: none; }` but bootstrap.min.css set `[hidden] { display: none !important; }` so we also need the `!important` here to be able to override the default hidden behavior on the sphinx rendered scikit-learn.org. See: https://github.com/scikit-learn/scikit-learn/issues/21755 */display: inline-block !important;position: relative;}#sk-container-id-7 div.sk-text-repr-fallback {display: none;}</style><div id=\"sk-container-id-7\" class=\"sk-top-container\"><div class=\"sk-text-repr-fallback\"><pre>RandomizedSearchCV(cv=5,\n",
       "                   estimator=Pipeline(steps=[(&#x27;model&#x27;, AdaBoostClassifier())]),\n",
       "                   n_iter=30, n_jobs=-1,\n",
       "                   param_distributions={&#x27;model__learning_rate&#x27;: [0.01, 0.1, 0.5,\n",
       "                                                                 1.0],\n",
       "                                        &#x27;model__n_estimators&#x27;: [100, 150, 200],\n",
       "                                        &#x27;model__random_state&#x27;: [42]},\n",
       "                   random_state=25, scoring=&#x27;recall&#x27;)</pre><b>In a Jupyter environment, please rerun this cell to show the HTML representation or trust the notebook. <br />On GitHub, the HTML representation is unable to render, please try loading this page with nbviewer.org.</b></div><div class=\"sk-container\" hidden><div class=\"sk-item sk-dashed-wrapped\"><div class=\"sk-label-container\"><div class=\"sk-label sk-toggleable\"><input class=\"sk-toggleable__control sk-hidden--visually\" id=\"sk-estimator-id-14\" type=\"checkbox\" ><label for=\"sk-estimator-id-14\" class=\"sk-toggleable__label sk-toggleable__label-arrow\">RandomizedSearchCV</label><div class=\"sk-toggleable__content\"><pre>RandomizedSearchCV(cv=5,\n",
       "                   estimator=Pipeline(steps=[(&#x27;model&#x27;, AdaBoostClassifier())]),\n",
       "                   n_iter=30, n_jobs=-1,\n",
       "                   param_distributions={&#x27;model__learning_rate&#x27;: [0.01, 0.1, 0.5,\n",
       "                                                                 1.0],\n",
       "                                        &#x27;model__n_estimators&#x27;: [100, 150, 200],\n",
       "                                        &#x27;model__random_state&#x27;: [42]},\n",
       "                   random_state=25, scoring=&#x27;recall&#x27;)</pre></div></div></div><div class=\"sk-parallel\"><div class=\"sk-parallel-item\"><div class=\"sk-item\"><div class=\"sk-label-container\"><div class=\"sk-label sk-toggleable\"><input class=\"sk-toggleable__control sk-hidden--visually\" id=\"sk-estimator-id-15\" type=\"checkbox\" ><label for=\"sk-estimator-id-15\" class=\"sk-toggleable__label sk-toggleable__label-arrow\">estimator: Pipeline</label><div class=\"sk-toggleable__content\"><pre>Pipeline(steps=[(&#x27;model&#x27;, AdaBoostClassifier())])</pre></div></div></div><div class=\"sk-serial\"><div class=\"sk-item\"><div class=\"sk-serial\"><div class=\"sk-item\"><div class=\"sk-estimator sk-toggleable\"><input class=\"sk-toggleable__control sk-hidden--visually\" id=\"sk-estimator-id-16\" type=\"checkbox\" ><label for=\"sk-estimator-id-16\" class=\"sk-toggleable__label sk-toggleable__label-arrow\">AdaBoostClassifier</label><div class=\"sk-toggleable__content\"><pre>AdaBoostClassifier()</pre></div></div></div></div></div></div></div></div></div></div></div></div>"
      ],
      "text/plain": [
       "RandomizedSearchCV(cv=5,\n",
       "                   estimator=Pipeline(steps=[('model', AdaBoostClassifier())]),\n",
       "                   n_iter=30, n_jobs=-1,\n",
       "                   param_distributions={'model__learning_rate': [0.01, 0.1, 0.5,\n",
       "                                                                 1.0],\n",
       "                                        'model__n_estimators': [100, 150, 200],\n",
       "                                        'model__random_state': [42]},\n",
       "                   random_state=25, scoring='recall')"
      ]
     },
     "execution_count": 80,
     "metadata": {},
     "output_type": "execute_result"
    }
   ],
   "source": [
    "# Create a RandomizedSearchCV object for AdaBoost within the pipeline\n",
    "adaboost_randomcv = RandomizedSearchCV(\n",
    "    pipeline_adaboost,\n",
    "    param_distributions=adaboost_randomcv_params,\n",
    "    n_iter=30,\n",
    "    cv=5,\n",
    "    random_state=25,\n",
    "    n_jobs=-1,\n",
    "    scoring='recall'\n",
    ")\n",
    "\n",
    "# Train the AdaBoost model with parameter search\n",
    "adaboost_randomcv.fit(X_train_balance, y_train_balance)"
   ]
  },
  {
   "cell_type": "code",
   "execution_count": 81,
   "metadata": {},
   "outputs": [
    {
     "name": "stdout",
     "output_type": "stream",
     "text": [
      "Nilai mean dari hasil pencarian hyperparameter adalah: 0.7491\n",
      "Nilai standar deviasi dari hasil pencarian hyperparameter adalah: 0.0181\n"
     ]
    }
   ],
   "source": [
    "# Get the mean recall score from the hyperparameter search results\n",
    "mean_recall_score = adaboost_randomcv.best_score_\n",
    "\n",
    "print(f\"Nilai mean dari hasil pencarian hyperparameter adalah: {mean_recall_score:.4f}\")\n",
    "\n",
    "# Get the standard deviation of the recall scores from the hyperparameter search results\n",
    "std_recall_score = adaboost_randomcv.cv_results_['std_test_score'][adaboost_randomcv.best_index_]\n",
    "\n",
    "print(f\"Nilai standar deviasi dari hasil pencarian hyperparameter adalah: {std_recall_score:.4f}\")\n"
   ]
  },
  {
   "cell_type": "markdown",
   "metadata": {},
   "source": [
    "Nilai mean adalah 0.74 dan nilai standar deviasi adalah 0.01. Berarti model ini bestfit karena mendekati 0"
   ]
  },
  {
   "cell_type": "code",
   "execution_count": 82,
   "metadata": {},
   "outputs": [
    {
     "name": "stdout",
     "output_type": "stream",
     "text": [
      "Best Parameters (ADABOOST Classifier):  {'model__random_state': 42, 'model__n_estimators': 200, 'model__learning_rate': 0.1}\n",
      "Best Accuracy (ADABOOST Classifier):  0.749079754601227\n"
     ]
    }
   ],
   "source": [
    "# Print the best parameters found for the AdaBoost Classifier\n",
    "print(\"Best Parameters (ADABOOST Classifier): \", adaboost_randomcv.best_params_)\n",
    "\n",
    "# Print the best accuracy obtained for the AdaBoost Classifier\n",
    "print(\"Best Accuracy (ADABOOST Classifier): \", adaboost_randomcv.best_score_)\n",
    "\n"
   ]
  },
  {
   "cell_type": "markdown",
   "metadata": {},
   "source": [
    "Best parameter untuk ADABoost Classifier adalah model__random_state': 42, 'model__n_estimators': 200 dan 'model__learning_rate': 0.1. Serta akurasi terbaik untuk ADABoost Classifier adalah 0.74 atau 74%"
   ]
  },
  {
   "cell_type": "code",
   "execution_count": 83,
   "metadata": {},
   "outputs": [],
   "source": [
    "# Use the best AdaBoost Classifier model to make predictions\n",
    "best_adaboost_estimator = adaboost_randomcv.best_estimator_"
   ]
  },
  {
   "cell_type": "markdown",
   "metadata": {},
   "source": [
    "Membuat variabel baru untuk menyimpan estimator terbaik untuk model ADABoost"
   ]
  },
  {
   "cell_type": "code",
   "execution_count": 84,
   "metadata": {},
   "outputs": [
    {
     "name": "stdout",
     "output_type": "stream",
     "text": [
      "Recall Score (ADABoost Hyperparameter Tuning): 0.7321867321867321\n",
      "Accuracy (ADA Boost Hyperparameter Tuning): 0.782\n"
     ]
    }
   ],
   "source": [
    "# Use the best AdaBoost Classifier model to make predictions on the test data\n",
    "y_pred_adaboost = best_adaboost_estimator.predict(X_test_fix)\n",
    "\n",
    "# Evaluate the performance of the best AdaBoost model\n",
    "adaboost_score = recall_score(y_test, y_pred_adaboost)  # Calculate recall score\n",
    "adaboost_accuracy = accuracy_score(y_test, y_pred_adaboost)  # Calculate accuracy\n",
    "\n",
    "# Print the evaluation results\n",
    "print(\"Recall Score (ADABoost Hyperparameter Tuning):\", adaboost_score)\n",
    "print(\"Accuracy (ADA Boost Hyperparameter Tuning):\", adaboost_accuracy)"
   ]
  },
  {
   "cell_type": "markdown",
   "metadata": {},
   "source": [
    "Recall score nya adalah 73,2% dan akurasi 78,2%"
   ]
  },
  {
   "cell_type": "code",
   "execution_count": 85,
   "metadata": {},
   "outputs": [
    {
     "name": "stdout",
     "output_type": "stream",
     "text": [
      "Recall Score - Train Set: 0.752760736196319 \n",
      "\n",
      "Classification Report:\n",
      "               precision    recall  f1-score   support\n",
      "\n",
      "           0       0.76      0.80      0.78      1630\n",
      "           1       0.79      0.75      0.77      1630\n",
      "\n",
      "    accuracy                           0.78      3260\n",
      "   macro avg       0.78      0.78      0.78      3260\n",
      "weighted avg       0.78      0.78      0.78      3260\n",
      " \n",
      "\n"
     ]
    }
   ],
   "source": [
    "# Use the best AdaBoost Classifier model to make predictions on the balanced training data\n",
    "y_pred_train_finals = best_adaboost_estimator.predict(X_train_balance)\n",
    "\n",
    "# Calculate and print the recall score on the training set\n",
    "print('Recall Score - Train Set:', recall_score(y_train_balance, y_pred_train_finals), '\\n')\n",
    "\n",
    "# Generate and print the classification report on the training set\n",
    "print('Classification Report:\\n', classification_report(y_train_balance, y_pred_train_finals), '\\n')\n"
   ]
  },
  {
   "cell_type": "markdown",
   "metadata": {},
   "source": [
    "Classification report untuk y_predict_train di hyperparameter tuning model ADA Boost adalah F1 score 77%, recall 75%, precision 79% dan akurasi 78%"
   ]
  },
  {
   "cell_type": "code",
   "execution_count": 86,
   "metadata": {},
   "outputs": [
    {
     "name": "stdout",
     "output_type": "stream",
     "text": [
      "Recall Score - Test Set  :  0.7321867321867321 \n",
      "\n",
      "Classification Report : \n",
      "               precision    recall  f1-score   support\n",
      "\n",
      "           0       0.92      0.79      0.85      1593\n",
      "           1       0.48      0.73      0.58       407\n",
      "\n",
      "    accuracy                           0.78      2000\n",
      "   macro avg       0.70      0.76      0.72      2000\n",
      "weighted avg       0.83      0.78      0.80      2000\n",
      " \n",
      "\n"
     ]
    }
   ],
   "source": [
    "# Use the best AdaBoost Classifier model to make predictions on the test data\n",
    "y_pred_test_finals = best_adaboost_estimator.predict(X_test_fix)\n",
    "\n",
    "# Calculate and print the recall score on the test set\n",
    "print('Recall Score - Test Set  : ', recall_score(y_test, y_pred_test_finals), '\\n')\n",
    "\n",
    "# Generate and print the classification report on the test set\n",
    "print('Classification Report : \\n', classification_report(y_test, y_pred_test_finals), '\\n')\n"
   ]
  },
  {
   "cell_type": "markdown",
   "metadata": {},
   "source": [
    "Classification report untuk y_predict_test di hyperparameter tuning model ADA Boost adalah F1 score 58%, recall 73%, precision 48% dan akurasi 78%"
   ]
  },
  {
   "cell_type": "code",
   "execution_count": 87,
   "metadata": {},
   "outputs": [
    {
     "data": {
      "image/png": "[encoded data removed]",
      "text/plain": [
       "<Figure size 800x600 with 2 Axes>"
      ]
     },
     "metadata": {},
     "output_type": "display_data"
    }
   ],
   "source": [
    "# Calculate the confusion matrix\n",
    "cm = confusion_matrix(y_test, y_pred_test_finals)\n",
    "\n",
    "# Display the confusion matrix as a heatmap\n",
    "plt.figure(figsize=(8, 6))\n",
    "sns.heatmap(cm, annot=True, fmt='d', cmap='Blues', linewidths=0.5, annot_kws={\"size\": 16})\n",
    "plt.xlabel('Predicted')\n",
    "plt.ylabel('Actual')\n",
    "plt.title('Confusion Matrix')\n",
    "plt.show()\n"
   ]
  },
  {
   "cell_type": "markdown",
   "metadata": {},
   "source": [
    "Model ini memprediksi 298 data sebagai True Positive (TP), 109 data sebagai False Negative (FN), 327 data sebagai False Positive (FP) dan 1266 data sebagai True Negative (TN)"
   ]
  },
  {
   "cell_type": "markdown",
   "metadata": {},
   "source": [
    "# **viii. Model Evaluation**"
   ]
  },
  {
   "cell_type": "markdown",
   "metadata": {},
   "source": [
    "Pada bagian ini, dilakukan evaluasi model untuk menunjukkan bagaimana performa model berdasarkan metrics yang dipilih. "
   ]
  },
  {
   "cell_type": "code",
   "execution_count": 88,
   "metadata": {},
   "outputs": [
    {
     "data": {
      "text/html": [
       "<div>\n",
       "<style scoped>\n",
       "    .dataframe tbody tr th:only-of-type {\n",
       "        vertical-align: middle;\n",
       "    }\n",
       "\n",
       "    .dataframe tbody tr th {\n",
       "        vertical-align: top;\n",
       "    }\n",
       "\n",
       "    .dataframe thead th {\n",
       "        text-align: right;\n",
       "    }\n",
       "</style>\n",
       "<table border=\"1\" class=\"dataframe\">\n",
       "  <thead>\n",
       "    <tr style=\"text-align: right;\">\n",
       "      <th></th>\n",
       "      <th>Model Default ADA Boost</th>\n",
       "    </tr>\n",
       "  </thead>\n",
       "  <tbody>\n",
       "    <tr>\n",
       "      <th>test - accuracy</th>\n",
       "      <td>0.782000</td>\n",
       "    </tr>\n",
       "    <tr>\n",
       "      <th>test - f1_score</th>\n",
       "      <td>0.579961</td>\n",
       "    </tr>\n",
       "    <tr>\n",
       "      <th>test - precision</th>\n",
       "      <td>0.477021</td>\n",
       "    </tr>\n",
       "    <tr>\n",
       "      <th>test - recall</th>\n",
       "      <td>0.739558</td>\n",
       "    </tr>\n",
       "  </tbody>\n",
       "</table>\n",
       "</div>"
      ],
      "text/plain": [
       "                  Model Default ADA Boost\n",
       "test - accuracy                  0.782000\n",
       "test - f1_score                  0.579961\n",
       "test - precision                 0.477021\n",
       "test - recall                    0.739558"
      ]
     },
     "execution_count": 88,
     "metadata": {},
     "output_type": "execute_result"
    }
   ],
   "source": [
    "# Dictionary to store performance reports\n",
    "all_reports = {}\n",
    "\n",
    "# Function to create a performance report\n",
    "def performance_report(all_reports, y_test, y_test_adaboost_predict, name):\n",
    "    # Calculate various classification metrics and store them in a dictionary\n",
    "    score_reports = {\n",
    "        'test - precision': precision_score(y_test, y_test_adaboost_predict),\n",
    "        'test - recall': recall_score(y_test, y_test_adaboost_predict),\n",
    "        'test - accuracy': accuracy_score(y_test, y_test_adaboost_predict),\n",
    "        'test - f1_score': f1_score(y_test, y_test_adaboost_predict),\n",
    "    }\n",
    "    # Store the performance report in the dictionary with a specified name\n",
    "    all_reports[name] = score_reports\n",
    "    return all_reports\n",
    "\n",
    "# Call the performance_report function to create a report with the name 'Model Default ADA Boost'\n",
    "reports_default = performance_report(all_reports, y_test, y_test_adaboost_predict, 'Model Default ADA Boost')\n",
    "\n",
    "# Display the performance report as a DataFrame\n",
    "pd.DataFrame(reports_default)\n"
   ]
  },
  {
   "cell_type": "markdown",
   "metadata": {},
   "source": [
    "Pada tabel diatas menunjukkan performa ADABoost default model atau sebelum dilakukan hyperparameter tuning. Terlihat bahwa accuracy score 78%, F1-score 57%, precision 47% dan recall 73%. Untuk selanjutnya, saya akan melakukan perbandingan dengan model ADABoost setelah dilakukan hyperparameter tuning."
   ]
  },
  {
   "cell_type": "code",
   "execution_count": 89,
   "metadata": {},
   "outputs": [
    {
     "data": {
      "text/html": [
       "<div>\n",
       "<style scoped>\n",
       "    .dataframe tbody tr th:only-of-type {\n",
       "        vertical-align: middle;\n",
       "    }\n",
       "\n",
       "    .dataframe tbody tr th {\n",
       "        vertical-align: top;\n",
       "    }\n",
       "\n",
       "    .dataframe thead th {\n",
       "        text-align: right;\n",
       "    }\n",
       "</style>\n",
       "<table border=\"1\" class=\"dataframe\">\n",
       "  <thead>\n",
       "    <tr style=\"text-align: right;\">\n",
       "      <th></th>\n",
       "      <th>Model Default ADA Boost</th>\n",
       "      <th>Model Tuning ADA Boost</th>\n",
       "    </tr>\n",
       "  </thead>\n",
       "  <tbody>\n",
       "    <tr>\n",
       "      <th>test - precision</th>\n",
       "      <td>0.477021</td>\n",
       "      <td>0.476800</td>\n",
       "    </tr>\n",
       "    <tr>\n",
       "      <th>test - recall</th>\n",
       "      <td>0.739558</td>\n",
       "      <td>0.732187</td>\n",
       "    </tr>\n",
       "    <tr>\n",
       "      <th>test - accuracy</th>\n",
       "      <td>0.782000</td>\n",
       "      <td>0.782000</td>\n",
       "    </tr>\n",
       "    <tr>\n",
       "      <th>test - f1_score</th>\n",
       "      <td>0.579961</td>\n",
       "      <td>0.577519</td>\n",
       "    </tr>\n",
       "  </tbody>\n",
       "</table>\n",
       "</div>"
      ],
      "text/plain": [
       "                  Model Default ADA Boost  Model Tuning ADA Boost\n",
       "test - precision                 0.477021                0.476800\n",
       "test - recall                    0.739558                0.732187\n",
       "test - accuracy                  0.782000                0.782000\n",
       "test - f1_score                  0.579961                0.577519"
      ]
     },
     "execution_count": 89,
     "metadata": {},
     "output_type": "execute_result"
    }
   ],
   "source": [
    "# Call the performance_report function to create a report for the tuned AdaBoost model\n",
    "all_reports = performance_report(all_reports, y_test, y_pred_test_finals, 'Model Tuning ADA Boost')\n",
    "\n",
    "# Display all performance reports in a DataFrame\n",
    "pd.DataFrame(all_reports)"
   ]
  },
  {
   "cell_type": "markdown",
   "metadata": {},
   "source": [
    "Nilai recall untuk test pada model tuning adalah 73,2% dan pada model default adalah 73,9%. Maka dari itu saya memilih model default baseline model ADABoost sebagai model yang akan memprediksi data baru nantinya."
   ]
  },
  {
   "cell_type": "code",
   "execution_count": 90,
   "metadata": {},
   "outputs": [
    {
     "data": {
      "image/png": "[encoded data removed]",
      "text/plain": [
       "<Figure size 800x600 with 1 Axes>"
      ]
     },
     "metadata": {},
     "output_type": "display_data"
    }
   ],
   "source": [
    "# Calculate predictions on the test data using the AdaBoost model\n",
    "y_pred_test_finals = adaboost_model.predict(X_test_fix)\n",
    "\n",
    "# Create a confusion matrix\n",
    "confusion = confusion_matrix(y_test, y_pred_test_finals)\n",
    "\n",
    "# Display the confusion matrix\n",
    "plt.figure(figsize=(8, 6))\n",
    "sns.heatmap(confusion, annot=True, fmt=\"d\", cmap=\"Blues\", cbar=False)\n",
    "plt.xlabel(\"Predicted\")\n",
    "plt.ylabel(\"Actual\")\n",
    "plt.title(\"Confusion Matrix\")\n",
    "plt.show()\n"
   ]
  },
  {
   "cell_type": "markdown",
   "metadata": {},
   "source": [
    "Pada confusion matrix terlihat bahwa 301 data diprediksi sebagai True Positive(TP), 106 data diprediksi sebagai False Negative (FN), 330 data diprediksi sebagai False Positive(FP), dan 1263 data diprediksi sebagai True Negative(TN). Berdasarkan confusion matrix ini, data False Negative(FN) dapat diminimalisir sehingga tujuan awal kita tercapai."
   ]
  },
  {
   "cell_type": "code",
   "execution_count": 91,
   "metadata": {},
   "outputs": [
    {
     "data": {
      "image/png": "[encoded data removed]",
      "text/plain": [
       "<Figure size 640x480 with 1 Axes>"
      ]
     },
     "metadata": {},
     "output_type": "display_data"
    },
    {
     "name": "stdout",
     "output_type": "stream",
     "text": [
      "Skor AUC untuk model adalah: 0.763510814358272\n"
     ]
    }
   ],
   "source": [
    "# Calculate the ROC curve\n",
    "fpr, tpr, thresholds = roc_curve(y_test, y_test_rf_predict)\n",
    "\n",
    "# Plot the ROC curve\n",
    "plt.plot(fpr, tpr)\n",
    "plt.xlabel(\"False Positive Rate (FPR)\")\n",
    "plt.ylabel(\"True Positive Rate (TPR)\")\n",
    "plt.title(\"Receiver Operating Characteristic (ROC) Curve\")\n",
    "plt.show()\n",
    "\n",
    "# Calculate the Area Under the ROC Curve (AUC)\n",
    "auc = roc_auc_score(y_test, y_test_rf_predict)\n",
    "\n",
    "# Print the AUC score\n",
    "print(f\"Skor AUC untuk model adalah: {auc}\")\n"
   ]
  },
  {
   "cell_type": "markdown",
   "metadata": {},
   "source": [
    "Pada skor AUC adalah 0.76 menandakan model ini cukup baik dalam membedakan kelas negatif dan positif. Jika AUC <1, maka model sempurna dalam membedakan antara kelas positif dan negatif."
   ]
  },
  {
   "cell_type": "markdown",
   "metadata": {},
   "source": [
    "# **ix. Final Pipeline**"
   ]
  },
  {
   "cell_type": "markdown",
   "metadata": {},
   "source": [
    "Langkah ini dilakukan untuk menggabungkan beberapa pipeline yang sudah dibuat sebelumnya"
   ]
  },
  {
   "cell_type": "code",
   "execution_count": 92,
   "metadata": {},
   "outputs": [
    {
     "data": {
      "text/html": [
       "<style>#sk-container-id-8 {color: black;}#sk-container-id-8 pre{padding: 0;}#sk-container-id-8 div.sk-toggleable {background-color: white;}#sk-container-id-8 label.sk-toggleable__label {cursor: pointer;display: block;width: 100%;margin-bottom: 0;padding: 0.3em;box-sizing: border-box;text-align: center;}#sk-container-id-8 label.sk-toggleable__label-arrow:before {content: \"▸\";float: left;margin-right: 0.25em;color: #696969;}#sk-container-id-8 label.sk-toggleable__label-arrow:hover:before {color: black;}#sk-container-id-8 div.sk-estimator:hover label.sk-toggleable__label-arrow:before {color: black;}#sk-container-id-8 div.sk-toggleable__content {max-height: 0;max-width: 0;overflow: hidden;text-align: left;background-color: #f0f8ff;}#sk-container-id-8 div.sk-toggleable__content pre {margin: 0.2em;color: black;border-radius: 0.25em;background-color: #f0f8ff;}#sk-container-id-8 input.sk-toggleable__control:checked~div.sk-toggleable__content {max-height: 200px;max-width: 100%;overflow: auto;}#sk-container-id-8 input.sk-toggleable__control:checked~label.sk-toggleable__label-arrow:before {content: \"▾\";}#sk-container-id-8 div.sk-estimator input.sk-toggleable__control:checked~label.sk-toggleable__label {background-color: #d4ebff;}#sk-container-id-8 div.sk-label input.sk-toggleable__control:checked~label.sk-toggleable__label {background-color: #d4ebff;}#sk-container-id-8 input.sk-hidden--visually {border: 0;clip: rect(1px 1px 1px 1px);clip: rect(1px, 1px, 1px, 1px);height: 1px;margin: -1px;overflow: hidden;padding: 0;position: absolute;width: 1px;}#sk-container-id-8 div.sk-estimator {font-family: monospace;background-color: #f0f8ff;border: 1px dotted black;border-radius: 0.25em;box-sizing: border-box;margin-bottom: 0.5em;}#sk-container-id-8 div.sk-estimator:hover {background-color: #d4ebff;}#sk-container-id-8 div.sk-parallel-item::after {content: \"\";width: 100%;border-bottom: 1px solid gray;flex-grow: 1;}#sk-container-id-8 div.sk-label:hover label.sk-toggleable__label {background-color: #d4ebff;}#sk-container-id-8 div.sk-serial::before {content: \"\";position: absolute;border-left: 1px solid gray;box-sizing: border-box;top: 0;bottom: 0;left: 50%;z-index: 0;}#sk-container-id-8 div.sk-serial {display: flex;flex-direction: column;align-items: center;background-color: white;padding-right: 0.2em;padding-left: 0.2em;position: relative;}#sk-container-id-8 div.sk-item {position: relative;z-index: 1;}#sk-container-id-8 div.sk-parallel {display: flex;align-items: stretch;justify-content: center;background-color: white;position: relative;}#sk-container-id-8 div.sk-item::before, #sk-container-id-8 div.sk-parallel-item::before {content: \"\";position: absolute;border-left: 1px solid gray;box-sizing: border-box;top: 0;bottom: 0;left: 50%;z-index: -1;}#sk-container-id-8 div.sk-parallel-item {display: flex;flex-direction: column;z-index: 1;position: relative;background-color: white;}#sk-container-id-8 div.sk-parallel-item:first-child::after {align-self: flex-end;width: 50%;}#sk-container-id-8 div.sk-parallel-item:last-child::after {align-self: flex-start;width: 50%;}#sk-container-id-8 div.sk-parallel-item:only-child::after {width: 0;}#sk-container-id-8 div.sk-dashed-wrapped {border: 1px dashed gray;margin: 0 0.4em 0.5em 0.4em;box-sizing: border-box;padding-bottom: 0.4em;background-color: white;}#sk-container-id-8 div.sk-label label {font-family: monospace;font-weight: bold;display: inline-block;line-height: 1.2em;}#sk-container-id-8 div.sk-label-container {text-align: center;}#sk-container-id-8 div.sk-container {/* jupyter's `normalize.less` sets `[hidden] { display: none; }` but bootstrap.min.css set `[hidden] { display: none !important; }` so we also need the `!important` here to be able to override the default hidden behavior on the sphinx rendered scikit-learn.org. See: https://github.com/scikit-learn/scikit-learn/issues/21755 */display: inline-block !important;position: relative;}#sk-container-id-8 div.sk-text-repr-fallback {display: none;}</style><div id=\"sk-container-id-8\" class=\"sk-top-container\"><div class=\"sk-text-repr-fallback\"><pre>ColumnTransformer(transformers=[(&#x27;Numerical&#x27;,\n",
       "                                 Pipeline(steps=[(&#x27;winsorizer&#x27;,\n",
       "                                                  Winsorizer(tail=&#x27;both&#x27;,\n",
       "                                                             variables=[&#x27;age&#x27;,\n",
       "                                                                        &#x27;credit_score&#x27;])),\n",
       "                                                 (&#x27;scaler&#x27;, StandardScaler())]),\n",
       "                                 [&#x27;age&#x27;, &#x27;balance&#x27;, &#x27;credit_score&#x27;, &#x27;tenure&#x27;]),\n",
       "                                (&#x27;Ordinal&#x27;,\n",
       "                                 Pipeline(steps=[(&#x27;ordinal&#x27;,\n",
       "                                                  OrdinalEncoder(categories=[[&#x27;1&#x27;,\n",
       "                                                                              &#x27;2&#x27;,\n",
       "                                                                              &#x27;3&#x27;,\n",
       "                                                                              &#x27;4&#x27;],\n",
       "                                                                             [&#x27;France&#x27;,\n",
       "                                                                              &#x27;Spain&#x27;,\n",
       "                                                                              &#x27;Germany&#x27;],\n",
       "                                                                             [&#x27;Male&#x27;,\n",
       "                                                                              &#x27;Female&#x27;]]))]),\n",
       "                                 [&#x27;products_number&#x27;, &#x27;country&#x27;, &#x27;gender&#x27;]),\n",
       "                                (&#x27;Binary&#x27;, &#x27;passthrough&#x27;, [&#x27;active_member&#x27;])])</pre><b>In a Jupyter environment, please rerun this cell to show the HTML representation or trust the notebook. <br />On GitHub, the HTML representation is unable to render, please try loading this page with nbviewer.org.</b></div><div class=\"sk-container\" hidden><div class=\"sk-item sk-dashed-wrapped\"><div class=\"sk-label-container\"><div class=\"sk-label sk-toggleable\"><input class=\"sk-toggleable__control sk-hidden--visually\" id=\"sk-estimator-id-17\" type=\"checkbox\" ><label for=\"sk-estimator-id-17\" class=\"sk-toggleable__label sk-toggleable__label-arrow\">ColumnTransformer</label><div class=\"sk-toggleable__content\"><pre>ColumnTransformer(transformers=[(&#x27;Numerical&#x27;,\n",
       "                                 Pipeline(steps=[(&#x27;winsorizer&#x27;,\n",
       "                                                  Winsorizer(tail=&#x27;both&#x27;,\n",
       "                                                             variables=[&#x27;age&#x27;,\n",
       "                                                                        &#x27;credit_score&#x27;])),\n",
       "                                                 (&#x27;scaler&#x27;, StandardScaler())]),\n",
       "                                 [&#x27;age&#x27;, &#x27;balance&#x27;, &#x27;credit_score&#x27;, &#x27;tenure&#x27;]),\n",
       "                                (&#x27;Ordinal&#x27;,\n",
       "                                 Pipeline(steps=[(&#x27;ordinal&#x27;,\n",
       "                                                  OrdinalEncoder(categories=[[&#x27;1&#x27;,\n",
       "                                                                              &#x27;2&#x27;,\n",
       "                                                                              &#x27;3&#x27;,\n",
       "                                                                              &#x27;4&#x27;],\n",
       "                                                                             [&#x27;France&#x27;,\n",
       "                                                                              &#x27;Spain&#x27;,\n",
       "                                                                              &#x27;Germany&#x27;],\n",
       "                                                                             [&#x27;Male&#x27;,\n",
       "                                                                              &#x27;Female&#x27;]]))]),\n",
       "                                 [&#x27;products_number&#x27;, &#x27;country&#x27;, &#x27;gender&#x27;]),\n",
       "                                (&#x27;Binary&#x27;, &#x27;passthrough&#x27;, [&#x27;active_member&#x27;])])</pre></div></div></div><div class=\"sk-parallel\"><div class=\"sk-parallel-item\"><div class=\"sk-item\"><div class=\"sk-label-container\"><div class=\"sk-label sk-toggleable\"><input class=\"sk-toggleable__control sk-hidden--visually\" id=\"sk-estimator-id-18\" type=\"checkbox\" ><label for=\"sk-estimator-id-18\" class=\"sk-toggleable__label sk-toggleable__label-arrow\">Numerical</label><div class=\"sk-toggleable__content\"><pre>[&#x27;age&#x27;, &#x27;balance&#x27;, &#x27;credit_score&#x27;, &#x27;tenure&#x27;]</pre></div></div></div><div class=\"sk-serial\"><div class=\"sk-item\"><div class=\"sk-serial\"><div class=\"sk-item\"><div class=\"sk-estimator sk-toggleable\"><input class=\"sk-toggleable__control sk-hidden--visually\" id=\"sk-estimator-id-19\" type=\"checkbox\" ><label for=\"sk-estimator-id-19\" class=\"sk-toggleable__label sk-toggleable__label-arrow\">Winsorizer</label><div class=\"sk-toggleable__content\"><pre>Winsorizer(tail=&#x27;both&#x27;, variables=[&#x27;age&#x27;, &#x27;credit_score&#x27;])</pre></div></div></div><div class=\"sk-item\"><div class=\"sk-estimator sk-toggleable\"><input class=\"sk-toggleable__control sk-hidden--visually\" id=\"sk-estimator-id-20\" type=\"checkbox\" ><label for=\"sk-estimator-id-20\" class=\"sk-toggleable__label sk-toggleable__label-arrow\">StandardScaler</label><div class=\"sk-toggleable__content\"><pre>StandardScaler()</pre></div></div></div></div></div></div></div></div><div class=\"sk-parallel-item\"><div class=\"sk-item\"><div class=\"sk-label-container\"><div class=\"sk-label sk-toggleable\"><input class=\"sk-toggleable__control sk-hidden--visually\" id=\"sk-estimator-id-21\" type=\"checkbox\" ><label for=\"sk-estimator-id-21\" class=\"sk-toggleable__label sk-toggleable__label-arrow\">Ordinal</label><div class=\"sk-toggleable__content\"><pre>[&#x27;products_number&#x27;, &#x27;country&#x27;, &#x27;gender&#x27;]</pre></div></div></div><div class=\"sk-serial\"><div class=\"sk-item\"><div class=\"sk-serial\"><div class=\"sk-item\"><div class=\"sk-estimator sk-toggleable\"><input class=\"sk-toggleable__control sk-hidden--visually\" id=\"sk-estimator-id-22\" type=\"checkbox\" ><label for=\"sk-estimator-id-22\" class=\"sk-toggleable__label sk-toggleable__label-arrow\">OrdinalEncoder</label><div class=\"sk-toggleable__content\"><pre>OrdinalEncoder(categories=[[&#x27;1&#x27;, &#x27;2&#x27;, &#x27;3&#x27;, &#x27;4&#x27;], [&#x27;France&#x27;, &#x27;Spain&#x27;, &#x27;Germany&#x27;],\n",
       "                           [&#x27;Male&#x27;, &#x27;Female&#x27;]])</pre></div></div></div></div></div></div></div></div><div class=\"sk-parallel-item\"><div class=\"sk-item\"><div class=\"sk-label-container\"><div class=\"sk-label sk-toggleable\"><input class=\"sk-toggleable__control sk-hidden--visually\" id=\"sk-estimator-id-23\" type=\"checkbox\" ><label for=\"sk-estimator-id-23\" class=\"sk-toggleable__label sk-toggleable__label-arrow\">Binary</label><div class=\"sk-toggleable__content\"><pre>[&#x27;active_member&#x27;]</pre></div></div></div><div class=\"sk-serial\"><div class=\"sk-item\"><div class=\"sk-estimator sk-toggleable\"><input class=\"sk-toggleable__control sk-hidden--visually\" id=\"sk-estimator-id-24\" type=\"checkbox\" ><label for=\"sk-estimator-id-24\" class=\"sk-toggleable__label sk-toggleable__label-arrow\">passthrough</label><div class=\"sk-toggleable__content\"><pre>passthrough</pre></div></div></div></div></div></div></div></div></div></div>"
      ],
      "text/plain": [
       "ColumnTransformer(transformers=[('Numerical',\n",
       "                                 Pipeline(steps=[('winsorizer',\n",
       "                                                  Winsorizer(tail='both',\n",
       "                                                             variables=['age',\n",
       "                                                                        'credit_score'])),\n",
       "                                                 ('scaler', StandardScaler())]),\n",
       "                                 ['age', 'balance', 'credit_score', 'tenure']),\n",
       "                                ('Ordinal',\n",
       "                                 Pipeline(steps=[('ordinal',\n",
       "                                                  OrdinalEncoder(categories=[['1',\n",
       "                                                                              '2',\n",
       "                                                                              '3',\n",
       "                                                                              '4'],\n",
       "                                                                             ['France',\n",
       "                                                                              'Spain',\n",
       "                                                                              'Germany'],\n",
       "                                                                             ['Male',\n",
       "                                                                              'Female']]))]),\n",
       "                                 ['products_number', 'country', 'gender']),\n",
       "                                ('Binary', 'passthrough', ['active_member'])])"
      ]
     },
     "execution_count": 92,
     "metadata": {},
     "output_type": "execute_result"
    }
   ],
   "source": [
    "# Create an instance of Preprocessor pipeline\n",
    "preprocessor"
   ]
  },
  {
   "cell_type": "markdown",
   "metadata": {},
   "source": [
    "Saya memanggil variabel preprocessor sebagai pipeline awal untuk preprocessing agar bisa digabung dengan pipeline model dan jadi pipeline final\n"
   ]
  },
  {
   "cell_type": "code",
   "execution_count": 93,
   "metadata": {},
   "outputs": [
    {
     "data": {
      "text/html": [
       "<style>#sk-container-id-9 {color: black;}#sk-container-id-9 pre{padding: 0;}#sk-container-id-9 div.sk-toggleable {background-color: white;}#sk-container-id-9 label.sk-toggleable__label {cursor: pointer;display: block;width: 100%;margin-bottom: 0;padding: 0.3em;box-sizing: border-box;text-align: center;}#sk-container-id-9 label.sk-toggleable__label-arrow:before {content: \"▸\";float: left;margin-right: 0.25em;color: #696969;}#sk-container-id-9 label.sk-toggleable__label-arrow:hover:before {color: black;}#sk-container-id-9 div.sk-estimator:hover label.sk-toggleable__label-arrow:before {color: black;}#sk-container-id-9 div.sk-toggleable__content {max-height: 0;max-width: 0;overflow: hidden;text-align: left;background-color: #f0f8ff;}#sk-container-id-9 div.sk-toggleable__content pre {margin: 0.2em;color: black;border-radius: 0.25em;background-color: #f0f8ff;}#sk-container-id-9 input.sk-toggleable__control:checked~div.sk-toggleable__content {max-height: 200px;max-width: 100%;overflow: auto;}#sk-container-id-9 input.sk-toggleable__control:checked~label.sk-toggleable__label-arrow:before {content: \"▾\";}#sk-container-id-9 div.sk-estimator input.sk-toggleable__control:checked~label.sk-toggleable__label {background-color: #d4ebff;}#sk-container-id-9 div.sk-label input.sk-toggleable__control:checked~label.sk-toggleable__label {background-color: #d4ebff;}#sk-container-id-9 input.sk-hidden--visually {border: 0;clip: rect(1px 1px 1px 1px);clip: rect(1px, 1px, 1px, 1px);height: 1px;margin: -1px;overflow: hidden;padding: 0;position: absolute;width: 1px;}#sk-container-id-9 div.sk-estimator {font-family: monospace;background-color: #f0f8ff;border: 1px dotted black;border-radius: 0.25em;box-sizing: border-box;margin-bottom: 0.5em;}#sk-container-id-9 div.sk-estimator:hover {background-color: #d4ebff;}#sk-container-id-9 div.sk-parallel-item::after {content: \"\";width: 100%;border-bottom: 1px solid gray;flex-grow: 1;}#sk-container-id-9 div.sk-label:hover label.sk-toggleable__label {background-color: #d4ebff;}#sk-container-id-9 div.sk-serial::before {content: \"\";position: absolute;border-left: 1px solid gray;box-sizing: border-box;top: 0;bottom: 0;left: 50%;z-index: 0;}#sk-container-id-9 div.sk-serial {display: flex;flex-direction: column;align-items: center;background-color: white;padding-right: 0.2em;padding-left: 0.2em;position: relative;}#sk-container-id-9 div.sk-item {position: relative;z-index: 1;}#sk-container-id-9 div.sk-parallel {display: flex;align-items: stretch;justify-content: center;background-color: white;position: relative;}#sk-container-id-9 div.sk-item::before, #sk-container-id-9 div.sk-parallel-item::before {content: \"\";position: absolute;border-left: 1px solid gray;box-sizing: border-box;top: 0;bottom: 0;left: 50%;z-index: -1;}#sk-container-id-9 div.sk-parallel-item {display: flex;flex-direction: column;z-index: 1;position: relative;background-color: white;}#sk-container-id-9 div.sk-parallel-item:first-child::after {align-self: flex-end;width: 50%;}#sk-container-id-9 div.sk-parallel-item:last-child::after {align-self: flex-start;width: 50%;}#sk-container-id-9 div.sk-parallel-item:only-child::after {width: 0;}#sk-container-id-9 div.sk-dashed-wrapped {border: 1px dashed gray;margin: 0 0.4em 0.5em 0.4em;box-sizing: border-box;padding-bottom: 0.4em;background-color: white;}#sk-container-id-9 div.sk-label label {font-family: monospace;font-weight: bold;display: inline-block;line-height: 1.2em;}#sk-container-id-9 div.sk-label-container {text-align: center;}#sk-container-id-9 div.sk-container {/* jupyter's `normalize.less` sets `[hidden] { display: none; }` but bootstrap.min.css set `[hidden] { display: none !important; }` so we also need the `!important` here to be able to override the default hidden behavior on the sphinx rendered scikit-learn.org. See: https://github.com/scikit-learn/scikit-learn/issues/21755 */display: inline-block !important;position: relative;}#sk-container-id-9 div.sk-text-repr-fallback {display: none;}</style><div id=\"sk-container-id-9\" class=\"sk-top-container\"><div class=\"sk-text-repr-fallback\"><pre>AdaBoostClassifier()</pre><b>In a Jupyter environment, please rerun this cell to show the HTML representation or trust the notebook. <br />On GitHub, the HTML representation is unable to render, please try loading this page with nbviewer.org.</b></div><div class=\"sk-container\" hidden><div class=\"sk-item\"><div class=\"sk-estimator sk-toggleable\"><input class=\"sk-toggleable__control sk-hidden--visually\" id=\"sk-estimator-id-25\" type=\"checkbox\" checked><label for=\"sk-estimator-id-25\" class=\"sk-toggleable__label sk-toggleable__label-arrow\">AdaBoostClassifier</label><div class=\"sk-toggleable__content\"><pre>AdaBoostClassifier()</pre></div></div></div></div></div>"
      ],
      "text/plain": [
       "AdaBoostClassifier()"
      ]
     },
     "execution_count": 93,
     "metadata": {},
     "output_type": "execute_result"
    }
   ],
   "source": [
    "# Create an instance of AdaBoostClassifier\n",
    "adaboost_model = AdaBoostClassifier()\n",
    "\n",
    "# Fit the AdaBoost model to the balanced training data\n",
    "adaboost_model.fit(X_train_balance, y_train_balance)"
   ]
  },
  {
   "cell_type": "markdown",
   "metadata": {},
   "source": [
    "Saya juga memanggil model ADABoost sebagai model yang terpilih setelah melalui proses evaluasi model"
   ]
  },
  {
   "cell_type": "code",
   "execution_count": 94,
   "metadata": {},
   "outputs": [
    {
     "data": {
      "text/html": [
       "<style>#sk-container-id-10 {color: black;}#sk-container-id-10 pre{padding: 0;}#sk-container-id-10 div.sk-toggleable {background-color: white;}#sk-container-id-10 label.sk-toggleable__label {cursor: pointer;display: block;width: 100%;margin-bottom: 0;padding: 0.3em;box-sizing: border-box;text-align: center;}#sk-container-id-10 label.sk-toggleable__label-arrow:before {content: \"▸\";float: left;margin-right: 0.25em;color: #696969;}#sk-container-id-10 label.sk-toggleable__label-arrow:hover:before {color: black;}#sk-container-id-10 div.sk-estimator:hover label.sk-toggleable__label-arrow:before {color: black;}#sk-container-id-10 div.sk-toggleable__content {max-height: 0;max-width: 0;overflow: hidden;text-align: left;background-color: #f0f8ff;}#sk-container-id-10 div.sk-toggleable__content pre {margin: 0.2em;color: black;border-radius: 0.25em;background-color: #f0f8ff;}#sk-container-id-10 input.sk-toggleable__control:checked~div.sk-toggleable__content {max-height: 200px;max-width: 100%;overflow: auto;}#sk-container-id-10 input.sk-toggleable__control:checked~label.sk-toggleable__label-arrow:before {content: \"▾\";}#sk-container-id-10 div.sk-estimator input.sk-toggleable__control:checked~label.sk-toggleable__label {background-color: #d4ebff;}#sk-container-id-10 div.sk-label input.sk-toggleable__control:checked~label.sk-toggleable__label {background-color: #d4ebff;}#sk-container-id-10 input.sk-hidden--visually {border: 0;clip: rect(1px 1px 1px 1px);clip: rect(1px, 1px, 1px, 1px);height: 1px;margin: -1px;overflow: hidden;padding: 0;position: absolute;width: 1px;}#sk-container-id-10 div.sk-estimator {font-family: monospace;background-color: #f0f8ff;border: 1px dotted black;border-radius: 0.25em;box-sizing: border-box;margin-bottom: 0.5em;}#sk-container-id-10 div.sk-estimator:hover {background-color: #d4ebff;}#sk-container-id-10 div.sk-parallel-item::after {content: \"\";width: 100%;border-bottom: 1px solid gray;flex-grow: 1;}#sk-container-id-10 div.sk-label:hover label.sk-toggleable__label {background-color: #d4ebff;}#sk-container-id-10 div.sk-serial::before {content: \"\";position: absolute;border-left: 1px solid gray;box-sizing: border-box;top: 0;bottom: 0;left: 50%;z-index: 0;}#sk-container-id-10 div.sk-serial {display: flex;flex-direction: column;align-items: center;background-color: white;padding-right: 0.2em;padding-left: 0.2em;position: relative;}#sk-container-id-10 div.sk-item {position: relative;z-index: 1;}#sk-container-id-10 div.sk-parallel {display: flex;align-items: stretch;justify-content: center;background-color: white;position: relative;}#sk-container-id-10 div.sk-item::before, #sk-container-id-10 div.sk-parallel-item::before {content: \"\";position: absolute;border-left: 1px solid gray;box-sizing: border-box;top: 0;bottom: 0;left: 50%;z-index: -1;}#sk-container-id-10 div.sk-parallel-item {display: flex;flex-direction: column;z-index: 1;position: relative;background-color: white;}#sk-container-id-10 div.sk-parallel-item:first-child::after {align-self: flex-end;width: 50%;}#sk-container-id-10 div.sk-parallel-item:last-child::after {align-self: flex-start;width: 50%;}#sk-container-id-10 div.sk-parallel-item:only-child::after {width: 0;}#sk-container-id-10 div.sk-dashed-wrapped {border: 1px dashed gray;margin: 0 0.4em 0.5em 0.4em;box-sizing: border-box;padding-bottom: 0.4em;background-color: white;}#sk-container-id-10 div.sk-label label {font-family: monospace;font-weight: bold;display: inline-block;line-height: 1.2em;}#sk-container-id-10 div.sk-label-container {text-align: center;}#sk-container-id-10 div.sk-container {/* jupyter's `normalize.less` sets `[hidden] { display: none; }` but bootstrap.min.css set `[hidden] { display: none !important; }` so we also need the `!important` here to be able to override the default hidden behavior on the sphinx rendered scikit-learn.org. See: https://github.com/scikit-learn/scikit-learn/issues/21755 */display: inline-block !important;position: relative;}#sk-container-id-10 div.sk-text-repr-fallback {display: none;}</style><div id=\"sk-container-id-10\" class=\"sk-top-container\"><div class=\"sk-text-repr-fallback\"><pre>Pipeline(steps=[(&#x27;preprocess&#x27;,\n",
       "                 ColumnTransformer(transformers=[(&#x27;Numerical&#x27;,\n",
       "                                                  Pipeline(steps=[(&#x27;winsorizer&#x27;,\n",
       "                                                                   Winsorizer(tail=&#x27;both&#x27;,\n",
       "                                                                              variables=[&#x27;age&#x27;,\n",
       "                                                                                         &#x27;credit_score&#x27;])),\n",
       "                                                                  (&#x27;scaler&#x27;,\n",
       "                                                                   StandardScaler())]),\n",
       "                                                  [&#x27;age&#x27;, &#x27;balance&#x27;,\n",
       "                                                   &#x27;credit_score&#x27;, &#x27;tenure&#x27;]),\n",
       "                                                 (&#x27;Ordinal&#x27;,\n",
       "                                                  Pipeline(steps=[(&#x27;ordinal&#x27;,\n",
       "                                                                   OrdinalEncoder(categories=[[&#x27;1&#x27;,\n",
       "                                                                                               &#x27;2&#x27;,\n",
       "                                                                                               &#x27;3&#x27;,\n",
       "                                                                                               &#x27;4&#x27;],\n",
       "                                                                                              [&#x27;France&#x27;,\n",
       "                                                                                               &#x27;Spain&#x27;,\n",
       "                                                                                               &#x27;Germany&#x27;],\n",
       "                                                                                              [&#x27;Male&#x27;,\n",
       "                                                                                               &#x27;Female&#x27;]]))]),\n",
       "                                                  [&#x27;products_number&#x27;, &#x27;country&#x27;,\n",
       "                                                   &#x27;gender&#x27;]),\n",
       "                                                 (&#x27;Binary&#x27;, &#x27;passthrough&#x27;,\n",
       "                                                  [&#x27;active_member&#x27;])])),\n",
       "                (&#x27;classification&#x27;, AdaBoostClassifier())])</pre><b>In a Jupyter environment, please rerun this cell to show the HTML representation or trust the notebook. <br />On GitHub, the HTML representation is unable to render, please try loading this page with nbviewer.org.</b></div><div class=\"sk-container\" hidden><div class=\"sk-item sk-dashed-wrapped\"><div class=\"sk-label-container\"><div class=\"sk-label sk-toggleable\"><input class=\"sk-toggleable__control sk-hidden--visually\" id=\"sk-estimator-id-26\" type=\"checkbox\" ><label for=\"sk-estimator-id-26\" class=\"sk-toggleable__label sk-toggleable__label-arrow\">Pipeline</label><div class=\"sk-toggleable__content\"><pre>Pipeline(steps=[(&#x27;preprocess&#x27;,\n",
       "                 ColumnTransformer(transformers=[(&#x27;Numerical&#x27;,\n",
       "                                                  Pipeline(steps=[(&#x27;winsorizer&#x27;,\n",
       "                                                                   Winsorizer(tail=&#x27;both&#x27;,\n",
       "                                                                              variables=[&#x27;age&#x27;,\n",
       "                                                                                         &#x27;credit_score&#x27;])),\n",
       "                                                                  (&#x27;scaler&#x27;,\n",
       "                                                                   StandardScaler())]),\n",
       "                                                  [&#x27;age&#x27;, &#x27;balance&#x27;,\n",
       "                                                   &#x27;credit_score&#x27;, &#x27;tenure&#x27;]),\n",
       "                                                 (&#x27;Ordinal&#x27;,\n",
       "                                                  Pipeline(steps=[(&#x27;ordinal&#x27;,\n",
       "                                                                   OrdinalEncoder(categories=[[&#x27;1&#x27;,\n",
       "                                                                                               &#x27;2&#x27;,\n",
       "                                                                                               &#x27;3&#x27;,\n",
       "                                                                                               &#x27;4&#x27;],\n",
       "                                                                                              [&#x27;France&#x27;,\n",
       "                                                                                               &#x27;Spain&#x27;,\n",
       "                                                                                               &#x27;Germany&#x27;],\n",
       "                                                                                              [&#x27;Male&#x27;,\n",
       "                                                                                               &#x27;Female&#x27;]]))]),\n",
       "                                                  [&#x27;products_number&#x27;, &#x27;country&#x27;,\n",
       "                                                   &#x27;gender&#x27;]),\n",
       "                                                 (&#x27;Binary&#x27;, &#x27;passthrough&#x27;,\n",
       "                                                  [&#x27;active_member&#x27;])])),\n",
       "                (&#x27;classification&#x27;, AdaBoostClassifier())])</pre></div></div></div><div class=\"sk-serial\"><div class=\"sk-item sk-dashed-wrapped\"><div class=\"sk-label-container\"><div class=\"sk-label sk-toggleable\"><input class=\"sk-toggleable__control sk-hidden--visually\" id=\"sk-estimator-id-27\" type=\"checkbox\" ><label for=\"sk-estimator-id-27\" class=\"sk-toggleable__label sk-toggleable__label-arrow\">preprocess: ColumnTransformer</label><div class=\"sk-toggleable__content\"><pre>ColumnTransformer(transformers=[(&#x27;Numerical&#x27;,\n",
       "                                 Pipeline(steps=[(&#x27;winsorizer&#x27;,\n",
       "                                                  Winsorizer(tail=&#x27;both&#x27;,\n",
       "                                                             variables=[&#x27;age&#x27;,\n",
       "                                                                        &#x27;credit_score&#x27;])),\n",
       "                                                 (&#x27;scaler&#x27;, StandardScaler())]),\n",
       "                                 [&#x27;age&#x27;, &#x27;balance&#x27;, &#x27;credit_score&#x27;, &#x27;tenure&#x27;]),\n",
       "                                (&#x27;Ordinal&#x27;,\n",
       "                                 Pipeline(steps=[(&#x27;ordinal&#x27;,\n",
       "                                                  OrdinalEncoder(categories=[[&#x27;1&#x27;,\n",
       "                                                                              &#x27;2&#x27;,\n",
       "                                                                              &#x27;3&#x27;,\n",
       "                                                                              &#x27;4&#x27;],\n",
       "                                                                             [&#x27;France&#x27;,\n",
       "                                                                              &#x27;Spain&#x27;,\n",
       "                                                                              &#x27;Germany&#x27;],\n",
       "                                                                             [&#x27;Male&#x27;,\n",
       "                                                                              &#x27;Female&#x27;]]))]),\n",
       "                                 [&#x27;products_number&#x27;, &#x27;country&#x27;, &#x27;gender&#x27;]),\n",
       "                                (&#x27;Binary&#x27;, &#x27;passthrough&#x27;, [&#x27;active_member&#x27;])])</pre></div></div></div><div class=\"sk-parallel\"><div class=\"sk-parallel-item\"><div class=\"sk-item\"><div class=\"sk-label-container\"><div class=\"sk-label sk-toggleable\"><input class=\"sk-toggleable__control sk-hidden--visually\" id=\"sk-estimator-id-28\" type=\"checkbox\" ><label for=\"sk-estimator-id-28\" class=\"sk-toggleable__label sk-toggleable__label-arrow\">Numerical</label><div class=\"sk-toggleable__content\"><pre>[&#x27;age&#x27;, &#x27;balance&#x27;, &#x27;credit_score&#x27;, &#x27;tenure&#x27;]</pre></div></div></div><div class=\"sk-serial\"><div class=\"sk-item\"><div class=\"sk-serial\"><div class=\"sk-item\"><div class=\"sk-estimator sk-toggleable\"><input class=\"sk-toggleable__control sk-hidden--visually\" id=\"sk-estimator-id-29\" type=\"checkbox\" ><label for=\"sk-estimator-id-29\" class=\"sk-toggleable__label sk-toggleable__label-arrow\">Winsorizer</label><div class=\"sk-toggleable__content\"><pre>Winsorizer(tail=&#x27;both&#x27;, variables=[&#x27;age&#x27;, &#x27;credit_score&#x27;])</pre></div></div></div><div class=\"sk-item\"><div class=\"sk-estimator sk-toggleable\"><input class=\"sk-toggleable__control sk-hidden--visually\" id=\"sk-estimator-id-30\" type=\"checkbox\" ><label for=\"sk-estimator-id-30\" class=\"sk-toggleable__label sk-toggleable__label-arrow\">StandardScaler</label><div class=\"sk-toggleable__content\"><pre>StandardScaler()</pre></div></div></div></div></div></div></div></div><div class=\"sk-parallel-item\"><div class=\"sk-item\"><div class=\"sk-label-container\"><div class=\"sk-label sk-toggleable\"><input class=\"sk-toggleable__control sk-hidden--visually\" id=\"sk-estimator-id-31\" type=\"checkbox\" ><label for=\"sk-estimator-id-31\" class=\"sk-toggleable__label sk-toggleable__label-arrow\">Ordinal</label><div class=\"sk-toggleable__content\"><pre>[&#x27;products_number&#x27;, &#x27;country&#x27;, &#x27;gender&#x27;]</pre></div></div></div><div class=\"sk-serial\"><div class=\"sk-item\"><div class=\"sk-serial\"><div class=\"sk-item\"><div class=\"sk-estimator sk-toggleable\"><input class=\"sk-toggleable__control sk-hidden--visually\" id=\"sk-estimator-id-32\" type=\"checkbox\" ><label for=\"sk-estimator-id-32\" class=\"sk-toggleable__label sk-toggleable__label-arrow\">OrdinalEncoder</label><div class=\"sk-toggleable__content\"><pre>OrdinalEncoder(categories=[[&#x27;1&#x27;, &#x27;2&#x27;, &#x27;3&#x27;, &#x27;4&#x27;], [&#x27;France&#x27;, &#x27;Spain&#x27;, &#x27;Germany&#x27;],\n",
       "                           [&#x27;Male&#x27;, &#x27;Female&#x27;]])</pre></div></div></div></div></div></div></div></div><div class=\"sk-parallel-item\"><div class=\"sk-item\"><div class=\"sk-label-container\"><div class=\"sk-label sk-toggleable\"><input class=\"sk-toggleable__control sk-hidden--visually\" id=\"sk-estimator-id-33\" type=\"checkbox\" ><label for=\"sk-estimator-id-33\" class=\"sk-toggleable__label sk-toggleable__label-arrow\">Binary</label><div class=\"sk-toggleable__content\"><pre>[&#x27;active_member&#x27;]</pre></div></div></div><div class=\"sk-serial\"><div class=\"sk-item\"><div class=\"sk-estimator sk-toggleable\"><input class=\"sk-toggleable__control sk-hidden--visually\" id=\"sk-estimator-id-34\" type=\"checkbox\" ><label for=\"sk-estimator-id-34\" class=\"sk-toggleable__label sk-toggleable__label-arrow\">passthrough</label><div class=\"sk-toggleable__content\"><pre>passthrough</pre></div></div></div></div></div></div></div></div><div class=\"sk-item\"><div class=\"sk-estimator sk-toggleable\"><input class=\"sk-toggleable__control sk-hidden--visually\" id=\"sk-estimator-id-35\" type=\"checkbox\" ><label for=\"sk-estimator-id-35\" class=\"sk-toggleable__label sk-toggleable__label-arrow\">AdaBoostClassifier</label><div class=\"sk-toggleable__content\"><pre>AdaBoostClassifier()</pre></div></div></div></div></div></div></div>"
      ],
      "text/plain": [
       "Pipeline(steps=[('preprocess',\n",
       "                 ColumnTransformer(transformers=[('Numerical',\n",
       "                                                  Pipeline(steps=[('winsorizer',\n",
       "                                                                   Winsorizer(tail='both',\n",
       "                                                                              variables=['age',\n",
       "                                                                                         'credit_score'])),\n",
       "                                                                  ('scaler',\n",
       "                                                                   StandardScaler())]),\n",
       "                                                  ['age', 'balance',\n",
       "                                                   'credit_score', 'tenure']),\n",
       "                                                 ('Ordinal',\n",
       "                                                  Pipeline(steps=[('ordinal',\n",
       "                                                                   OrdinalEncoder(categories=[['1',\n",
       "                                                                                               '2',\n",
       "                                                                                               '3',\n",
       "                                                                                               '4'],\n",
       "                                                                                              ['France',\n",
       "                                                                                               'Spain',\n",
       "                                                                                               'Germany'],\n",
       "                                                                                              ['Male',\n",
       "                                                                                               'Female']]))]),\n",
       "                                                  ['products_number', 'country',\n",
       "                                                   'gender']),\n",
       "                                                 ('Binary', 'passthrough',\n",
       "                                                  ['active_member'])])),\n",
       "                ('classification', AdaBoostClassifier())])"
      ]
     },
     "execution_count": 94,
     "metadata": {},
     "output_type": "execute_result"
    }
   ],
   "source": [
    "# Create a model pipeline with preprocessing and the AdaBoost model\n",
    "model = Pipeline([\n",
    "    (\"preprocess\", preprocessor),      # Preprocessing step\n",
    "    (\"classification\", adaboost_model) # AdaBoost Classifier step\n",
    "])\n",
    "\n",
    "# Display the model pipeline\n",
    "model"
   ]
  },
  {
   "cell_type": "markdown",
   "metadata": {},
   "source": [
    "Saya menggabungkan pipeline preprocessing dan model agar nantinya bisa digunakan untuk memprediksi data baru"
   ]
  },
  {
   "cell_type": "markdown",
   "metadata": {},
   "source": [
    "# **x. Model Saving**"
   ]
  },
  {
   "cell_type": "markdown",
   "metadata": {},
   "source": [
    "Pada bagian ini, dilakukan proses penyimpanan model dan file-file lain yang terkait dengan hasil proses pembuatan model."
   ]
  },
  {
   "cell_type": "code",
   "execution_count": 95,
   "metadata": {},
   "outputs": [],
   "source": [
    "# Save the model as a serialized object\n",
    "with open('model.pkl', 'wb') as file:\n",
    "    pickle.dump(model, file)"
   ]
  }
 ],
 "metadata": {
  "kernelspec": {
   "display_name": "base",
   "language": "python",
   "name": "python3"
  },
  "language_info": {
   "codemirror_mode": {
    "name": "ipython",
    "version": 3
   },
   "file_extension": ".py",
   "mimetype": "text/x-python",
   "name": "python",
   "nbconvert_exporter": "python",
   "pygments_lexer": "ipython3",
   "version": "3.11.4"
  },
  "orig_nbformat": 4
 },
 "nbformat": 4,
 "nbformat_minor": 2
}
